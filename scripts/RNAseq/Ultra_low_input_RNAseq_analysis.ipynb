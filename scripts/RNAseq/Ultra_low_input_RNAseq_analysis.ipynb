{
 "cells": [
  {
   "cell_type": "markdown",
   "id": "be6b640f",
   "metadata": {},
   "source": [
    "# Ultra-low input RNAseq analysis"
   ]
  },
  {
   "cell_type": "markdown",
   "id": "694baa55",
   "metadata": {},
   "source": [
    "- Author: Agustín Sánchez-Belmonte\n",
    "- Date: 02/02/24\n",
    "- Project: miR-203 controls developmental timing and early fate restriction during preimplantation embryogenesis\n",
    "- Experiment: Ultra-low input RNAseq of Inhibitors and siRNAs against targets of MIR-203"
   ]
  },
  {
   "cell_type": "markdown",
   "id": "53f232f8",
   "metadata": {},
   "source": [
    "## INDEX"
   ]
  },
  {
   "cell_type": "markdown",
   "id": "0eb87390",
   "metadata": {},
   "source": [
    "0. Set up\n",
    "1. Load data\n",
    "2. Exploratory analysis\n",
    "3. Dimensional reduction\n",
    "4. Scores\n",
    "5. Differential expression"
   ]
  },
  {
   "cell_type": "markdown",
   "id": "0cc1490c",
   "metadata": {},
   "source": [
    "## 0. SET UP"
   ]
  },
  {
   "cell_type": "code",
   "execution_count": null,
   "id": "39c6d81d",
   "metadata": {},
   "outputs": [],
   "source": [
    "import os\n",
    "import numpy as np\n",
    "import pandas as pd\n",
    "import scanpy as sc\n",
    "import matplotlib.pyplot as plt\n",
    "import seaborn as sns\n",
    "\n",
    "import gseapy as gspy\n",
    "from bioinfokit import analys, visuz\n",
    "\n",
    "from matplotlib import rcParams"
   ]
  },
  {
   "cell_type": "code",
   "execution_count": null,
   "id": "e2393ea0",
   "metadata": {
    "scrolled": true
   },
   "outputs": [],
   "source": [
    "sc.set_figure_params(dpi=120, color_map='viridis')\n",
    "sc.settings.verbosity = 3\n",
    "sc.logging.print_header()\n",
    "rcParams['figure.figsize'] = 6, 6\n",
    "\n",
    "pal1 = [\"lightblue\", \"deepskyblue\", \"dodgerblue\", \"navajowhite\", \"darkorange\", \"orangered\"]\n",
    "\n",
    "sc.set_figure_params(dpi_save=500)"
   ]
  },
  {
   "cell_type": "markdown",
   "id": "95bfe505",
   "metadata": {},
   "source": [
    "## 1. LOAD DATA"
   ]
  },
  {
   "cell_type": "code",
   "execution_count": null,
   "id": "8e7aad49",
   "metadata": {},
   "outputs": [],
   "source": [
    "ad = sc.read(\"counts_withMERVL.tsv\", delimiter='\\t').T\n",
    "ad"
   ]
  },
  {
   "cell_type": "code",
   "execution_count": null,
   "id": "02cca872",
   "metadata": {},
   "outputs": [],
   "source": [
    "obs = pd.read_excel(\"metadata_231222.xlsx\", index_col='Sample')\n",
    "ad.obs = obs\n",
    "ad.obs"
   ]
  },
  {
   "cell_type": "code",
   "execution_count": null,
   "id": "021dc7f2",
   "metadata": {},
   "outputs": [],
   "source": [
    "# Separate between siRNAs and Inhibitors experiments for the analysis  \n",
    "ad_inh = ad[ad.obs.Experiment == 'Inhibitors']\n",
    "ad_sirna = ad[ad.obs.Experiment == 'SiRNAs']"
   ]
  },
  {
   "cell_type": "markdown",
   "id": "c7e5c607",
   "metadata": {},
   "source": [
    "# 2. EXPLORATORY ANALYSIS"
   ]
  },
  {
   "cell_type": "code",
   "execution_count": null,
   "id": "f29c1a6e",
   "metadata": {},
   "outputs": [],
   "source": [
    "# Filter out low-represented genes in samples\n",
    "sc.pp.filter_genes(ad_inh, min_cells=3)\n",
    "sc.pp.filter_genes(ad_sirna, min_cells=3)"
   ]
  },
  {
   "cell_type": "code",
   "execution_count": null,
   "id": "97aa818a",
   "metadata": {},
   "outputs": [],
   "source": [
    "sc.pl.highest_expr_genes(ad_inh, n_top=20)\n",
    "sc.pl.highest_expr_genes(ad_sirna, n_top=20)"
   ]
  },
  {
   "cell_type": "code",
   "execution_count": null,
   "id": "93dad7a6",
   "metadata": {},
   "outputs": [],
   "source": [
    "sc.pp.normalize_total(ad_inh, target_sum=1e4, inplace=True)\n",
    "sc.pp.normalize_total(ad_sirna, target_sum=1e4, inplace=True)"
   ]
  },
  {
   "cell_type": "code",
   "execution_count": null,
   "id": "c190dc16",
   "metadata": {},
   "outputs": [],
   "source": [
    "# Logarithm the data\n",
    "sc.pp.log1p(ad_inh)\n",
    "sc.pp.log1p(ad_sirna)"
   ]
  },
  {
   "cell_type": "code",
   "execution_count": null,
   "id": "3f8d8964",
   "metadata": {},
   "outputs": [],
   "source": [
    "# Compute highly-variable genes\n",
    "sc.pp.highly_variable_genes(ad_inh, min_mean=0.0125, max_mean=3, min_disp=0.5)\n",
    "# Plot\n",
    "sc.pl.highly_variable_genes(ad_inh) \n",
    "\n",
    "# Compute highly-variable genes\n",
    "sc.pp.highly_variable_genes(ad_sirna, min_mean=0.0125, max_mean=3, min_disp=0.5)\n",
    "# Plot\n",
    "sc.pl.highly_variable_genes(ad_sirna)"
   ]
  },
  {
   "cell_type": "code",
   "execution_count": null,
   "id": "3e466bdf",
   "metadata": {},
   "outputs": [],
   "source": [
    "ad_inh.raw = ad_inh\n",
    "ad_sirna.raw = ad_sirna"
   ]
  },
  {
   "cell_type": "code",
   "execution_count": null,
   "id": "659795a5",
   "metadata": {},
   "outputs": [],
   "source": [
    "sc.pp.scale(ad_inh, max_value=10)\n",
    "sc.pp.scale(ad_sirna, max_value=10)"
   ]
  },
  {
   "cell_type": "markdown",
   "id": "7eb9fefa",
   "metadata": {},
   "source": [
    "## 3. DIMENSIONAL REDUCTION"
   ]
  },
  {
   "cell_type": "code",
   "execution_count": null,
   "id": "922a5836",
   "metadata": {},
   "outputs": [],
   "source": [
    "# Compute PCA\n",
    "sc.tl.pca(ad_inh, svd_solver='auto')\n",
    "sc.tl.pca(ad_sirna, svd_solver='auto')"
   ]
  },
  {
   "cell_type": "code",
   "execution_count": null,
   "id": "eb435723",
   "metadata": {},
   "outputs": [],
   "source": [
    "sc.pl.pca_variance_ratio(ad_inh, log=False) \n",
    "sc.pl.pca_variance_ratio(ad_sirna, log=False) "
   ]
  },
  {
   "cell_type": "code",
   "execution_count": null,
   "id": "5c56667f",
   "metadata": {},
   "outputs": [],
   "source": [
    "sc.pl.pca(ad_inh, color=[\"Condition\", 'Condition_2'], size=100)\n",
    "sc.pl.pca(ad_sirna, color=[\"Condition\", 'Condition_2'], size=100)"
   ]
  },
  {
   "cell_type": "code",
   "execution_count": null,
   "id": "eb30d61e",
   "metadata": {},
   "outputs": [],
   "source": [
    "sc.pp.neighbors(ad, n_neighbors=6, n_pcs=7) #6 AND 5/!5\n",
    "sc.tl.umap(ad)"
   ]
  },
  {
   "cell_type": "code",
   "execution_count": null,
   "id": "a417295d",
   "metadata": {},
   "outputs": [],
   "source": [
    "sc.pl.umap(ad, color=[\"Condition\", 'Condition_2'], size=100)"
   ]
  },
  {
   "cell_type": "markdown",
   "id": "22c78ccd",
   "metadata": {},
   "source": [
    "## 4. SCORES"
   ]
  },
  {
   "cell_type": "markdown",
   "id": "8bd03280",
   "metadata": {},
   "source": [
    "Signatures included in Supplementary Table 1"
   ]
  },
  {
   "cell_type": "code",
   "execution_count": null,
   "id": "d5fec2ee",
   "metadata": {},
   "outputs": [],
   "source": [
    "two_cell = ['Zscan4c', 'Zscan4e', 'Spz1', 'Naalad2', 'Sp110', 'Pramef6', 'Fgf1', 'Bex6', 'Pramel7', 'Kdm4d', 'Zfp352', 'Sytl2', 'Oog4', 'Hmgn3', 'Hspa1b', 'Foxa1']\n",
    "eight_cell = ['Dppa3', 'Map1lc3b', 'Eloc', 'Gabarapl2', 'Timd2', 'Fbxo15', 'Gm11517', 'Calcoco2', 'Map1lc3a', 'Alppl2', 'Sat1', 'Pemt', 'Mt1', 'Ubxn1', 'Nudt4', 'Zfp706', 'Hprt', 'Sugt1', 'Pdxk', 'Gpd1l', 'Crxos', 'Ptma', 'Gm12617', 'Sumo2', 'Isyna1', 'Npm1', 'Bhmt', 'Rnf7', 'Obox6', 'Mt-rnr2', 'Eif2s2', 'Dnaja1', 'H3f3a', 'Cks2', 'Cited1', '2310040g24rik', 'Ube2c', 'Cd63', 'Pttg1ip', 'Timm17a', 'Mpc2', 'Gcsh', 'Mkrn1', 'Srp9', 'Sfn', 'Tomm5', 'Dnajb6', 'Timm23', 'Gulo', 'Alg13']\n",
    "EPI = ['Tfcp2l1','Tbx3','Prdm14','Nanog','Esrrb','Klf4','Nr5a2','Pou5f1','Sox2','Nr0b1','Tet2','Klf2','Fbxo15','Utf1','Upp1', 'Zfp42','Tet1','Tdgf1','Tcf15','Dppa5a']\n",
    "TE = ['Cdx2', 'Tspan8', 'Dppa1', 'Id2', 'Krt8', 'Gata3']\n",
    "PrE = ['Gata4', 'Gata6', 'Runx1', 'Pdgfra', 'Creb3l2']"
   ]
  },
  {
   "cell_type": "code",
   "execution_count": null,
   "id": "716268e0",
   "metadata": {},
   "outputs": [],
   "source": [
    "order_sir = ['siControl',\n",
    "              'siKat6a',\n",
    "              'siKat6b',\n",
    "              'siP300',\n",
    "              'siComb']\n",
    "\n",
    "order_inh = ['Veh',\n",
    "              'A485',\n",
    "              'TSA',\n",
    "            'SAHA']\n",
    "\n",
    "order_inh_2 = ['Veh',\n",
    "              'HAT_inh',\n",
    "             'HDAC_inh']"
   ]
  },
  {
   "cell_type": "code",
   "execution_count": null,
   "id": "700c4b02",
   "metadata": {},
   "outputs": [],
   "source": [
    "sc.tl.score_genes(ad_inh, two_cell,score_name='2-cell')\n",
    "sc.tl.score_genes(ad_inh, eight_cell,score_name='8-cell')\n",
    "sc.tl.score_genes(ad_inh, EPI,score_name='EPI')\n",
    "sc.tl.score_genes(ad_inh, TE,score_name='TE')\n",
    "sc.tl.score_genes(ad_inh, PrE,score_name='PrE')\n",
    "\n",
    "sc.tl.score_genes(ad_sirna, two_cell,score_name='2-cell')\n",
    "sc.tl.score_genes(ad_sirna, eight_cell,score_name='8-cell')\n",
    "sc.tl.score_genes(ad_sirna, EPI,score_name='EPI')\n",
    "sc.tl.score_genes(ad_sirna, TE,score_name='TE')\n",
    "sc.tl.score_genes(ad_sirna, PrE,score_name='PrE')"
   ]
  },
  {
   "cell_type": "code",
   "execution_count": null,
   "id": "f4150c5b",
   "metadata": {},
   "outputs": [],
   "source": [
    "sc.pl.dotplot(ad_inh, ['2-cell','8-cell','EPI','TE','PrE'], groupby=\"Condition_2\", standard_scale='var', categories_order = order_inh_2,save= '.png')\n",
    "sc.pl.dotplot(ad_sirna, ['2-cell','8-cell','EPI','TE','PrE'], groupby=\"Condition\", standard_scale='var',categories_order = order_sir,save= '2.png')"
   ]
  },
  {
   "cell_type": "code",
   "execution_count": null,
   "id": "a1846b98",
   "metadata": {},
   "outputs": [],
   "source": [
    "sc.pl.dotplot(ad_inh, ['MERVL-int','2-cell','8-cell','EPI','TE','PrE'], groupby=\"Condition\", standard_scale='var', categories_order = order_inh,save= '.png')\n",
    "sc.pl.dotplot(ad_sirna, ['MERVL-int','2-cell','8-cell','EPI','TE','PrE'], groupby=\"Condition\", standard_scale='var',categories_order = order_sir,save= '2.png')"
   ]
  },
  {
   "cell_type": "code",
   "execution_count": null,
   "id": "16493031",
   "metadata": {},
   "outputs": [],
   "source": [
    "sc.pl.dotplot(ad_inh, ['MERVL-int','2-cell','8-cell','EPI','TE','PrE'], groupby=\"Condition_2\", standard_scale='var',categories_order = order_inh_2, save= '.png')\n",
    "sc.pl.dotplot(ad_sirna, ['MERVL-int','2-cell','8-cell','EPI','TE','PrE'], groupby=\"Condition_2\", standard_scale='var',categories_order = order_sir, save= '2.png')"
   ]
  },
  {
   "cell_type": "code",
   "execution_count": null,
   "id": "2fc07ddf",
   "metadata": {},
   "outputs": [],
   "source": [
    "sc.pl.dotplot(ad_inh, ['MERVL-int'], groupby=\"Condition_2\", standard_scale='var',categories_order = order_inh_2, save= '.png') #'MERVL_2A-int'\n",
    "sc.pl.dotplot(ad_sirna, ['MERVL-int'], groupby=\"Condition\", standard_scale='var',categories_order = order_sir, save= '2.png')"
   ]
  },
  {
   "cell_type": "code",
   "execution_count": null,
   "id": "295932b1",
   "metadata": {},
   "outputs": [],
   "source": [
    "# WITHOUT UNKNOWN GENES\n",
    "two_cell = ['Zscan4c', 'Zscan4e', 'Spz1', 'Naalad2', 'Sp110', 'Pramef6', 'Fgf1', 'Bex6', 'Pramel7', 'Kdm4d', 'Zfp352', 'Sytl2', 'Oog4', 'Hmgn3', 'Hspa1b', 'Foxa1']\n",
    "eight_cell = ['Dppa3', 'Eloc', 'Gabarapl2', 'Timd2', 'Fbxo15', 'Gm11517', 'Calcoco2', 'Map1lc3a', 'Alppl2', 'Sat1', 'Pemt', 'Mt1', 'Ubxn1', 'Nudt4', 'Zfp706', 'Hprt', 'Sugt1', 'Pdxk', 'Gpd1l', 'Crxos', 'Ptma', 'Gm12617', 'Sumo2', 'Isyna1', 'Npm1', 'Bhmt', 'Rnf7', 'Obox6', 'Eif2s2', 'Dnaja1', 'H3f3a', 'Cks2', 'Cited1', 'Ube2c', 'Cd63', 'Pttg1ip', 'Timm17a', 'Mpc2', 'Gcsh', 'Mkrn1', 'Srp9', 'Sfn', 'Tomm5', 'Dnajb6', 'Timm23', 'Gulo', 'Alg13']\n",
    "EPI = ['Tfcp2l1','Tbx3','Prdm14','Nanog','Esrrb','Klf4','Nr5a2','Pou5f1','Tet2','Klf2','Fbxo15','Utf1','Upp1', 'Zfp42','Tet1','Tdgf1','Tcf15','Dppa5a']\n",
    "TE = ['Cdx2', 'Tspan8', 'Dppa1', 'Id2', 'Krt8', 'Gata3']\n",
    "PrE = ['Gata4', 'Gata6', 'Runx1', 'Pdgfra', 'Creb3l2']"
   ]
  },
  {
   "cell_type": "code",
   "execution_count": null,
   "id": "e15c2f41",
   "metadata": {},
   "outputs": [],
   "source": [
    "DICT = {'MERVL':'MERVL-int','2-cell':two_cell,'8-cell':eight_cell,'EPI':EPI,'TE':TE,'PrE':PrE}"
   ]
  },
  {
   "cell_type": "code",
   "execution_count": null,
   "id": "248c4232",
   "metadata": {},
   "outputs": [],
   "source": [
    "sc.pl.dotplot(ad_inh, DICT, groupby='Condition', standard_scale='var', categories_order = order_inh, save= '.png')\n",
    "sc.pl.dotplot(ad_inh, DICT, groupby='Condition_2', standard_scale='var',categories_order = order_inh_2, save= '2.png')\n",
    "sc.pl.dotplot(ad_sirna, DICT, groupby='Condition', standard_scale='var',categories_order = order_sir, save= '3.png')"
   ]
  },
  {
   "cell_type": "code",
   "execution_count": null,
   "id": "af92eae6",
   "metadata": {},
   "outputs": [],
   "source": [
    "# Reordering leiden labels using Categorical data type\n",
    "ad_inh.obs['Condition'] = ad_inh.obs['Condition'].cat.reorder_categories(list(order_inh), ordered=True)\n",
    "ad_inh.obs['Condition_2'] = ad_inh.obs['Condition_2'].cat.reorder_categories(list(order_inh_2), ordered=True)\n",
    "ad_sirna.obs['Condition'] = ad_sirna.obs['Condition'].cat.reorder_categories(list(order_sir), ordered=True)"
   ]
  },
  {
   "cell_type": "code",
   "execution_count": null,
   "id": "742d105d",
   "metadata": {},
   "outputs": [],
   "source": [
    "# cut eight cell signature\n",
    "DICT_2 = {'MERVL':'MERVL-int','2-cell':two_cell,'8-cell':eight_cell[1:20],'EPI':EPI,'TE':TE,'PrE':PrE}"
   ]
  },
  {
   "cell_type": "code",
   "execution_count": null,
   "id": "c02b2d14",
   "metadata": {},
   "outputs": [],
   "source": [
    "sc.set_figure_params( fontsize=60, dpi_save=300)\n",
    "\n",
    "sc.pl.heatmap(ad_inh, DICT_2, groupby='Condition', standard_scale='var',show_gene_labels=True, save= '.png',figsize=(50, 10))\n",
    "sc.pl.heatmap(ad_inh, DICT_2, groupby='Condition_2', standard_scale='var',show_gene_labels=True, save= '2.png',figsize=(50, 10))\n",
    "sc.pl.heatmap(ad_sirna, DICT_2, groupby='Condition', standard_scale='var',show_gene_labels=True, save= '3.png',figsize=(50, 10))"
   ]
  },
  {
   "cell_type": "markdown",
   "id": "f9b9e00e",
   "metadata": {},
   "source": [
    "### 2 cell only + MERVL-int"
   ]
  },
  {
   "cell_type": "code",
   "execution_count": null,
   "id": "b7623301",
   "metadata": {},
   "outputs": [],
   "source": [
    "sc.pl.heatmap(ad_inh, ['MERVL-int'] +two_cell, groupby='Condition',standard_scale='var', save= '.png')\n",
    "sc.pl.heatmap(ad_inh, ['MERVL-int'] +two_cell, groupby='Condition_2',standard_scale='var', save= '2.png')\n",
    "sc.pl.heatmap(ad_sirna, ['MERVL-int'] +two_cell, groupby='Condition',standard_scale='var', save= '3.png')"
   ]
  },
  {
   "cell_type": "markdown",
   "id": "26bef9ae",
   "metadata": {},
   "source": [
    "### MERVL only"
   ]
  },
  {
   "cell_type": "code",
   "execution_count": null,
   "id": "e02e8c4a",
   "metadata": {},
   "outputs": [],
   "source": [
    "sc.pl.heatmap(ad_inh, ['MERVL-int'], groupby='Condition',standard_scale='var')\n",
    "sc.pl.heatmap(ad_inh, ['MERVL-int'], groupby='Condition_2',standard_scale='var')\n",
    "sc.pl.heatmap(ad_sirna, ['MERVL-int'], groupby='Condition',standard_scale='var')"
   ]
  },
  {
   "cell_type": "markdown",
   "id": "edb0f103",
   "metadata": {},
   "source": [
    "## 5. DIFFERENTIAL EXPRESSION"
   ]
  },
  {
   "cell_type": "code",
   "execution_count": null,
   "id": "68b467a4",
   "metadata": {},
   "outputs": [],
   "source": [
    "sc.tl.rank_genes_groups(ad_inh, 'Condition', reference='Veh',method='t-test')"
   ]
  },
  {
   "cell_type": "code",
   "execution_count": null,
   "id": "0f89e88a",
   "metadata": {},
   "outputs": [],
   "source": [
    "sc.pl.rank_genes_groups(ad_inh)"
   ]
  },
  {
   "cell_type": "code",
   "execution_count": null,
   "id": "4c4b7673",
   "metadata": {},
   "outputs": [],
   "source": [
    "sc.tl.rank_genes_groups(ad_sirna, 'Condition', reference='siControl',method='t-test')"
   ]
  },
  {
   "cell_type": "code",
   "execution_count": null,
   "id": "92392b2b",
   "metadata": {},
   "outputs": [],
   "source": [
    "sc.pl.rank_genes_groups(ad_sirna)"
   ]
  }
 ],
 "metadata": {
  "kernelspec": {
   "display_name": "Python 3 (ipykernel)",
   "language": "python",
   "name": "python3"
  },
  "language_info": {
   "codemirror_mode": {
    "name": "ipython",
    "version": 3
   },
   "file_extension": ".py",
   "mimetype": "text/x-python",
   "name": "python",
   "nbconvert_exporter": "python",
   "pygments_lexer": "ipython3",
   "version": "3.8.12"
  }
 },
 "nbformat": 4,
 "nbformat_minor": 5
}
