{
 "cells": [
  {
   "cell_type": "markdown",
   "id": "9fb15f58-67a9-45b3-95a6-1a974808bdbf",
   "metadata": {},
   "source": [
    "# B1. Downstream analysis"
   ]
  },
  {
   "cell_type": "markdown",
   "id": "6af959ef",
   "metadata": {},
   "source": [
    "- Authors: Marcos Malumbres & Agustín Sánchez-Belmonte\n",
    "- Project: miR-203 controls developmental timing and early fate restriction during preimplantation embryogenesis\n",
    "- Experiment: single cell RNAseq in early embryos (E3.5 and E4.5) in KO, KI and WT conditions.\n",
    "- Part: B1. Downstream analysis"
   ]
  },
  {
   "cell_type": "markdown",
   "id": "8362440e-e238-4fa2-9ebb-a1c57be3fa22",
   "metadata": {},
   "source": [
    "This notebook use the output h5ad file from Part A. \n",
    "\n",
    "It is very similar to B2 Part, but here there are important analysis like:\n",
    "\n",
    "- Clustering\n",
    "- Scoring of signatures\n",
    "- Classification of cells\n",
    "- Add of MERVL data\n",
    "- Velocity\n",
    "\n",
    "All saved in the new data file `mir203_all.h5ad` added as \n",
    "supplementary file in GEO."
   ]
  },
  {
   "cell_type": "markdown",
   "id": "47fc1608-5299-41b6-9250-10adb3115013",
   "metadata": {},
   "source": [
    "### Content\n",
    "\n",
    "0. Set up\n",
    "1. Initial Exploratory Analysis\n",
    "2. Markers and Gene Signature Scores\n",
    "3. Clustering\n",
    "4. Classification of cells\n",
    "5. Add MERVL\n",
    "6. miR203_KO vs. Control\n",
    "7. miR203_KI vs. Control\n",
    "8. Velocity and Pseudotime\n",
    "9. Save modified .h5ad file\n"
   ]
  },
  {
   "cell_type": "markdown",
   "id": "7eeb33dd",
   "metadata": {},
   "source": [
    "# 0. Set up"
   ]
  },
  {
   "cell_type": "code",
   "execution_count": null,
   "id": "20de4661-e9fc-4be2-b29a-4782766d24f3",
   "metadata": {},
   "outputs": [],
   "source": [
    "import numpy as np\n",
    "import pandas as pd\n",
    "import scanpy as sc\n",
    "import matplotlib.pyplot as plt\n",
    "import seaborn as sns\n",
    "\n",
    "from matplotlib import rcParams"
   ]
  },
  {
   "cell_type": "code",
   "execution_count": null,
   "id": "a9fa6216-ed68-4e81-a3e5-167701a82853",
   "metadata": {},
   "outputs": [],
   "source": [
    "# Settings\n",
    "sc.settings.verbosity = 0\n",
    "sc.logging.print_header()\n",
    "sc.set_figure_params(dpi=120, color_map='viridis', dpi_save=300)\n",
    "sc.set_figure_params(figsize=[5,4])\n",
    "\n",
    "DATA = '/Users/mmalumbres/Library/CloudStorage/OneDrive-VHIO/BioInformatics/BioProjects/miR203 & early embryos/data/'\n",
    "DESKTOP = '/Users/mmalumbres/Desktop/'\n",
    "sc.settings.figdir = DESKTOP"
   ]
  },
  {
   "cell_type": "code",
   "execution_count": null,
   "id": "ee8160a6-5e64-441e-8889-f9689b8f9f61",
   "metadata": {},
   "outputs": [],
   "source": [
    "import warnings   \n",
    "warnings.filterwarnings(\"ignore\")"
   ]
  },
  {
   "cell_type": "code",
   "execution_count": null,
   "id": "a42db345-dfad-4094-b0c4-738d9e2f0495",
   "metadata": {},
   "outputs": [],
   "source": [
    "sns.__version__"
   ]
  },
  {
   "cell_type": "code",
   "execution_count": null,
   "id": "3630ef01-1da6-43ac-8111-eb500b5317d5",
   "metadata": {},
   "outputs": [],
   "source": [
    "# Lists and filters\n",
    "pal1 = [\"lightblue\", \"deepskyblue\", \"dodgerblue\", \"navajowhite\", \"darkorange\", \"orangered\"]"
   ]
  },
  {
   "cell_type": "markdown",
   "id": "4b3c000b-daa2-4154-b5cf-6b5744ee1802",
   "metadata": {},
   "source": [
    "### Load all data"
   ]
  },
  {
   "cell_type": "code",
   "execution_count": null,
   "id": "f3f17f52-f39b-4d6e-8433-0836cb05a30d",
   "metadata": {},
   "outputs": [],
   "source": [
    "adata = sc.read(DATA + \"231002_mir203.h5ad\")\n",
    "adata.obs_names_make_unique()\n",
    "adata"
   ]
  },
  {
   "cell_type": "code",
   "execution_count": null,
   "id": "edf61b58-846e-4dce-89fd-d99ab2393d47",
   "metadata": {},
   "outputs": [],
   "source": [
    "adata.obs.head(2)"
   ]
  },
  {
   "cell_type": "code",
   "execution_count": null,
   "id": "74b82dc7-226e-4123-8f1b-36fe98c368ce",
   "metadata": {},
   "outputs": [],
   "source": [
    "adata.obs = adata.obs.rename(columns={\"Phenotype\": \"Sample\"})"
   ]
  },
  {
   "cell_type": "code",
   "execution_count": null,
   "id": "cbdedfc5-5b3f-4141-9438-530608c9dbb3",
   "metadata": {},
   "outputs": [],
   "source": [
    "adata.obs.Sample.unique()"
   ]
  },
  {
   "cell_type": "code",
   "execution_count": null,
   "id": "5073ed5b-4ba7-4642-b494-65e388be9e2c",
   "metadata": {},
   "outputs": [],
   "source": [
    "adata.obs.Sample = adata.obs.Sample.str.replace(\"3_5\", \"3.5\")\n",
    "adata.obs.Sample = adata.obs.Sample.str.replace(\"4_5\", \"4.5\")\n",
    "adata.obs.Experiment = adata.obs.Experiment.str.replace(\"3_5\", \"3.5\")\n",
    "adata.obs.Experiment = adata.obs.Experiment.str.replace(\"4_5\", \"4.5\")\n",
    "adata.obs.Stage = adata.obs.Stage.str.replace(\"3_5\", \"3.5\")\n",
    "adata.obs.Stage = adata.obs.Stage.str.replace(\"4_5\", \"4.5\")\n",
    "adata.obs.head(2)"
   ]
  },
  {
   "cell_type": "code",
   "execution_count": null,
   "id": "75f28cfd-00b4-486a-8488-c3330ccb7b7b",
   "metadata": {},
   "outputs": [],
   "source": [
    "sc.pl.umap(adata, color=[\"Stage\", \"Treatment\", \"Sample\"])"
   ]
  },
  {
   "cell_type": "code",
   "execution_count": null,
   "id": "db9e2036-ccb9-4d90-966d-b6ee849d6508",
   "metadata": {},
   "outputs": [],
   "source": []
  },
  {
   "cell_type": "markdown",
   "id": "22ad7036-4a01-49bb-8986-4a7df6e6edb0",
   "metadata": {},
   "source": [
    "# 1. Initial Exploratory Analysis"
   ]
  },
  {
   "cell_type": "code",
   "execution_count": null,
   "id": "1d0ac20b-8ea7-4fd9-9846-5c773e00378f",
   "metadata": {},
   "outputs": [],
   "source": [
    "sc.pl.violin(adata, ['n_genes_by_counts', 'total_counts'], vmax=[8000, 10000], jitter=0.4, multi_panel=True)"
   ]
  },
  {
   "cell_type": "code",
   "execution_count": null,
   "id": "41da9035-10e3-4677-ab98-53e7eeaa4a2b",
   "metadata": {},
   "outputs": [],
   "source": [
    "fig, ax = plt.subplots()\n",
    "sc.pl.violin(adata, ['total_counts'], rotation=90, jitter=0.4, ax=ax, show=False)\n",
    "ax.set_ylim(10, 1000)\n",
    "plt.show()"
   ]
  },
  {
   "cell_type": "code",
   "execution_count": null,
   "id": "b9a838b2-318a-4d60-a308-e3f398b6695a",
   "metadata": {},
   "outputs": [],
   "source": [
    "adata.obs.total_counts.min()"
   ]
  },
  {
   "cell_type": "code",
   "execution_count": null,
   "id": "090defe6-64e7-4c72-828f-cefe3967e66a",
   "metadata": {},
   "outputs": [],
   "source": [
    "sc.pl.umap(adata, color=[\"n_genes\", \"Sample\"])"
   ]
  },
  {
   "cell_type": "code",
   "execution_count": null,
   "id": "b98e94bb-05f7-4de5-a70a-58f0aefd0232",
   "metadata": {},
   "outputs": [],
   "source": [
    "adata.obs.Sample.value_counts()"
   ]
  },
  {
   "cell_type": "code",
   "execution_count": null,
   "id": "3d10e9d8-cef2-4666-8ff6-2316d7722fa1",
   "metadata": {},
   "outputs": [],
   "source": [
    "sns.countplot(data=adata.obs, x=\"Sample\")\n",
    "plt.xticks(rotation=45)"
   ]
  },
  {
   "cell_type": "code",
   "execution_count": null,
   "id": "07ec4cda-301b-4e35-a864-f9ba01175b5c",
   "metadata": {},
   "outputs": [],
   "source": [
    "sns.countplot(data=adata.obs, x=\"Stage\")"
   ]
  },
  {
   "cell_type": "code",
   "execution_count": null,
   "id": "aa55a621-4d52-4254-ae45-9a6f7f09aeef",
   "metadata": {},
   "outputs": [],
   "source": [
    "sns.countplot(data=adata.obs, x=\"Treatment\")"
   ]
  },
  {
   "cell_type": "code",
   "execution_count": null,
   "id": "34cd9243-6c73-445d-915b-0f493a4a0076",
   "metadata": {},
   "outputs": [],
   "source": [
    "sns.__version__"
   ]
  },
  {
   "cell_type": "raw",
   "id": "ee1aedee-0d38-471e-8566-4edf5031c5bf",
   "metadata": {},
   "source": [
    "# Does not work with seaborn 0.11.2\n",
    "# This is very weird --- not clear why!!\n",
    "sc.pl.highest_expr_genes(adata, n_top=20)  #save=\"_Fig.01.png\""
   ]
  },
  {
   "cell_type": "code",
   "execution_count": null,
   "id": "11e5af3c-8215-4518-80f2-92a3a6e5c60a",
   "metadata": {},
   "outputs": [],
   "source": [
    "#Plot distribution of mitochondrial and ribosomal genes\n",
    "sc.pl.violin(adata, ['n_genes_by_counts', 'total_counts', 'pct_counts_MT','pct_counts_RB'], groupby='Experiment',\n",
    "             jitter=0.4, multi_panel=True, rotation=90)"
   ]
  },
  {
   "cell_type": "code",
   "execution_count": null,
   "id": "a1acde20-ae36-4cab-8830-560088387ced",
   "metadata": {},
   "outputs": [],
   "source": [
    "# Plot mitochondrial genes expressed\n",
    "sc.pl.scatter(adata, x='total_counts', y='pct_counts_MT', size=100)\n",
    "# Plot total counts\n",
    "sc.pl.scatter(adata, x='total_counts', y='pct_counts_RB', size=100)\n",
    "sc.pl.scatter(adata, x='total_counts', y='n_genes_by_counts', size=100)"
   ]
  },
  {
   "cell_type": "code",
   "execution_count": null,
   "id": "b53cb724-d93a-41be-b7f0-d1c3ad722d49",
   "metadata": {},
   "outputs": [],
   "source": [
    "sc.pl.pca(adata, color=[\"Stage\", 'Treatment', \"Sample\", ])"
   ]
  },
  {
   "cell_type": "code",
   "execution_count": null,
   "id": "353fa434-e51b-4547-8b19-a9faf3888b79",
   "metadata": {},
   "outputs": [],
   "source": [
    "sc.pl.umap(adata, color=[\"Stage\", 'Treatment', \"Sample\"])"
   ]
  },
  {
   "cell_type": "code",
   "execution_count": null,
   "id": "6229ec45-1aeb-4d8a-be6a-503d489e4ffe",
   "metadata": {},
   "outputs": [],
   "source": [
    "sc.pl.umap(adata, color=['Sample'], s=30, #save='_KO.png', \n",
    "           palette={\"E3.5\": \"DEEPSKYBLUE\", \"E3.5_KO\": \"DARKBLUE\", \"E3.5_dox\": \"BLUE\",\n",
    "                    \"E4.5\": \"GREENYELLOW\", \"E4.5_KO\": \"DARKGREEN\", \"E4.5_dox\": \"LIMEGREEN\"})"
   ]
  },
  {
   "cell_type": "code",
   "execution_count": null,
   "id": "8edaa683-ee62-4583-a235-b57b78251d5f",
   "metadata": {},
   "outputs": [],
   "source": [
    "sc.pl.umap(adata, color=[\"Stage\", 'Treatment', \"Sample\", ])"
   ]
  },
  {
   "cell_type": "code",
   "execution_count": null,
   "id": "63f0ec0a-8c55-40fb-9298-2f64af815b83",
   "metadata": {},
   "outputs": [],
   "source": [
    "sc.pl.umap(adata, color=['total_counts', 'pct_counts_MT','pct_counts_RB'], palette=\"Set2\", color_map= plt.cm.Purples)"
   ]
  },
  {
   "cell_type": "markdown",
   "id": "a955b599-fd18-4773-8fa6-e82acecf8b95",
   "metadata": {},
   "source": [
    "# 2. Markers  "
   ]
  },
  {
   "cell_type": "markdown",
   "id": "aa9f8c0f-8120-4f39-934e-6261c52fda90",
   "metadata": {},
   "source": [
    "Initial exploration\n",
    "- ICM/Epiblast markers: `['Pou5f1', 'Klf4', 'Nanog']`\n",
    "- Hypoblast markers: `['Gata6', 'Gata4', 'Sox17']`  \n",
    "- Trophectoderm markers: `['Cdx2', 'Gata3', 'Krt8']`\n"
   ]
  },
  {
   "cell_type": "code",
   "execution_count": null,
   "id": "b0ea9581-a299-49e5-a167-b869fa4cb9ce",
   "metadata": {},
   "outputs": [],
   "source": [
    "sc.pl.umap(adata, size=100,color=['Pou5f1', 'Klf4', 'Nanog'],palette=\"Set2\", color_map= plt.cm.Purples,) #save = '_Epiblast_ICM.png'"
   ]
  },
  {
   "cell_type": "code",
   "execution_count": null,
   "id": "e7331a3c-5615-45eb-8acd-16484f48db3e",
   "metadata": {},
   "outputs": [],
   "source": [
    "sc.pl.umap(adata, size=100,color=['Cdx2', 'Gata3', 'Krt8'],palette=\"Set2\", color_map= plt.cm.Purples,) #save = '_TE_mark.png'"
   ]
  },
  {
   "cell_type": "code",
   "execution_count": null,
   "id": "5a909b35-ae15-4f12-87c9-7fba498aea29",
   "metadata": {},
   "outputs": [],
   "source": [
    "sc.pl.umap(adata, size=100,color=['Gata6', 'Gata4', 'Sox17'],palette=\"Set2\", color_map= plt.cm.Purples,) #save = '_Hipoblast.png'"
   ]
  },
  {
   "cell_type": "code",
   "execution_count": null,
   "id": "61d56c2a-db64-4325-aa98-a97b610ce6d9",
   "metadata": {},
   "outputs": [],
   "source": []
  },
  {
   "cell_type": "markdown",
   "id": "f2346c6d-a06a-4d33-a07f-5e0ebdf1e2de",
   "metadata": {},
   "source": [
    "# 3. Gene Signatures"
   ]
  },
  {
   "cell_type": "markdown",
   "id": "35e6269c",
   "metadata": {},
   "source": [
    "Supplementary Table 1. Gene signatures used in this work."
   ]
  },
  {
   "cell_type": "code",
   "execution_count": null,
   "id": "10311431-084c-46ca-ab53-d2400cbcf616",
   "metadata": {},
   "outputs": [],
   "source": [
    "signature_folder = \"/Users/mmalumbres/Library/CloudStorage/OneDrive-VHIO/BioInformatics/BioProjects/miR203 & early embryos/resources/Signatures/\""
   ]
  },
  {
   "cell_type": "markdown",
   "id": "981ab404-2f27-4b9b-b299-7984fbdf23d2",
   "metadata": {},
   "source": [
    "#### 2-cell stage"
   ]
  },
  {
   "cell_type": "code",
   "execution_count": null,
   "id": "4e12ac6b-8c5a-4bf0-8c77-6d6ab4f8250a",
   "metadata": {},
   "outputs": [],
   "source": [
    "# https://www.ncbi.nlm.nih.gov/pmc/articles/PMC5755687/\n",
    "two_cell_16 = [\"Zscan4c\", \"Zscan4e\", \"Spz1\", \"Naalad2\", \"Sp110\", \"Pramef6\", \"Fgf1\", \"Bex6\", \"Pramel7\", \"Kdm4d\", \"Zfp352\", \"Sytl2\",\n",
    "           \"Oog4\", \"Hmgn3\", \"Hspa1b\", \"Foxa1\"]\n",
    "print(\"Length two_cell_16:\", len(two_cell_16))"
   ]
  },
  {
   "cell_type": "markdown",
   "id": "e1d0bb24-83a9-4a37-b5dc-9ef984693025",
   "metadata": {},
   "source": [
    "#### 8-cell-like"
   ]
  },
  {
   "cell_type": "code",
   "execution_count": null,
   "id": "7a481b34-91be-45f6-868d-225e38edeb05",
   "metadata": {},
   "outputs": [],
   "source": [
    "# This signature is obtained from E2.5 WT (our unpublished data)\n",
    "tmp = pd.read_csv(signature_folder + \"8_cell.tsv\", sep=\"\\t\")\n",
    "tmp = tmp.astype(str)\n",
    "eight_cell = tmp[\"E2_5\"].tolist()\n",
    "eight_cell = [x. capitalize() for x in eight_cell if x != 'nan']\n",
    "print(\"Length eight_cell:\", len(eight_cell))"
   ]
  },
  {
   "cell_type": "markdown",
   "id": "005d76e8",
   "metadata": {},
   "source": [
    "#### EPI"
   ]
  },
  {
   "cell_type": "code",
   "execution_count": null,
   "id": "84ce623f",
   "metadata": {},
   "outputs": [],
   "source": [
    "naive_pluri = ['Tfcp2l1','Tbx3','Prdm14','Nanog','Esrrb','Klf4','Nr5a2','Pou5f1','Sox2','Nr0b1','Tet2','Klf2','Fbxo15','Utf1','Upp1',\n",
    "               'Zfp42','Tet1','Tdgf1','Tcf15','Dppa5a']\n",
    "print(\"Length naive_pluri:\", len(naive_pluri))"
   ]
  },
  {
   "cell_type": "markdown",
   "id": "63702d4d-f1ca-48e4-89e5-65683ec4961f",
   "metadata": {},
   "source": [
    "#### TE and prE"
   ]
  },
  {
   "cell_type": "code",
   "execution_count": null,
   "id": "8cb4557b-d620-49a2-9c70-51f515fb37f6",
   "metadata": {},
   "outputs": [],
   "source": [
    "# paper Guo et al., Cell\n",
    "TE_Guo = [\"Cdx2\", \"Tspan8\", \"Dppa1\", \"Id2\", \"Krt8\", \"Gata3\"]\n",
    "print(\"Length TE_Guo:\", len(TE_Guo))\n",
    "\n",
    "prE_Guo = [\"Gata4\", \"Gata6\", \"Runx1\", \"Pdgfra\", \"Creb3l2\"]\n",
    "print(\"Length prE_Guo:\", len(prE_Guo))"
   ]
  },
  {
   "cell_type": "markdown",
   "id": "e8acf8cb-bc78-4f89-8134-9443b4e82517",
   "metadata": {},
   "source": [
    "### Score gene signatures"
   ]
  },
  {
   "cell_type": "code",
   "execution_count": null,
   "id": "39b8e2a0-09a1-4b04-a621-650fa359a8b5",
   "metadata": {},
   "outputs": [],
   "source": [
    "# 2-cell like\n",
    "sc.tl.score_genes(adata, two_cell_16, score_name='2-cell-like')\n",
    "\n",
    "# 8-cell like\n",
    "sc.tl.score_genes(adata, eight_cell, score_name='8-cell-like')\n",
    "\n",
    "# Epiblast & ICM\n",
    "sc.tl.score_genes(adata, naive_pluri, score_name='EPI')\n",
    "\n",
    "# Throphoectoderm\n",
    "sc.tl.score_genes(adata, TE_Guo, score_name='TE')\n",
    "\n",
    "# Primitive endoderm\n",
    "sc.tl.score_genes(adata, prE_Guo, score_name='prE')"
   ]
  },
  {
   "cell_type": "markdown",
   "id": "a9e541b6-1df3-4c58-86f2-367d172d8f0c",
   "metadata": {},
   "source": [
    "Select:\n",
    "- `2-cell-like`: very specific of 2-cell/totipotent cells\n",
    "- `8-cell-like`: 8-cell 50 genes\n",
    "- `EPI`: Epiblast and ICM lineage\n",
    "- `TE`: throphoectoderm, very similar to TE_3\n",
    "- `prE`: primmitive endoderm"
   ]
  },
  {
   "cell_type": "code",
   "execution_count": null,
   "id": "5174cc56",
   "metadata": {},
   "outputs": [],
   "source": [
    "sc.pl.umap(adata, size=100, color=['2-cell-like', '8-cell-like', 'EPI', 'TE', \"prE\"],\n",
    "           palette=\"Set2\", color_map= plt.cm.Purples,)"
   ]
  },
  {
   "cell_type": "markdown",
   "id": "b65759c1-844a-4e00-a8e4-0004a3d830c2",
   "metadata": {},
   "source": [
    "## 3. Clustering"
   ]
  },
  {
   "cell_type": "code",
   "execution_count": null,
   "id": "21d6f4ca-5d8f-4c04-9afc-c98201aedda6",
   "metadata": {},
   "outputs": [],
   "source": [
    "sc.tl.leiden(adata, resolution= 0.1)"
   ]
  },
  {
   "cell_type": "code",
   "execution_count": null,
   "id": "83acf974-d5eb-47f7-b5c8-84b972ba5672",
   "metadata": {},
   "outputs": [],
   "source": [
    "sc.pl.umap(adata, color=[\"leiden\", \"Treatment\", \"Sample\"])"
   ]
  },
  {
   "cell_type": "code",
   "execution_count": null,
   "id": "60f4c3fe-2b86-4e11-8324-a6d7c6c0194e",
   "metadata": {},
   "outputs": [],
   "source": [
    "adata.obs.leiden.dtype"
   ]
  },
  {
   "cell_type": "code",
   "execution_count": null,
   "id": "0eccc3ac-01c2-4014-8ee0-2ab7eddbef90",
   "metadata": {},
   "outputs": [],
   "source": [
    "new_cluster_names = ['E4.5_TE', 'E4.5_PrE', 'E4.5_Epi', 'E3.5_ICM', 'E4.5_preTE', 'E3.5_Mixed', \"E3.5_TE\"]\n",
    "adata.obs[\"leiden_groups\"] = adata.obs[\"leiden\"]\n",
    "adata.rename_categories('leiden_groups', new_cluster_names)"
   ]
  },
  {
   "cell_type": "code",
   "execution_count": null,
   "id": "ff67cf4e-a37f-4521-b23c-6de6fd92613e",
   "metadata": {},
   "outputs": [],
   "source": [
    "sc.pl.umap(adata, color='leiden_groups', legend_loc='on data', title='', frameon=True, ) \n",
    "sc.pl.umap(adata, color='leiden_groups',) #save='_ANNO_nolabels.png'"
   ]
  },
  {
   "cell_type": "markdown",
   "id": "72afea05-b947-421d-b657-11b7af04a3d3",
   "metadata": {},
   "source": [
    "## 4. Classify based on developmental markers"
   ]
  },
  {
   "cell_type": "markdown",
   "id": "1d04426d-bc50-43d5-a284-f744469a3cb2",
   "metadata": {},
   "source": [
    "### Classify using scaled data and highest score"
   ]
  },
  {
   "cell_type": "code",
   "execution_count": null,
   "id": "19b61c2d-3e69-4fb9-92f4-3ae7bec7e0cb",
   "metadata": {},
   "outputs": [],
   "source": [
    "import numpy as np\n",
    "from sklearn.preprocessing import MinMaxScaler"
   ]
  },
  {
   "cell_type": "code",
   "execution_count": null,
   "id": "d6031f76-8060-402d-900d-ecd2ca30c621",
   "metadata": {},
   "outputs": [],
   "source": [
    "scaler = MinMaxScaler()"
   ]
  },
  {
   "cell_type": "code",
   "execution_count": null,
   "id": "f5c7c9e9-0ad6-4d9a-970e-56901043975e",
   "metadata": {},
   "outputs": [],
   "source": [
    "df = adata.obs[[\"2-cell-like\", \"8-cell-like\", \"EPI\", \"TE\", \"prE\"]]"
   ]
  },
  {
   "cell_type": "code",
   "execution_count": null,
   "id": "fa92c73a-2238-4902-9e02-b2b43d5fe039",
   "metadata": {},
   "outputs": [],
   "source": [
    "df_scaled = scaler.fit_transform(df.to_numpy())\n",
    "df_scaled = pd.DataFrame(df_scaled, columns=[\"2-cell-like\", \"8-cell-like\", \"EPI\", \"TE\", \"prE\"])\n",
    " \n",
    "print(\"Scaled Dataset Using MinMaxScaler\")\n",
    "df_scaled.head()"
   ]
  },
  {
   "cell_type": "code",
   "execution_count": null,
   "id": "1334c29a-9107-4028-8349-b22e86197d2a",
   "metadata": {},
   "outputs": [],
   "source": [
    "df.describe()"
   ]
  },
  {
   "cell_type": "code",
   "execution_count": null,
   "id": "a321b355-a81f-4b2b-be14-13c4132a611b",
   "metadata": {},
   "outputs": [],
   "source": [
    "df_scaled.describe()"
   ]
  },
  {
   "cell_type": "code",
   "execution_count": null,
   "id": "47565cb7-4390-4bd2-b096-011e4d599817",
   "metadata": {},
   "outputs": [],
   "source": [
    "df_scaled[\"2-cell-like\"]"
   ]
  },
  {
   "cell_type": "code",
   "execution_count": null,
   "id": "59945433-86f9-4d65-8ba6-90c97f9d4605",
   "metadata": {},
   "outputs": [],
   "source": [
    "df_scaled[\"2-cell-like\"] = df_scaled[\"2-cell-like\"]*1.5"
   ]
  },
  {
   "cell_type": "code",
   "execution_count": null,
   "id": "7bca416e-fe74-48a7-a7a1-577dc97d5369",
   "metadata": {},
   "outputs": [],
   "source": [
    "adata.obs[\"2-cell-like_scaled\"] = df_scaled[\"2-cell-like\"].tolist()\n",
    "adata.obs[\"8-cell-like_scaled\"] = df_scaled[\"8-cell-like\"].tolist()\n",
    "adata.obs[\"EPI_scaled\"] = df_scaled[\"EPI\"].tolist()\n",
    "adata.obs[\"TE_scaled\"] = df_scaled[\"TE\"].tolist()\n",
    "adata.obs[\"prE_scaled\"] = df_scaled[\"prE\"].tolist()"
   ]
  },
  {
   "cell_type": "code",
   "execution_count": null,
   "id": "5e831d10-910e-4464-9927-7edc74fe6497",
   "metadata": {},
   "outputs": [],
   "source": [
    "scaled_score = np.argmax(df_scaled, axis=1)\n",
    "scaled_score"
   ]
  },
  {
   "cell_type": "code",
   "execution_count": null,
   "id": "d67d06f4-1ea2-4273-9890-34ca8b6ee002",
   "metadata": {},
   "outputs": [],
   "source": [
    "adata.obs[\"scaled_scores\"] = scaled_score.astype(\"str\")"
   ]
  },
  {
   "cell_type": "code",
   "execution_count": null,
   "id": "2f479fe3-0e4e-401c-b8ac-8b0c9ee9af8d",
   "metadata": {},
   "outputs": [],
   "source": [
    "adata.obs[\"scaled_scores\"].value_counts()"
   ]
  },
  {
   "cell_type": "code",
   "execution_count": null,
   "id": "2d744d2e-2c6c-48eb-a426-ffd8b668f8dd",
   "metadata": {},
   "outputs": [],
   "source": [
    "sc.pl.umap(adata, color=[\"scaled_scores\"], s=40, \n",
    "palette={\"0\": \"DARKRED\",\"1\": \"ORANGE\",\"2\": \"YELLOWGREEN\",\n",
    "         \"3\": \"SEAGREEN\",\"4\":\"CORNFLOWERBLUE\"})"
   ]
  },
  {
   "cell_type": "code",
   "execution_count": null,
   "id": "5c049f0f-91d5-4e65-9707-48c14f057e46",
   "metadata": {},
   "outputs": [],
   "source": [
    "adata.obs.scaled_scores.dtype"
   ]
  },
  {
   "cell_type": "code",
   "execution_count": null,
   "id": "53d01358-f65e-4cb4-8ab2-6f76b8c1c5f6",
   "metadata": {},
   "outputs": [],
   "source": [
    "new_scores_names = ['2-cell-like', '8-cell-like', 'Epi-like', 'TE-like', 'prE-like']\n",
    "adata.obs[\"Subpop_scaled_scores\"] = adata.obs[\"scaled_scores\"]\n",
    "adata.rename_categories('Subpop_scaled_scores', new_scores_names)"
   ]
  },
  {
   "cell_type": "code",
   "execution_count": null,
   "id": "7ec43612-7336-4c43-aefa-bccc54f04811",
   "metadata": {},
   "outputs": [],
   "source": [
    "adata.obs.head(2)"
   ]
  },
  {
   "cell_type": "code",
   "execution_count": null,
   "id": "1caf42c7-65cb-4f50-a173-4f2d84204586",
   "metadata": {},
   "outputs": [],
   "source": [
    "sc.pl.umap(adata, color=[\"Subpop_scaled_scores\"], s=40, \n",
    "palette={\"2-cell-like\": \"DARKRED\",\"8-cell-like\": \"ORANGE\",\"Epi-like\": \"YELLOWGREEN\",\n",
    "         \"TE-like\": \"SEAGREEN\",\"prE-like\":\"CORNFLOWERBLUE\"})"
   ]
  },
  {
   "cell_type": "code",
   "execution_count": null,
   "id": "c621e5b9-4002-44e0-9028-befc59e1b523",
   "metadata": {},
   "outputs": [],
   "source": [
    "sc.pl.dotplot(adata, ['2-cell-like','8-cell-like','EPI','TE', \"prE\"], groupby=\"Subpop_scaled_scores\", \n",
    "              standard_scale='var',) #save='.png' - categories_order = order_heat, "
   ]
  },
  {
   "cell_type": "markdown",
   "id": "cd198d4e-0735-44ad-9f33-4038e7aa0fe0",
   "metadata": {},
   "source": [
    "# 5. Add MERVL\n",
    "Compute MERVL sequences from publication below using bash"
   ]
  },
  {
   "cell_type": "raw",
   "id": "1a0c4f42-574a-4a4f-9909-039e99a2f677",
   "metadata": {},
   "source": [
    "adata = sc.read_h5ad(DATA + \"231212_miR203_all.h5ad\")"
   ]
  },
  {
   "cell_type": "markdown",
   "id": "ddc2d973-5edd-4c07-893b-8fd21a1c75b0",
   "metadata": {},
   "source": [
    "Original publication\n",
    "- https://www.nature.com/articles/s41467-021-21808-x"
   ]
  },
  {
   "cell_type": "code",
   "execution_count": null,
   "id": "84fac819-38ea-476a-9ac7-90bd19fe9507",
   "metadata": {},
   "outputs": [],
   "source": [
    "# Calculation for MERVL in all cells\n",
    "MERVL_all = pd.read_csv('DATA/MERVL_all.csv', index_col=0)\n",
    "print(MERVL_all.shape)\n",
    "# remove duplicated indexes in MERVL\n",
    "MERVL_all = MERVL_all[~MERVL_all.index.duplicated(keep='first')]\n",
    "\n",
    "# Calculation for MERVL in KO 3.5 cells\n",
    "MERVL = pd.read_csv('DATA/MERVL.csv', index_col=0)  # Only KO 3.5 cells\n",
    "MERVL = MERVL.rename(columns={\"MERVL\": \"MERVL_E3.5\"})\n",
    "\n",
    "print(MERVL_all.shape)\n",
    "print(MERVL.shape)"
   ]
  },
  {
   "cell_type": "code",
   "execution_count": null,
   "id": "f841ddf5-dbc9-45ed-aaa2-36bed72a6179",
   "metadata": {},
   "outputs": [],
   "source": [
    "adata.obs = adata.obs.merge(MERVL_all, left_index=True, right_index=True, how = 'left')\n",
    "adata.obs = adata.obs.merge(MERVL, left_index=True, right_index=True, how = 'left')\n",
    "adata.obs.head(2)"
   ]
  },
  {
   "cell_type": "code",
   "execution_count": null,
   "id": "71c659f7-04a1-405a-9c5a-8c3e04be3077",
   "metadata": {},
   "outputs": [],
   "source": [
    "adata_na = adata.obs[adata.obs.MERVL.isna()]\n",
    "adata_na.Experiment.value_counts()"
   ]
  },
  {
   "cell_type": "code",
   "execution_count": null,
   "id": "2052c2c8-750e-481e-a2a5-2f68a19ef15a",
   "metadata": {},
   "outputs": [],
   "source": [
    "adata_na = adata.obs[adata.obs[\"MERVL_E3.5\"].isna()]\n",
    "adata_na.Experiment.value_counts()"
   ]
  },
  {
   "cell_type": "code",
   "execution_count": null,
   "id": "2ea98366-0201-46fa-b5c2-39dc765a369b",
   "metadata": {},
   "outputs": [],
   "source": [
    "sc.pl.umap(adata, color=[\"MERVL\", \"MERVL_E3.5\", \"Treatment\"], palette=\"Set2\", color_map= plt.cm.Purples)\n",
    "sc.pl.umap(adata, color=[\"MERVL\", \"MERVL_E3.5\", \"Treatment\"])"
   ]
  },
  {
   "cell_type": "code",
   "execution_count": null,
   "id": "c30c7f24-509a-4c66-893e-064cbf581ba9",
   "metadata": {},
   "outputs": [],
   "source": [
    "sc.pl.umap(adata, color=[\"MERVL\", \"Treatment\"], vmin=1, vmax=6, palette=\"Set2\", color_map= plt.cm.Purples)"
   ]
  },
  {
   "cell_type": "code",
   "execution_count": null,
   "id": "3ed92d67-bb23-45d9-8465-604477106d45",
   "metadata": {},
   "outputs": [],
   "source": [
    "sc.pl.violin(adata, [\"MERVL\"], groupby=\"Sample\", rotation=90, jitter=0.35) "
   ]
  },
  {
   "cell_type": "code",
   "execution_count": null,
   "id": "a7e773f1-7ee7-47c9-9b84-d4b880c55d53",
   "metadata": {},
   "outputs": [],
   "source": [
    "sc.pl.dotplot(adata, [\"MERVL\"], groupby=\"Sample\")  #, standard_scale=\"var\""
   ]
  },
  {
   "cell_type": "code",
   "execution_count": null,
   "id": "520206c3-7070-4585-afa9-7b4294e7f493",
   "metadata": {},
   "outputs": [],
   "source": []
  },
  {
   "cell_type": "markdown",
   "id": "9f88fb76-5511-4606-b7fa-a810b10fda45",
   "metadata": {},
   "source": [
    "# 6. miR-203 KO versus Control"
   ]
  },
  {
   "cell_type": "code",
   "execution_count": null,
   "id": "2fbf405c-8fe5-4b0b-b09c-6213ed25b905",
   "metadata": {},
   "outputs": [],
   "source": [
    "adata.obs.Treatment.unique()"
   ]
  },
  {
   "cell_type": "code",
   "execution_count": null,
   "id": "7cbb7cce-5b94-41d9-9e78-7dc24ada6677",
   "metadata": {},
   "outputs": [],
   "source": [
    "adata_KO = adata[adata.obs.Treatment != 'dox']\n",
    "adata_KO"
   ]
  },
  {
   "cell_type": "markdown",
   "id": "80ea1bcd-1cc4-4aff-813e-34f0745daa0a",
   "metadata": {},
   "source": [
    "### Check KO_E3.5"
   ]
  },
  {
   "cell_type": "code",
   "execution_count": null,
   "id": "39a85af9-7da2-49a6-a9ac-a970659dafda",
   "metadata": {},
   "outputs": [],
   "source": [
    "adata_KO_3_5 = adata[adata.obs.Sample == 'E3.5_KO']"
   ]
  },
  {
   "cell_type": "code",
   "execution_count": null,
   "id": "cfe45bd4-73c6-4f0d-b429-90beb8808224",
   "metadata": {},
   "outputs": [],
   "source": [
    "sc.pl.umap(adata_KO_3_5, color=[\"leiden_groups\", \"Subpop_scaled_scores\"], s=200)"
   ]
  },
  {
   "cell_type": "code",
   "execution_count": null,
   "id": "938df9f6-c8b3-465d-9f26-974e5f0c867a",
   "metadata": {},
   "outputs": [],
   "source": [
    "sc.pl.dotplot(adata_KO_3_5, ['2-cell-like','8-cell-like','EPI','TE', \"prE\"], groupby=\"Subpop_scaled_scores\", \n",
    "              standard_scale='var',) #save='.png' - categories_order = order_heat, "
   ]
  },
  {
   "cell_type": "code",
   "execution_count": null,
   "id": "3c0b16f8-8776-47a6-becd-34bd95e29659",
   "metadata": {},
   "outputs": [],
   "source": []
  },
  {
   "cell_type": "markdown",
   "id": "b81b8a0f-365d-4502-8ed8-512193ba15df",
   "metadata": {},
   "source": [
    "## Re-UMAP KO 3.5 (NOT NEEDED)"
   ]
  },
  {
   "cell_type": "code",
   "execution_count": null,
   "id": "4decfcc8-fa87-4779-8118-1c9cf73fa690",
   "metadata": {},
   "outputs": [],
   "source": [
    "adata_KO_3_5_reUMAP = adata_KO_3_5.copy()\n",
    "adata_KO_3_5_reUMAP"
   ]
  },
  {
   "cell_type": "code",
   "execution_count": null,
   "id": "a7b3160d-4319-4715-8dfb-3e2b96a8e8cc",
   "metadata": {},
   "outputs": [],
   "source": [
    "# Compute PCA\n",
    "sc.tl.pca(adata_KO_3_5_reUMAP, svd_solver='auto')"
   ]
  },
  {
   "cell_type": "code",
   "execution_count": null,
   "id": "45dcfd96-1d7b-42da-aabd-98b20af9d258",
   "metadata": {},
   "outputs": [],
   "source": [
    "sc.pp.neighbors(adata_KO_3_5_reUMAP, n_neighbors=8, n_pcs=14) #6 AND 5/!5\n",
    "sc.tl.umap(adata_KO_3_5_reUMAP)\n",
    "sc.pl.umap(adata_KO_3_5_reUMAP, color=[\"2-cell-like\", \"8-cell-like\", \"EPI\", \"TE\", \"prE\"], size=200,\n",
    "          palette=\"Set2\", color_map= plt.cm.Purples,) #, save='umapE3_5_KO_new.png'"
   ]
  },
  {
   "cell_type": "code",
   "execution_count": null,
   "id": "2219064f-1fa2-4892-8298-787c01a35f57",
   "metadata": {},
   "outputs": [],
   "source": [
    "sc.pl.umap(adata_KO_3_5, color=[\"Subpop_scaled_scores\"], size=300) #, save='umapE3_5_KO_new.png'\n",
    "sc.pl.umap(adata_KO_3_5_reUMAP, color=[\"Subpop_scaled_scores\"], size=300) #, save='umapE3_5_KO_new.png'"
   ]
  },
  {
   "cell_type": "code",
   "execution_count": null,
   "id": "e6bacd95-180f-4a6c-8880-046d6d055b33",
   "metadata": {},
   "outputs": [],
   "source": []
  },
  {
   "cell_type": "markdown",
   "id": "728a4019-a574-45fa-92d8-74d275f5c619",
   "metadata": {},
   "source": [
    "# 7. miR-203 KI versus Control"
   ]
  },
  {
   "cell_type": "code",
   "execution_count": null,
   "id": "5ee2fbf2-26e9-4097-af4a-110c97bef8fe",
   "metadata": {},
   "outputs": [],
   "source": [
    "adata_KI = adata[adata.obs.Treatment != 'KO']\n",
    "adata_KI"
   ]
  },
  {
   "cell_type": "code",
   "execution_count": null,
   "id": "e73dce6e-c02d-4c62-a2bc-5ebbcf6f2726",
   "metadata": {},
   "outputs": [],
   "source": []
  },
  {
   "cell_type": "markdown",
   "id": "a75f59a3-8f8a-4077-a682-09e3b4d042ad",
   "metadata": {},
   "source": [
    "# 8. Velocity and Pseudotime"
   ]
  },
  {
   "cell_type": "code",
   "execution_count": null,
   "id": "0f1b6d14-34bc-46ee-8021-48fc33a24541",
   "metadata": {},
   "outputs": [],
   "source": [
    "import scvelo as scv\n",
    "scv.set_figure_params()"
   ]
  },
  {
   "cell_type": "markdown",
   "id": "80c51e04-bd95-4306-aa72-ae3c6c5eb8d1",
   "metadata": {},
   "source": [
    "### 8.1 Pseudotime in WT cells"
   ]
  },
  {
   "cell_type": "code",
   "execution_count": null,
   "id": "4b763f49-67f5-4f53-94bc-24a2689be46d",
   "metadata": {},
   "outputs": [],
   "source": [
    "adata_WT = adata[adata.obs.Treatment == 'Control']"
   ]
  },
  {
   "cell_type": "code",
   "execution_count": null,
   "id": "e7082531-f964-4195-a3b9-e5cc6a267db2",
   "metadata": {},
   "outputs": [],
   "source": [
    "adata_WT.layers"
   ]
  },
  {
   "cell_type": "code",
   "execution_count": null,
   "id": "ad43786f-6ec5-4d6c-99bd-052e6ca03454",
   "metadata": {},
   "outputs": [],
   "source": [
    "scv.pl.proportions(adata_WT, groupby='scaled_scores')"
   ]
  },
  {
   "cell_type": "code",
   "execution_count": null,
   "id": "ab18f60a-9db5-4cdf-9a98-3aa6766b1915",
   "metadata": {},
   "outputs": [],
   "source": [
    "# pre-process\n",
    "scv.pp.filter_and_normalize(adata_WT)\n",
    "scv.pp.moments(adata_WT)"
   ]
  },
  {
   "cell_type": "code",
   "execution_count": null,
   "id": "caad3fed-ef25-4ddb-affb-65a69badd90a",
   "metadata": {},
   "outputs": [],
   "source": [
    "#compute velocity\n",
    "scv.tl.velocity(adata_WT, mode='stochastic')\n",
    "scv.tl.velocity_graph(adata_WT)"
   ]
  },
  {
   "cell_type": "code",
   "execution_count": null,
   "id": "2d7a5ede-9fa3-4acf-a39c-50ce8c511f3e",
   "metadata": {},
   "outputs": [],
   "source": [
    "scv.pl.velocity_embedding(adata_WT, basis='umap',frameon=False)"
   ]
  },
  {
   "cell_type": "code",
   "execution_count": null,
   "id": "978f9b36-39a6-45d3-a3d8-dea998eb82fb",
   "metadata": {},
   "outputs": [],
   "source": [
    "scv.pl.velocity_embedding_grid(adata_WT, basis='umap',frameon=False, color='Subpop_scaled_scores',title='',scale=0.25,\n",
    "                               palette={\"2-cell-like\": \"DARKRED\",\"8-cell-like\": \"ORANGE\",\"Epi-like\": \"YELLOWGREEN\",\n",
    "                               \"TE-like\": \"SEAGREEN\",\"prE-like\":\"CORNFLOWERBLUE\", \"Other\":\"GRAY\"})"
   ]
  },
  {
   "cell_type": "code",
   "execution_count": null,
   "id": "3eb1d537-be66-464f-b660-d95608e3b236",
   "metadata": {},
   "outputs": [],
   "source": [
    "scv.tl.velocity_confidence(adata_WT)\n",
    "keys = 'velocity_length','velocity_confidence'\n",
    "scv.pl.scatter(adata_WT,c=keys,cmap='coolwarm',perc=[5,95])"
   ]
  },
  {
   "cell_type": "code",
   "execution_count": null,
   "id": "d44e1946-a929-480a-8ec8-e980b9518ce1",
   "metadata": {},
   "outputs": [],
   "source": [
    "scv.pl.velocity_graph(adata_WT, threshold=0.1, color='Subpop_scaled_scores')"
   ]
  },
  {
   "cell_type": "code",
   "execution_count": null,
   "id": "076710dc-6c95-495b-89d2-97c8bcf7dcf2",
   "metadata": {},
   "outputs": [],
   "source": [
    "adata_WT.obs.Subpop_scaled_scores.dtype"
   ]
  },
  {
   "cell_type": "code",
   "execution_count": null,
   "id": "65be8fd0-6616-4b7d-a325-a69268f02931",
   "metadata": {},
   "outputs": [],
   "source": [
    "scv.pl.velocity_embedding_stream(adata_WT, basis='umap',color='Subpop_scaled_scores',frameon=False)"
   ]
  },
  {
   "cell_type": "code",
   "execution_count": null,
   "id": "0ea7f001-92e2-40ad-bc60-1299a02365a3",
   "metadata": {},
   "outputs": [],
   "source": [
    "scv.tl.velocity_pseudotime(adata_WT,root_key=45, end_key=1)\n",
    "scv.pl.scatter(adata_WT, color='velocity_pseudotime', cmap='gnuplot', size=60)"
   ]
  },
  {
   "cell_type": "code",
   "execution_count": null,
   "id": "406fa51e-b7b4-463e-8d23-479093c6b597",
   "metadata": {},
   "outputs": [],
   "source": [
    "adata_WT.uns['neighbors']['distances'] = adata_WT.obsp['distances']\n",
    "adata_WT.uns['neighbors']['connectivities'] = adata_WT.obsp['connectivities']\n",
    "scv.tl.paga(adata_WT, groups='Subpop_scaled_scores')\n",
    "df = scv.get_df(adata_WT, 'paga/transitions_confidence').T\n",
    "df.style.background_gradient(cmap='Blues').format('{:.2g}')"
   ]
  },
  {
   "cell_type": "code",
   "execution_count": null,
   "id": "c2648673-e8a1-4da3-98d2-79ebb7084933",
   "metadata": {
    "scrolled": true
   },
   "outputs": [],
   "source": [
    "scv.pl.paga(adata_WT, basis='umap', color='Subpop_scaled_scores', size=50, alpha=.3,\n",
    "            min_edge_width=2,node_size_scale=1.5)"
   ]
  },
  {
   "cell_type": "code",
   "execution_count": null,
   "id": "aeb7f5e7-e8fe-463e-a235-34090c67911b",
   "metadata": {},
   "outputs": [],
   "source": []
  },
  {
   "cell_type": "markdown",
   "id": "8835f555-3d1c-4a55-8b47-3611f4e7dadd",
   "metadata": {},
   "source": [
    "### 8.2 Pseudotime in KO data"
   ]
  },
  {
   "cell_type": "code",
   "execution_count": null,
   "id": "7401fc74-2b14-4ee6-b80e-fc2228bb00e8",
   "metadata": {},
   "outputs": [],
   "source": [
    "adata_KO.layers"
   ]
  },
  {
   "cell_type": "code",
   "execution_count": null,
   "id": "6dcd0c2a-1da0-4397-886b-2cf8fedccca5",
   "metadata": {},
   "outputs": [],
   "source": [
    "scv.pl.proportions(adata_KO, groupby='scaled_scores')"
   ]
  },
  {
   "cell_type": "code",
   "execution_count": null,
   "id": "725684f0-96a0-4ba7-9792-eae9f162e8d6",
   "metadata": {},
   "outputs": [],
   "source": [
    "# pre-process\n",
    "scv.pp.filter_and_normalize(adata_KO)\n",
    "scv.pp.moments(adata_KO)"
   ]
  },
  {
   "cell_type": "code",
   "execution_count": null,
   "id": "9a7cfbff-7198-40ab-8bde-d5f5a5286d4f",
   "metadata": {},
   "outputs": [],
   "source": [
    "#compute velocity\n",
    "scv.tl.velocity(adata_KO, mode='stochastic')\n",
    "scv.tl.velocity_graph(adata_KO)"
   ]
  },
  {
   "cell_type": "code",
   "execution_count": null,
   "id": "0e1f8acb-6c61-4a75-8864-944a427f5b5e",
   "metadata": {},
   "outputs": [],
   "source": [
    "scv.pl.velocity_embedding(adata_KO, basis='umap',frameon=False)"
   ]
  },
  {
   "cell_type": "code",
   "execution_count": null,
   "id": "c8dc277a-3522-47c4-a476-da0aa3de4c15",
   "metadata": {},
   "outputs": [],
   "source": [
    "scv.pl.velocity_embedding_grid(adata_KO, basis='umap',\n",
    "                               frameon=False, color=['Subpop_scaled_scores'],title='',\n",
    "                               scale=0.25,\n",
    "                               #palette={\"0\": \"DARKRED\",\"1\": \"ORANGE\",\"2\": \"YELLOWGREEN\", \"3\": \"SEAGREEN\",\"4\":\"CORNFLOWERBLUE\"}\n",
    "                              )"
   ]
  },
  {
   "cell_type": "code",
   "execution_count": null,
   "id": "e97086d9-a06b-4ccd-aee0-1cdc93316555",
   "metadata": {},
   "outputs": [],
   "source": [
    "palette={\"2-cell-like\": \"DARKRED\",\"8-cell-like\": \"ORANGE\",\"EPI\": \"YELLOWGREEN\",\n",
    "         \"TE\": \"SEAGREEN\",\"prE\":\"CORNFLOWERBLUE\", \"Other\":\"GRAY\"}"
   ]
  },
  {
   "cell_type": "code",
   "execution_count": null,
   "id": "9881b350-1924-4415-83d8-9187535e9c59",
   "metadata": {},
   "outputs": [],
   "source": [
    "scv.pl.velocity_embedding_grid(adata_KO, basis='umap',frameon=False, color='Subpop_scaled_scores',title='',scale=0.25,\n",
    "                               palette={\"2-cell-like\": \"DARKRED\",\"8-cell-like\": \"ORANGE\",\"Epi-like\": \"YELLOWGREEN\",\n",
    "                               \"TE-like\": \"SEAGREEN\",\"prE-like\":\"CORNFLOWERBLUE\", \"Other\":\"GRAY\"})"
   ]
  },
  {
   "cell_type": "code",
   "execution_count": null,
   "id": "323cbac1-82d8-40bf-bd96-2b4fd0474200",
   "metadata": {},
   "outputs": [],
   "source": [
    "scv.tl.velocity_confidence(adata_KO)\n",
    "keys = 'velocity_length','velocity_confidence'\n",
    "scv.pl.scatter(adata_KO,c=keys,cmap='coolwarm',perc=[5,95])"
   ]
  },
  {
   "cell_type": "code",
   "execution_count": null,
   "id": "e4642794-06bb-47fc-b083-43d44962caf3",
   "metadata": {},
   "outputs": [],
   "source": [
    "scv.pl.velocity_graph(adata_KO,threshold=0.1,color='Subpop_scaled_scores')"
   ]
  },
  {
   "cell_type": "code",
   "execution_count": null,
   "id": "6d83587f-5a36-413b-a100-c2d94b28d739",
   "metadata": {},
   "outputs": [],
   "source": [
    "adata_KO.obs.Subpop_scaled_scores.dtype"
   ]
  },
  {
   "cell_type": "code",
   "execution_count": null,
   "id": "aef1ddf3-8ae6-491a-b81b-44f2d57de478",
   "metadata": {},
   "outputs": [],
   "source": [
    "scv.pl.velocity_embedding_stream(adata_KO, basis='umap',color='Subpop_scaled_scores',frameon=False)"
   ]
  },
  {
   "cell_type": "code",
   "execution_count": null,
   "id": "8e1890d7-0352-4606-aaef-1de21cf21d28",
   "metadata": {},
   "outputs": [],
   "source": [
    "scv.tl.velocity_pseudotime(adata_KO,root_key=45, end_key=1)"
   ]
  },
  {
   "cell_type": "code",
   "execution_count": null,
   "id": "ed20fd84-c390-4843-8dda-313521bad5ee",
   "metadata": {},
   "outputs": [],
   "source": [
    "scv.pl.scatter(adata_KO, color='velocity_pseudotime', cmap='gnuplot', size=40)"
   ]
  },
  {
   "cell_type": "code",
   "execution_count": null,
   "id": "82741a28-f08d-4d17-8bf7-4ca31e9568dc",
   "metadata": {},
   "outputs": [],
   "source": [
    "adata_KO.uns['neighbors']['distances'] = adata_KO.obsp['distances']\n",
    "adata_KO.uns['neighbors']['connectivities'] = adata_KO.obsp['connectivities']\n",
    "scv.tl.paga(adata_KO, groups='Subpop_scaled_scores')\n",
    "df = scv.get_df(adata_KO, 'paga/transitions_confidence').T\n",
    "df.style.background_gradient(cmap='Blues').format('{:.2g}')"
   ]
  },
  {
   "cell_type": "code",
   "execution_count": null,
   "id": "778b4cfe-8672-4412-9070-82ac31a59002",
   "metadata": {
    "scrolled": true
   },
   "outputs": [],
   "source": [
    "scv.pl.paga(adata_KO, basis='umap', color='Subpop_scaled_scores',\n",
    "            size=50,apha=.3,min_edge_width=2,node_size_scale=1.5)"
   ]
  },
  {
   "cell_type": "code",
   "execution_count": null,
   "id": "80d163f9-73f4-4eed-bc78-328852b1a18c",
   "metadata": {},
   "outputs": [],
   "source": []
  },
  {
   "cell_type": "markdown",
   "id": "a17f478d-475b-4b88-8ce2-b08c25d24d54",
   "metadata": {},
   "source": [
    "### 8.3 Pseudotime in KO E3-5 cells"
   ]
  },
  {
   "cell_type": "code",
   "execution_count": null,
   "id": "9580865f-0b7e-4091-a390-08e58f2e855c",
   "metadata": {},
   "outputs": [],
   "source": [
    "adata_KO_3_5 = adata[adata.obs.Sample == 'E3.5_KO']"
   ]
  },
  {
   "cell_type": "code",
   "execution_count": null,
   "id": "f8e74ca0-bc40-4c98-8a6f-2305c00bb91b",
   "metadata": {},
   "outputs": [],
   "source": [
    "adata.layers"
   ]
  },
  {
   "cell_type": "code",
   "execution_count": null,
   "id": "39a55a99-2ed6-4fb5-a1e2-e96bb41f2826",
   "metadata": {},
   "outputs": [],
   "source": [
    "scv.pl.proportions(adata_KO_3_5, groupby='scaled_scores')"
   ]
  },
  {
   "cell_type": "code",
   "execution_count": null,
   "id": "2cab3745-ae3f-4929-8e9f-673d02cc2dcd",
   "metadata": {},
   "outputs": [],
   "source": [
    "# pre-process\n",
    "scv.pp.filter_and_normalize(adata_KO_3_5)\n",
    "scv.pp.moments(adata_KO_3_5)"
   ]
  },
  {
   "cell_type": "code",
   "execution_count": null,
   "id": "4a6a68c8-ad2c-4ca5-8876-7faf71335711",
   "metadata": {},
   "outputs": [],
   "source": [
    "#compute velocity\n",
    "scv.tl.velocity(adata_KO_3_5, mode='stochastic')\n",
    "scv.tl.velocity_graph(adata_KO_3_5)"
   ]
  },
  {
   "cell_type": "code",
   "execution_count": null,
   "id": "de08da81-f62d-457f-a990-efd9b2c7c145",
   "metadata": {},
   "outputs": [],
   "source": [
    "scv.pl.velocity_embedding(adata_KO_3_5, basis='umap',frameon=False)"
   ]
  },
  {
   "cell_type": "code",
   "execution_count": null,
   "id": "fdad5828-fc04-4672-963c-ed7e393da763",
   "metadata": {},
   "outputs": [],
   "source": [
    "scv.pl.velocity_embedding_grid(adata_KO_3_5, basis='umap',frameon=False, color='Subpop_scaled_scores',title='',scale=0.25,\n",
    "                               #palette={\"0\": \"DARKRED\",\"1\": \"ORANGE\",\"2\": \"YELLOWGREEN\", \"3\": \"SEAGREEN\",\"4\":\"CORNFLOWERBLUE\"}\n",
    "                              )"
   ]
  },
  {
   "cell_type": "code",
   "execution_count": null,
   "id": "0fcb3e9c-98ae-4e2b-9fde-d2d835cbec67",
   "metadata": {},
   "outputs": [],
   "source": [
    "palette={\"2-cell-like\": \"DARKRED\",\"8-cell-like\": \"ORANGE\",\"EPI\": \"YELLOWGREEN\",\n",
    "         \"TE\": \"SEAGREEN\",\"prE\":\"CORNFLOWERBLUE\", \"Other\":\"GRAY\"}"
   ]
  },
  {
   "cell_type": "code",
   "execution_count": null,
   "id": "1e71f76a-22ed-4ada-83e1-c43ecb15a695",
   "metadata": {},
   "outputs": [],
   "source": [
    "scv.pl.velocity_embedding_grid(adata_KO_3_5, basis='umap',frameon=False, color='Subpop_scaled_scores',title='',scale=0.25,\n",
    "                               palette={\"2-cell-like\": \"DARKRED\",\"8-cell-like\": \"ORANGE\",\"Epi-like\": \"YELLOWGREEN\",\n",
    "                               \"TE-like\": \"SEAGREEN\",\"prE-like\":\"CORNFLOWERBLUE\", \"Other\":\"GRAY\"})"
   ]
  },
  {
   "cell_type": "code",
   "execution_count": null,
   "id": "48048cfb-9b0a-4849-b645-b571ad419b87",
   "metadata": {},
   "outputs": [],
   "source": [
    "scv.tl.velocity_confidence(adata_KO_3_5)\n",
    "keys = 'velocity_length','velocity_confidence'\n",
    "scv.pl.scatter(adata_KO_3_5,c=keys,cmap='coolwarm',perc=[5,95])"
   ]
  },
  {
   "cell_type": "code",
   "execution_count": null,
   "id": "16878fdf-6559-4285-bf9c-01976c2ad284",
   "metadata": {},
   "outputs": [],
   "source": [
    "scv.pl.velocity_graph(adata_KO_3_5,threshold=0.1,color='Subpop_scaled_scores')"
   ]
  },
  {
   "cell_type": "code",
   "execution_count": null,
   "id": "10cf81ec-4a7e-4591-8960-f762c4a95a96",
   "metadata": {},
   "outputs": [],
   "source": [
    "adata_KO_3_5.obs.Subpop_scaled_scores.dtype"
   ]
  },
  {
   "cell_type": "code",
   "execution_count": null,
   "id": "87f4f13a-e3ee-4d9b-a944-816e20f41d3d",
   "metadata": {},
   "outputs": [],
   "source": [
    "scv.pl.velocity_embedding_stream(adata_KO_3_5, basis='umap',color='Subpop_scaled_scores',frameon=False)"
   ]
  },
  {
   "cell_type": "code",
   "execution_count": null,
   "id": "564b4c8f-f7a3-413b-913c-567009929799",
   "metadata": {},
   "outputs": [],
   "source": [
    "scv.tl.velocity_pseudotime(adata_KO_3_5,root_key=45, end_key=1)\n",
    "scv.pl.scatter(adata_KO_3_5, color='velocity_pseudotime', cmap='gnuplot', size=150)"
   ]
  },
  {
   "cell_type": "code",
   "execution_count": null,
   "id": "2b548979-c57c-442f-954b-63423e3fbe40",
   "metadata": {},
   "outputs": [],
   "source": [
    "adata_KO_3_5.uns['neighbors']['distances'] = adata_KO_3_5.obsp['distances']\n",
    "adata_KO_3_5.uns['neighbors']['connectivities'] = adata_KO_3_5.obsp['connectivities']\n",
    "scv.tl.paga(adata_KO_3_5, groups='Subpop_scaled_scores')\n",
    "df = scv.get_df(adata_KO_3_5, 'paga/transitions_confidence').T\n",
    "df.style.background_gradient(cmap='Blues').format('{:.2g}')"
   ]
  },
  {
   "cell_type": "code",
   "execution_count": null,
   "id": "fd14dc37-bb1e-46fa-a0da-31f3ecf0adf0",
   "metadata": {
    "scrolled": true
   },
   "outputs": [],
   "source": [
    "scv.pl.paga(adata_KO_3_5,basis='umap',color='Subpop_scaled_scores',size=50,apha=.3,min_edge_width=2,node_size_scale=1.5)"
   ]
  },
  {
   "cell_type": "code",
   "execution_count": null,
   "id": "51f0279a-0571-4ee6-99bd-debe47a26b3b",
   "metadata": {},
   "outputs": [],
   "source": []
  },
  {
   "cell_type": "code",
   "execution_count": null,
   "id": "21584749-7511-4e31-adc9-d5044330be9b",
   "metadata": {},
   "outputs": [],
   "source": [
    "adata"
   ]
  },
  {
   "cell_type": "markdown",
   "id": "49f24a71-5094-498d-9662-e8fcb0090b61",
   "metadata": {},
   "source": [
    "# 9. Save modified .h5ad file"
   ]
  },
  {
   "cell_type": "markdown",
   "id": "80b071c8",
   "metadata": {},
   "source": [
    "This file has been loaded as supplementary file in GEO"
   ]
  },
  {
   "cell_type": "code",
   "execution_count": null,
   "id": "ace080ba-69f4-40a0-bc2c-9d9a19ed9072",
   "metadata": {},
   "outputs": [],
   "source": [
    "adata.write(\"231215_miR203_all.h5ad\")"
   ]
  },
  {
   "cell_type": "code",
   "execution_count": null,
   "id": "def2b5f0-5858-4a8a-8d11-dae4475c88b9",
   "metadata": {},
   "outputs": [],
   "source": []
  }
 ],
 "metadata": {
  "kernelspec": {
   "display_name": "Python 3 (ipykernel)",
   "language": "python",
   "name": "python3"
  },
  "language_info": {
   "codemirror_mode": {
    "name": "ipython",
    "version": 3
   },
   "file_extension": ".py",
   "mimetype": "text/x-python",
   "name": "python",
   "nbconvert_exporter": "python",
   "pygments_lexer": "ipython3",
   "version": "3.8.12"
  }
 },
 "nbformat": 4,
 "nbformat_minor": 5
}
