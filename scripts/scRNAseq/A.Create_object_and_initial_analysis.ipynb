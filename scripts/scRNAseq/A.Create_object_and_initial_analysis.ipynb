{
 "cells": [
  {
   "cell_type": "markdown",
   "id": "f56a7143",
   "metadata": {},
   "source": [
    "# A. Create object and initial analysis"
   ]
  },
  {
   "cell_type": "markdown",
   "id": "a9b3c947",
   "metadata": {},
   "source": [
    "- Authors: Marcos Malumbres & Agustín Sánchez-Belmonte\n",
    "- Project: miR-203 controls developmental timing and early fate restriction during preimplantation embryogenesis\n",
    "- Experiment: single cell RNAseq in early embryos (E3.5 and E4.5) in KO, KI and WT conditions.\n",
    "- Part: A. Create object and initial analysis"
   ]
  },
  {
   "cell_type": "markdown",
   "id": "30f98df2",
   "metadata": {},
   "source": [
    "The input of this notebook are the output of STARsolo analysis. \n",
    "\n",
    "From raw data of Gene:\n",
    "- matrix.mtx\n",
    "- barcodes.tsv\n",
    "- features.tsv\n",
    "\n",
    "From raw data of Velocito:\n",
    "- unspliced.mtx\n",
    "- spliced.mtx\n",
    "- ambigouos.mtx\n",
    "\n",
    "From filtered data of Gene:\n",
    "- barcodes.tsv\n",
    "\n",
    "With all these data we create anndata object."
   ]
  },
  {
   "cell_type": "markdown",
   "id": "c00d0335",
   "metadata": {},
   "source": [
    "### Content\n",
    "\n",
    "0. Set up\n",
    "1. Load data and create h5 file\n",
    "2. Initial exploratory analysis\n",
    "3. Filtering \n",
    "4. Normalization\n",
    "5. Dimensionality reduction\n",
    "6. Clustering\n"
   ]
  },
  {
   "cell_type": "markdown",
   "id": "aee44ef3",
   "metadata": {},
   "source": [
    "# 0. Set up"
   ]
  },
  {
   "cell_type": "code",
   "execution_count": null,
   "id": "dc71ec54",
   "metadata": {},
   "outputs": [],
   "source": [
    "import os\n",
    "import numpy as np\n",
    "import pandas as pd\n",
    "import scanpy as sc\n",
    "import matplotlib.pyplot as plt\n",
    "import seaborn as sns\n",
    "import scipy\n",
    "from scipy import sparse\n",
    "from bioinfokit import analys, visuz\n",
    "import gseapy as gspy\n",
    "import scvelo as scv\n",
    "from matplotlib import rcParams\n",
    "import anndata"
   ]
  },
  {
   "cell_type": "code",
   "execution_count": null,
   "id": "2b859e6e",
   "metadata": {},
   "outputs": [],
   "source": [
    "sc.set_figure_params(dpi=120, color_map='viridis')\n",
    "sc.settings.verbosity = 3\n",
    "sc.logging.print_header()\n",
    "rcParams['figure.figsize'] = 4, 4\n",
    "\n",
    "sc.set_figure_params(dpi_save=300)"
   ]
  },
  {
   "cell_type": "code",
   "execution_count": null,
   "id": "db046a01",
   "metadata": {},
   "outputs": [],
   "source": [
    "pal1 = [\"lightblue\", \"deepskyblue\", \"dodgerblue\", \"navajowhite\", \"darkorange\", \"orangered\"]\n",
    "responders_order = [\"\"]\n",
    "\n",
    "ORIGIN = '/Users/asanchezb/Desktop/jgonzalezm_scGEX_230316/'\n",
    "DATA = '/Users/asanchezb/Desktop/FELINE_ASB/DATA/'\n",
    "\n",
    "DESKTOP = '/Users/asanchezb/Desktop/'\n",
    "DESKTOP_scanpy = '/Users/asanchezb/Desktop/'\n",
    "sc.settings.figdir = DESKTOP_scanpy\n",
    "scv.set_figure_params()"
   ]
  },
  {
   "cell_type": "markdown",
   "id": "9057754a",
   "metadata": {},
   "source": [
    "### Function"
   ]
  },
  {
   "cell_type": "markdown",
   "id": "6363398f",
   "metadata": {},
   "source": [
    "This function is to create an anndata object from STARsolo output (.out) with gene and velocyto information"
   ]
  },
  {
   "cell_type": "code",
   "execution_count": null,
   "id": "b17faadf",
   "metadata": {},
   "outputs": [],
   "source": [
    "def buildAnndataFromStarCurr(path):\n",
    "    \"\"\"Generate an anndata object from the STAR aligner output folder\"\"\"\n",
    "    path=path\n",
    "    # Load Read Counts\n",
    "    X = sc.read_mtx(path+'Gene/raw/matrix.mtx')\n",
    "\n",
    "    # Transpose counts matrix to have Cells as rows and Genes as cols as expected by AnnData objects\n",
    "    X = X.X.transpose()\n",
    "\n",
    "    # Load the 3 matrices containing Spliced, Unspliced and Ambigous reads\n",
    "    mtxU = np.loadtxt(path+'Velocyto/raw/unspliced.mtx', skiprows=3, delimiter=' ')\n",
    "    mtxS = np.loadtxt(path+'Velocyto/raw/spliced.mtx', skiprows=3, delimiter=' ')\n",
    "    mtxA = np.loadtxt(path+'Velocyto/raw/ambiguous.mtx', skiprows=3, delimiter=' ')\n",
    "\n",
    "    # Extract sparse matrix shape informations from the third row\n",
    "    shapeU = np.loadtxt(path+'Velocyto/raw/unspliced.mtx', skiprows=2, max_rows = 1 ,delimiter=' ')[0:2].astype(int)\n",
    "    shapeS = np.loadtxt(path+'Velocyto/raw/spliced.mtx', skiprows=2, max_rows = 1 ,delimiter=' ')[0:2].astype(int)\n",
    "    shapeA = np.loadtxt(path+'Velocyto/raw/ambiguous.mtx', skiprows=2, max_rows = 1 ,delimiter=' ')[0:2].astype(int)\n",
    "\n",
    "    # Read the sparse matrix with csr_matrix((data, (row_ind, col_ind)), shape=(M, N))\n",
    "    # Subract -1 to rows and cols index because csr_matrix expects a 0 based index\n",
    "    # Traspose counts matrix to have Cells as rows and Genes as cols as expected by AnnData objects\n",
    "\n",
    "    spliced = sparse.csr_matrix((mtxS[:,2], (mtxS[:,0]-1, mtxS[:,1]-1)), shape = shapeS).transpose()\n",
    "    unspliced = sparse.csr_matrix((mtxU[:,2], (mtxU[:,0]-1, mtxU[:,1]-1)), shape = shapeU).transpose()\n",
    "    ambiguous = sparse.csr_matrix((mtxA[:,2], (mtxA[:,0]-1, mtxA[:,1]-1)), shape = shapeA).transpose()\n",
    "\n",
    "    # Load Genes and Cells identifiers\n",
    "    obs = pd.read_csv(path+'Velocyto/raw/barcodes.tsv',\n",
    "                  header = None, index_col = 0)\n",
    "\n",
    "    # Remove index column name to make it compliant with the anndata format\n",
    "    obs.index.name = None\n",
    "\n",
    "    var = pd.read_csv(path+'Velocyto/raw/features.tsv', sep='\\t',\n",
    "                                    names = ('gene_ids', 'feature_types'), index_col = 1)\n",
    "  \n",
    "    # Build AnnData object to be used with ScanPy and ScVelo\n",
    "    adata = anndata.AnnData(X = X, obs = obs, var = var,\n",
    "                                                 layers = {'spliced': spliced, 'unspliced': unspliced, 'ambiguous': ambiguous})\n",
    "    adata.var_names_make_unique()\n",
    "\n",
    "    # Subset Cells based on STAR filtering\n",
    "    selected_barcodes = pd.read_csv(path+'Gene/filtered/barcodes.tsv', header = None)\n",
    "    adata = adata[selected_barcodes[0]]\n",
    "\n",
    "    return adata.copy()"
   ]
  },
  {
   "cell_type": "markdown",
   "id": "6b2bf50c",
   "metadata": {},
   "source": [
    "# 1. Load data and create h5 file"
   ]
  },
  {
   "cell_type": "markdown",
   "id": "2cd8e3f8",
   "metadata": {},
   "source": [
    "Load data in differents layers for velocity calculations"
   ]
  },
  {
   "cell_type": "code",
   "execution_count": null,
   "id": "fbd5a162",
   "metadata": {},
   "outputs": [],
   "source": [
    "E3_5_KO = buildAnndataFromStarCurr('E3_5_KO.out/')\n",
    "E4_5_KO = buildAnndataFromStarCurr('E4_5_KO.out/')\n",
    "E3_5 = buildAnndataFromStarCurr('E3_5.out/')\n",
    "E4_5 = buildAnndataFromStarCurr('E4_5.out/')\n",
    "E3_5_dox = buildAnndataFromStarCurr('E3_5_dox.out/')\n",
    "E4_5_dox = buildAnndataFromStarCurr('E4_5_dox.out/')"
   ]
  },
  {
   "cell_type": "code",
   "execution_count": null,
   "id": "9c25cfeb",
   "metadata": {},
   "outputs": [],
   "source": [
    "E3_5_KO.obs['Phenotype'] = 'E3_5_KO'\n",
    "E4_5_KO.obs['Phenotype'] = 'E4_5_KO'\n",
    "E3_5.obs['Phenotype'] = 'E3_5'\n",
    "E4_5.obs['Phenotype'] = 'E4_5'\n",
    "E3_5_dox.obs['Phenotype'] = 'E3_5_dox'\n",
    "E4_5_dox.obs['Phenotype'] = 'E4_5_dox'"
   ]
  },
  {
   "cell_type": "code",
   "execution_count": null,
   "id": "021a3101",
   "metadata": {},
   "outputs": [],
   "source": [
    "E3_5_KO.obs['Experiment'] = 'E3_5_KO'\n",
    "E4_5_KO.obs['Experiment'] = 'E4_5_KO'\n",
    "E3_5.obs['Experiment'] = 'E3_5'\n",
    "E4_5.obs['Experiment'] = 'E4_5'\n",
    "E3_5_dox.obs['Experiment'] = 'E3_5_dox'\n",
    "E4_5_dox.obs['Experiment'] = 'E4_5_dox'"
   ]
  },
  {
   "cell_type": "code",
   "execution_count": null,
   "id": "a571776d",
   "metadata": {},
   "outputs": [],
   "source": [
    "E3_5_KO.obs['Stage'] = 'E3_5'\n",
    "E4_5_KO.obs['Stage'] = 'E4_5'\n",
    "E3_5.obs['Stage'] = 'E3_5'\n",
    "E4_5.obs['Stage'] = 'E4_5'\n",
    "E3_5_dox.obs['Stage'] = 'E3_5'\n",
    "E4_5_dox.obs['Stage'] = 'E4_5'"
   ]
  },
  {
   "cell_type": "code",
   "execution_count": null,
   "id": "6c069ba6",
   "metadata": {},
   "outputs": [],
   "source": [
    "E3_5_KO.obs['Treatment'] = 'KO'\n",
    "E4_5_KO.obs['Treatment'] = 'KO'\n",
    "E3_5.obs['Treatment'] = 'Control'\n",
    "E4_5.obs['Treatment'] = 'Control'\n",
    "E3_5_dox.obs['Treatment'] = 'dox'\n",
    "E4_5_dox.obs['Treatment'] = 'dox'"
   ]
  },
  {
   "cell_type": "code",
   "execution_count": null,
   "id": "37fbe0fa",
   "metadata": {},
   "outputs": [],
   "source": [
    "adata = E3_5.concatenate(E4_5,E3_5_KO,E4_5_KO,E3_5_dox,E4_5_dox, index_unique=None)"
   ]
  },
  {
   "cell_type": "code",
   "execution_count": null,
   "id": "a7f4f43a",
   "metadata": {},
   "outputs": [],
   "source": [
    "adata.obs"
   ]
  },
  {
   "cell_type": "code",
   "execution_count": null,
   "id": "d591121c",
   "metadata": {},
   "outputs": [],
   "source": [
    "# Filter out low-represented cells and genes\n",
    "sc.pp.filter_cells(adata, min_genes=150)\n",
    "sc.pp.filter_genes(adata, min_cells=3)"
   ]
  },
  {
   "cell_type": "markdown",
   "id": "2da37d51",
   "metadata": {},
   "source": [
    "# 2. Initial Exploratory Analysis"
   ]
  },
  {
   "cell_type": "code",
   "execution_count": null,
   "id": "399f9e40",
   "metadata": {},
   "outputs": [],
   "source": [
    "adata.obs.Phenotype.value_counts()"
   ]
  },
  {
   "cell_type": "code",
   "execution_count": null,
   "id": "277026c0",
   "metadata": {},
   "outputs": [],
   "source": [
    "sns.countplot(adata.obs.Phenotype)\n",
    "plt.xticks(rotation=45)"
   ]
  },
  {
   "cell_type": "code",
   "execution_count": null,
   "id": "d0232054",
   "metadata": {},
   "outputs": [],
   "source": [
    "sns.countplot(adata.obs.Stage)"
   ]
  },
  {
   "cell_type": "code",
   "execution_count": null,
   "id": "65b09ab2",
   "metadata": {},
   "outputs": [],
   "source": [
    "sns.countplot(adata.obs.Treatment)"
   ]
  },
  {
   "cell_type": "code",
   "execution_count": null,
   "id": "2e3742ac",
   "metadata": {},
   "outputs": [],
   "source": [
    "sc.pl.highest_expr_genes(adata, n_top=20)  #save=\"_Fig.01.png\""
   ]
  },
  {
   "cell_type": "markdown",
   "id": "af068623",
   "metadata": {},
   "source": [
    "# 3. Filtering"
   ]
  },
  {
   "cell_type": "code",
   "execution_count": null,
   "id": "581beaa1",
   "metadata": {},
   "outputs": [],
   "source": [
    "# Search mitochondrial genes and annotate the group of mitochondrial genes as 'MT'\n",
    "adata.var['MT'] = adata.var_names.str.startswith('mt-')\n",
    "# Calculate metric\n",
    "sc.pp.calculate_qc_metrics(adata, qc_vars=['MT'], percent_top=None, log1p=False, inplace=True)"
   ]
  },
  {
   "cell_type": "code",
   "execution_count": null,
   "id": "e88e90de",
   "metadata": {},
   "outputs": [],
   "source": [
    "# Search mitochondrial genes and annotate the group of mitochondrial genes as 'MT'\n",
    "adata.var['RB'] = adata.var_names.str.startswith(('Rpl','Rps'))\n",
    "# Calculate metric\n",
    "sc.pp.calculate_qc_metrics(adata, qc_vars=['RB'], percent_top=None, log1p=False, inplace=True)"
   ]
  },
  {
   "cell_type": "code",
   "execution_count": null,
   "id": "041ca825",
   "metadata": {},
   "outputs": [],
   "source": [
    "adata.obs"
   ]
  },
  {
   "cell_type": "code",
   "execution_count": null,
   "id": "01c9372a",
   "metadata": {},
   "outputs": [],
   "source": [
    "#Plot distribution of mitochondrial genes\n",
    "sc.pl.violin(adata, ['n_genes_by_counts', 'total_counts', 'pct_counts_MT','pct_counts_RB'], groupby='Experiment',\n",
    "             jitter=0.4, multi_panel=True, rotation=45)\n"
   ]
  },
  {
   "cell_type": "code",
   "execution_count": null,
   "id": "f0d276cb",
   "metadata": {},
   "outputs": [],
   "source": [
    "#Plot distribution of mitochondrial genes\n",
    "sc.pl.violin(adata, ['pct_counts_MT'], groupby='Phenotype',\n",
    "             jitter=0.4, multi_panel=True, rotation=45)"
   ]
  },
  {
   "cell_type": "code",
   "execution_count": null,
   "id": "d06f7263",
   "metadata": {},
   "outputs": [],
   "source": [
    "#Plot distribution of mitochondrial genes\n",
    "sc.pl.violin(adata, ['pct_counts_RB'], groupby='Phenotype',\n",
    "             jitter=0.4, multi_panel=True, rotation=45)"
   ]
  },
  {
   "cell_type": "code",
   "execution_count": null,
   "id": "2f359943",
   "metadata": {},
   "outputs": [],
   "source": [
    "# Plot mitochondrial genes expressed\n",
    "sc.pl.scatter(adata, x='total_counts', y='pct_counts_MT', size=100)\n",
    "# Plot total counts\n",
    "sc.pl.scatter(adata, x='total_counts', y='pct_counts_RB', size=100)\n",
    "sc.pl.scatter(adata, x='total_counts', y='n_genes_by_counts', size=100)"
   ]
  },
  {
   "cell_type": "code",
   "execution_count": null,
   "id": "0639cdae",
   "metadata": {},
   "outputs": [],
   "source": [
    "adata = adata[adata.obs.pct_counts_MT < 15, :]\n",
    "adata = adata[adata.obs.pct_counts_RB < 25, :]"
   ]
  },
  {
   "cell_type": "code",
   "execution_count": null,
   "id": "4d67805e",
   "metadata": {},
   "outputs": [],
   "source": [
    "adata.obs"
   ]
  },
  {
   "cell_type": "code",
   "execution_count": null,
   "id": "eff7c3b8",
   "metadata": {},
   "outputs": [],
   "source": [
    "#Plot distribution of mitochondrial genes\n",
    "sc.pl.violin(adata, ['pct_counts_MT'], groupby='Phenotype',\n",
    "             jitter=0.4, multi_panel=True, rotation=45)"
   ]
  },
  {
   "cell_type": "code",
   "execution_count": null,
   "id": "cde76c57",
   "metadata": {},
   "outputs": [],
   "source": [
    "#Plot distribution of mitochondrial genes\n",
    "sc.pl.violin(adata, ['pct_counts_RB'], groupby='Experiment',\n",
    "             jitter=0.4, multi_panel=True, rotation=45)"
   ]
  },
  {
   "cell_type": "markdown",
   "id": "e20ce2cb",
   "metadata": {},
   "source": [
    "# 4. Normalization"
   ]
  },
  {
   "cell_type": "code",
   "execution_count": null,
   "id": "b4e9cfa3",
   "metadata": {},
   "outputs": [],
   "source": [
    "sc.pp.normalize_total(adata, target_sum=1e4, inplace=True)"
   ]
  },
  {
   "cell_type": "code",
   "execution_count": null,
   "id": "bc056a55",
   "metadata": {},
   "outputs": [],
   "source": [
    "# Logarithm the data\n",
    "sc.pp.log1p(adata)"
   ]
  },
  {
   "cell_type": "code",
   "execution_count": null,
   "id": "71ea3c79",
   "metadata": {},
   "outputs": [],
   "source": [
    "adata.obs"
   ]
  },
  {
   "cell_type": "code",
   "execution_count": null,
   "id": "b9a447b1",
   "metadata": {},
   "outputs": [],
   "source": [
    "# Compute highly-variable genes\n",
    "sc.pp.highly_variable_genes(adata, min_mean=0.0125, max_mean=3, min_disp=0.5)\n",
    "# Plot\n",
    "sc.pl.highly_variable_genes(adata)  # save=\"_Fig.02.png\""
   ]
  },
  {
   "cell_type": "code",
   "execution_count": null,
   "id": "b7b5c497",
   "metadata": {},
   "outputs": [],
   "source": [
    "adata.raw = adata"
   ]
  },
  {
   "cell_type": "code",
   "execution_count": null,
   "id": "5e259f62",
   "metadata": {},
   "outputs": [],
   "source": [
    "sc.pp.scale(adata, max_value=10)"
   ]
  },
  {
   "cell_type": "markdown",
   "id": "a8c10b9b",
   "metadata": {},
   "source": [
    "# 5. Dimensionality reduction"
   ]
  },
  {
   "cell_type": "markdown",
   "id": "3791ad53",
   "metadata": {},
   "source": [
    "### PCA"
   ]
  },
  {
   "cell_type": "code",
   "execution_count": null,
   "id": "d272aa88",
   "metadata": {},
   "outputs": [],
   "source": [
    "# Compute PCA\n",
    "sc.tl.pca(adata, svd_solver='auto')"
   ]
  },
  {
   "cell_type": "code",
   "execution_count": null,
   "id": "36e17935",
   "metadata": {},
   "outputs": [],
   "source": [
    "sc.pl.pca_variance_ratio(adata, log=True) "
   ]
  },
  {
   "cell_type": "code",
   "execution_count": null,
   "id": "d682efb4",
   "metadata": {},
   "outputs": [],
   "source": [
    "sc.pl.pca(adata, color=[\"Phenotype\", \"Stage\", 'Treatment'])"
   ]
  },
  {
   "cell_type": "markdown",
   "id": "6a8b6d6c",
   "metadata": {},
   "source": [
    "### UMAP"
   ]
  },
  {
   "cell_type": "code",
   "execution_count": null,
   "id": "2ad8f3a6",
   "metadata": {},
   "outputs": [],
   "source": [
    "sc.pp.neighbors(adata, n_neighbors=6, n_pcs=15) #6 AND 5/!5\n",
    "sc.tl.umap(adata)"
   ]
  },
  {
   "cell_type": "code",
   "execution_count": null,
   "id": "09515260",
   "metadata": {},
   "outputs": [],
   "source": [
    "sc.pl.umap(adata, color=[\"Phenotype\", \"Stage\", 'Treatment'])"
   ]
  }
 ],
 "metadata": {
  "kernelspec": {
   "display_name": "Python 3 (ipykernel)",
   "language": "python",
   "name": "python3"
  },
  "language_info": {
   "codemirror_mode": {
    "name": "ipython",
    "version": 3
   },
   "file_extension": ".py",
   "mimetype": "text/x-python",
   "name": "python",
   "nbconvert_exporter": "python",
   "pygments_lexer": "ipython3",
   "version": "3.8.12"
  }
 },
 "nbformat": 4,
 "nbformat_minor": 5
}
