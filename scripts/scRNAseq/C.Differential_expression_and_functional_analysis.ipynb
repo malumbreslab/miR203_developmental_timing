{
 "cells": [
  {
   "cell_type": "markdown",
   "id": "d05959e8-910e-4d7f-8c4a-3cab0ea9a803",
   "metadata": {},
   "source": [
    "# C. Differential expression and functional analysis"
   ]
  },
  {
   "cell_type": "markdown",
   "id": "2cad7227",
   "metadata": {},
   "source": [
    "- Authors: Marcos Malumbres & Agustín Sánchez-Belmonte\n",
    "- Project: miR-203 controls developmental timing and early fate restriction during preimplantation embryogenesis\n",
    "- Experiment: single cell RNAseq in early embryos (E3.5 and E4.5) in KO, KI and WT conditions.\n",
    "- Part C: Differential expression and functional analysis"
   ]
  },
  {
   "cell_type": "markdown",
   "id": "04fdb043",
   "metadata": {},
   "source": [
    "In this notebooks has been done differential expresion and functional analysis doing comparisons of subpopulations, treatments, conditions and others. The h5ad file output of B1 part has been use in this notebook."
   ]
  },
  {
   "cell_type": "markdown",
   "id": "ea8abbd7",
   "metadata": {},
   "source": [
    "# Set up"
   ]
  },
  {
   "cell_type": "code",
   "execution_count": null,
   "id": "22e94ada-0507-40d5-8833-d54265269e65",
   "metadata": {},
   "outputs": [],
   "source": [
    "import os\n",
    "import numpy as np\n",
    "import pandas as pd\n",
    "import scanpy as sc\n",
    "import matplotlib.pyplot as plt\n",
    "import seaborn as sns\n",
    "\n",
    "from matplotlib import rcParams\n",
    "from matplotlib.pyplot import rc_context"
   ]
  },
  {
   "cell_type": "raw",
   "id": "a8f3a01e-3c35-4d74-9fff-b60d4d3f2748",
   "metadata": {},
   "source": [
    "# required for scattermaps_mm\n",
    "!pip install seaborn==\"0.11.2\""
   ]
  },
  {
   "cell_type": "code",
   "execution_count": null,
   "id": "18759e50-740b-4b90-9e50-27b0cb130eec",
   "metadata": {},
   "outputs": [],
   "source": [
    "import warnings   \n",
    "warnings.filterwarnings(\"ignore\")"
   ]
  },
  {
   "cell_type": "code",
   "execution_count": null,
   "id": "f7279965-cda5-48d0-94d6-f1648ca2e4a0",
   "metadata": {},
   "outputs": [],
   "source": [
    "# Settings\n",
    "sc.settings.verbosity = 0\n",
    "sc.logging.print_header()\n",
    "sc.set_figure_params(dpi=120, color_map='viridis', dpi_save=300)\n",
    "sc.set_figure_params(figsize=[5,4])\n",
    "\n",
    "DATA = '/Users/mmalumbres/Library/CloudStorage/OneDrive-VHIO/BioInformatics/BioProjects/miR203 & early embryos/data/'\n",
    "DESKTOP = '/Users/mmalumbres/Desktop/'\n",
    "sc.settings.figdir = DESKTOP"
   ]
  },
  {
   "cell_type": "markdown",
   "id": "033001b7-c1aa-4c8a-9eb0-c402bafa7f79",
   "metadata": {},
   "source": [
    "## GSEApy"
   ]
  },
  {
   "cell_type": "code",
   "execution_count": null,
   "id": "cfbf639a-ba4e-4b53-be18-d8fbd522d0cf",
   "metadata": {},
   "outputs": [],
   "source": [
    "import gseapy as gspy\n",
    "from gseapy import Msigdb\n",
    "from gseapy import gseaplot\n",
    "from gseapy import barplot, dotplot"
   ]
  },
  {
   "cell_type": "code",
   "execution_count": null,
   "id": "ea9f80ab-34ab-43b6-8ac4-4738cf076c93",
   "metadata": {},
   "outputs": [],
   "source": [
    "gspy.__version__"
   ]
  },
  {
   "cell_type": "code",
   "execution_count": null,
   "id": "d458393b-a14d-415b-a6bb-94e2afc7f584",
   "metadata": {},
   "outputs": [],
   "source": [
    "msig = Msigdb()"
   ]
  },
  {
   "cell_type": "code",
   "execution_count": null,
   "id": "b6bd0ffc-773e-4b05-9d09-8d4ae81b65e9",
   "metadata": {},
   "outputs": [],
   "source": [
    "# list msigdb version you wanna query\n",
    "msig.list_dbver().tail(4)"
   ]
  },
  {
   "cell_type": "code",
   "execution_count": null,
   "id": "a8ddca4c-b639-4814-8fd8-72e91f69e76b",
   "metadata": {},
   "outputs": [],
   "source": [
    "# list categories given dbver.\n",
    "msig.list_category(dbver=\"2023.2.Hs\") "
   ]
  },
  {
   "cell_type": "code",
   "execution_count": null,
   "id": "ae23d42e-5f59-4516-8efa-59650912fd44",
   "metadata": {},
   "outputs": [],
   "source": [
    "# mouse hallmark genesets\n",
    "# mh.all\n",
    "# m2.cp.reactome\n",
    "gmt_mh = msig.get_gmt(category='mh.all', dbver=\"2023.2.Mm\")\n",
    "gmt_mR = msig.get_gmt(category='m2.cp.reactome', dbver=\"2023.2.Mm\")\n",
    "gmt_h = msig.get_gmt(category='h.all', dbver=\"2023.2.Hs\")\n",
    "gmt_R = msig.get_gmt(category='2.cp.reactome', dbver=\"2023.2.Hs\")"
   ]
  },
  {
   "cell_type": "code",
   "execution_count": null,
   "id": "89389e5c-86e1-4f1c-94af-f1bbc80687d1",
   "metadata": {},
   "outputs": [],
   "source": [
    "print(gmt['HALLMARK_WNT_BETA_CATENIN_SIGNALING'])"
   ]
  },
  {
   "cell_type": "markdown",
   "id": "523575a1-ccbf-4e50-81f4-8cd5d1a0e1a6",
   "metadata": {},
   "source": [
    "## Read data"
   ]
  },
  {
   "cell_type": "code",
   "execution_count": null,
   "id": "73d0f375-921f-4928-a1a4-9ac7f99381cc",
   "metadata": {},
   "outputs": [],
   "source": [
    "adata = sc.read(DATA + \"231215_mir203_all.h5ad\")      #231208_mir203_all.h5ad\n",
    "adata"
   ]
  },
  {
   "cell_type": "code",
   "execution_count": null,
   "id": "a880806d-b56f-4146-b6cb-325c21317f5b",
   "metadata": {},
   "outputs": [],
   "source": [
    "# This new column does not allow saving the new .h5ad file ¿¿¿????\n",
    "adata.obs['leiden_groups_genotype'] = adata.obs['leiden_groups'].astype(\"string\") + '_' + adata.obs['Treatment'].astype(\"string\")\n",
    "adata.obs.leiden_groups_genotype = adata.obs.leiden_groups_genotype.astype(\"category\")"
   ]
  },
  {
   "cell_type": "code",
   "execution_count": null,
   "id": "dac5651b-5805-4bab-be84-f96a56d5b604",
   "metadata": {},
   "outputs": [],
   "source": [
    "print(adata.obs.leiden_groups_genotype.dtype)\n",
    "adata.obs.head(2)"
   ]
  },
  {
   "cell_type": "code",
   "execution_count": null,
   "id": "54c86e14-9113-4063-acd6-e4af90bb826a",
   "metadata": {},
   "outputs": [],
   "source": [
    "sc.pl.umap(adata, color=[\"Subpop_scaled_scores\", \"leiden_groups\"])"
   ]
  },
  {
   "cell_type": "code",
   "execution_count": null,
   "id": "86a671fb-2372-40fd-bd90-d6b3086ba0b4",
   "metadata": {},
   "outputs": [],
   "source": [
    "sc.pl.umap(adata, color=[\"leiden_groups_genotype\"], save=\"_leiden_groups_genotype.png\")"
   ]
  },
  {
   "cell_type": "code",
   "execution_count": null,
   "id": "464f9c32-af04-444b-b99d-d3554c45641e",
   "metadata": {},
   "outputs": [],
   "source": []
  },
  {
   "cell_type": "markdown",
   "id": "0a271d3a-8a73-442b-b607-4b433f2e2f4e",
   "metadata": {},
   "source": [
    "# Differential expression and functional analysis"
   ]
  },
  {
   "cell_type": "markdown",
   "id": "ddfe064d-9641-4917-bc37-8e2106f9e3b5",
   "metadata": {},
   "source": [
    "### SCRIPTS"
   ]
  },
  {
   "cell_type": "code",
   "execution_count": null,
   "id": "13e49873-cee6-46ee-ab54-5ddf073189f3",
   "metadata": {},
   "outputs": [],
   "source": [
    "# Functions\n",
    "def dedf_to_rnk_mouse_to_human(de_df, outdir, dataname, samplename):\n",
    "    \"\"\"Generates a .rnk file from differential expression for GSEA analysis.\"\"\"\n",
    "    \n",
    "    rnk = de_df[[\"names\", \"scores\"]].copy()\n",
    "    rnk.columns = [\"#names\", \"scores\"]\n",
    "    rnk[\"#names\"] = rnk[\"#names\"].astype(str).str.upper()                     # all to uppercase\n",
    "    rnk.to_csv(outdir + \"/\" + samplename + \".rnk\", sep=\"\\t\", index=False)\n",
    "    \n",
    "    return rnk\n",
    "\n",
    "def dedf_to_rnk(de_df, outdir, dataname, samplename):\n",
    "    \"\"\"Generates a .rnk file from differential expression for GSEA analysis.\"\"\"\n",
    "    \n",
    "    rnk = de_df[[\"names\", \"scores\"]].copy()\n",
    "    rnk.columns = [\"#names\", \"scores\"]\n",
    "    rnk[\"#names\"] = rnk[\"#names\"].astype(str)                                # no need to uppercase\n",
    "    rnk.to_csv(outdir + \"/\" + samplename + \".rnk\", sep=\"\\t\", index=False)\n",
    "    \n",
    "    return rnk\n",
    "\n",
    "\n",
    "def rnk_to_geseapy(pre_res, rnk, gset, outdir, samplename):\n",
    "    \"\"\"Run GSEApy and merge index results with a previous table.\"\"\"\n",
    "    \n",
    "    gene_set    = gset + \".gmt\"\n",
    "    pre_res_new = gspy.prerank(rnk=rnk, gene_sets= gene_set, processes=4, permutation_num=1000,\n",
    "                               outdir=outdir, graph_num=60, format='png', seed=6)\n",
    "    pre_res_new_df = pd.DataFrame(pre_res_new.res2d.sort_index())\n",
    "    pre_res_new_df[\"Sample\"] = samplename\n",
    "    pre_res_new_df.to_csv(outdir + \"/\" + \"GSEApy_results.tsv\", sep=\"\\t\")\n",
    "    pre_res     = pd.concat([pre_res, pre_res_new_df], join=\"inner\", ignore_index=True)\n",
    "\n",
    "    return pre_res\n",
    "\n",
    "def add_classes(pre_res):\n",
    "    pre_res[\"Class\"] = np.where(pre_res[\"Term\"].str.startswith(\"REACTOME\"), \"REACTOME\",\n",
    "                          np.where(pre_res[\"Term\"].str.startswith(\"WP\"), \"WP\",\n",
    "                             np.where(pre_res[\"Term\"].str.startswith(\"KEGG\"), \"KEGG\",\n",
    "                                np.where(pre_res[\"Term\"].str.startswith(\"PID\"), \"PIP\",\n",
    "                                   np.where(pre_res[\"Term\"].str.startswith(\"HALL\"), \"HALLMARK\",\n",
    "                                      np.where(pre_res[\"Term\"].str.startswith(\"BIO\"), \"BIOCARTA\",\n",
    "                                         np.where(pre_res[\"Term\"].str.startswith(\"ST\"), \"ST\",\n",
    "                                            \"Others\")))))))\n",
    "    return pre_res\n",
    "    \n",
    "def run_all(DESKTOP, database, dataname, score, groupA, groupB, method, pre_res):\n",
    "    \"\"\"RUN all scripts\"\"\"\n",
    "    \n",
    "    # Organize variables & folders\n",
    "    sample = groupA + \"_vs_\" + groupB\n",
    "    outdir = DESKTOP + \"/\" + dataname + \"_\" + sample\n",
    "    samplename = dataname + \"_\" + groupA + \"_vs_\" + groupB\n",
    "\n",
    "    if not os.path.exists(outdir):\n",
    "        os.mkdir(outdir)\n",
    "\n",
    "    # Differential expression\n",
    "    sc.tl.rank_genes_groups(database, score, groups=[groupA], reference=groupB, method=method, \n",
    "                        use_raw=True, log_transformed=True, n_genes=-1) #adata.raw = adata\n",
    "    de_df = sc.get.rank_genes_groups_df(database, group=groupA)\n",
    "    de_df.to_csv(outdir + \"/\" + samplename + \".tsv\", sep='\\t', index=False) \n",
    "\n",
    "    with rc_context({'figure.figsize': (9, 4)}):\n",
    "        sc.pl.rank_genes_groups(database, n_genes=50, save=\"_\" + groupA + \"_vs_\" + groupB + \".png\")\n",
    "    \n",
    "    # Save .rnk list adn run GSEA\n",
    "    rnk = dedf_to_rnk(de_df, outdir, dataname, samplename)\n",
    "    pre_res = rnk_to_geseapy(pre_res, rnk, gset, outdir, samplename)\n",
    "\n",
    "    return pre_res"
   ]
  },
  {
   "cell_type": "markdown",
   "id": "3db4d15a-3aca-4ccc-8ff7-f4823d4880c8",
   "metadata": {},
   "source": [
    "### Manual"
   ]
  },
  {
   "cell_type": "code",
   "execution_count": null,
   "id": "191f2916-4500-4ca3-a5e1-b10c1d0b5fa7",
   "metadata": {},
   "outputs": [],
   "source": [
    "adata.obs.Sample.unique()"
   ]
  },
  {
   "cell_type": "code",
   "execution_count": null,
   "id": "8fd20cfa-b287-4f21-8bed-1aa240082a6c",
   "metadata": {},
   "outputs": [],
   "source": [
    "# EDIT\n",
    "database = adata            # adata (all samples) or subset of data\n",
    "dataname = \"ad\"\n",
    "\n",
    "# Column and groups\n",
    "score = \"Sample\"            # column in adata.obs\n",
    "groupA = \"E3.5_KO\"                      # value for column in adata.obs\n",
    "groupB = \"E3.5\"                 # value for column in adata.obs\n",
    "\n",
    "# Statistical algorithm\n",
    "method = 'wilcoxon'         # 't-test' or 'wilcoxon'\n",
    "\n",
    "# Select Pathways\n",
    "GENESETS = \"/Users/mmalumbres/Library/CloudStorage/OneDrive-VHIO/BioInformatics/Public_Data/Signatures & Gene Sets/GSEA Gene Sets/\"\n",
    "gset = GENESETS + \"h.c2.cp.v7.2.symbols_mix\"\n",
    "gene_set = gset + \".gmt\""
   ]
  },
  {
   "cell_type": "code",
   "execution_count": null,
   "id": "e2d32c2e-5833-4c24-936d-69124caad892",
   "metadata": {},
   "outputs": [],
   "source": [
    "# Organize variables & folders\n",
    "sample = groupA + \"_vs_\" + groupB\n",
    "outdir = DESKTOP + \"/\" + dataname + \"_\" + sample\n",
    "samplename = dataname + \"_\" + groupA + \"_vs_\" + groupB\n",
    "\n",
    "if not os.path.exists(outdir):\n",
    "    os.mkdir(outdir)"
   ]
  },
  {
   "cell_type": "code",
   "execution_count": null,
   "id": "4f1ef16a-664a-4bb1-8fa7-4d78c48fcf36",
   "metadata": {},
   "outputs": [],
   "source": [
    "# Differential expression\n",
    "sc.tl.rank_genes_groups(database, score, groups=[groupA], reference=groupB, method=method, \n",
    "                        use_raw=True, log_transformed=True, n_genes=-1) #adata.raw = adata\n",
    "de_df = sc.get.rank_genes_groups_df(database, group=groupA)\n",
    "de_df.to_csv(outdir + \"/\" + samplename + \".tsv\", sep='\\t', index=False) "
   ]
  },
  {
   "cell_type": "code",
   "execution_count": null,
   "id": "9aaa16e8-e4d6-42a6-aa3e-353ae807bbd7",
   "metadata": {},
   "outputs": [],
   "source": [
    "rnk = dedf_to_rnk_mouse_to_human(de_df, outdir, dataname, samplename)\n",
    "#rnk = dedf_to_rnk_mouse_to_human(de_df, outdir, dataname, samplename)    # use mouse gene_sets"
   ]
  },
  {
   "cell_type": "code",
   "execution_count": null,
   "id": "cb836cc2-c8af-4c1e-a98b-978b06a5d1ce",
   "metadata": {},
   "outputs": [],
   "source": [
    "pre_res = gspy.prerank(rnk=rnk,\n",
    "                       gene_sets= gene_set,         # gmt_R, 'KEGG_2016', etc.\n",
    "                       threads=4,\n",
    "                       min_size=5,\n",
    "                       max_size=1000,\n",
    "                       permutation_num=1000,     # reduce number to speed up testing\n",
    "                       outdir=outdir,            # or None\n",
    "                       format='png',\n",
    "                       seed=6,\n",
    "                       #verbose=True, # see what's going on behind the scenes\n",
    "                       )"
   ]
  },
  {
   "cell_type": "code",
   "execution_count": null,
   "id": "46e54001-09a0-4abe-ac04-1f80c659716a",
   "metadata": {},
   "outputs": [],
   "source": [
    "pre_res.res2d.head(3)"
   ]
  },
  {
   "cell_type": "code",
   "execution_count": null,
   "id": "ec071d90-feac-43b5-9d3c-22c9b5567454",
   "metadata": {},
   "outputs": [],
   "source": [
    "terms = pre_res.res2d.Term\n",
    "terms"
   ]
  },
  {
   "cell_type": "code",
   "execution_count": null,
   "id": "e1b0a9c2-ea70-4689-be03-51532e309c6d",
   "metadata": {},
   "outputs": [],
   "source": [
    "axs = pre_res.plot(terms=terms[0]) # v1.0.5"
   ]
  },
  {
   "cell_type": "code",
   "execution_count": null,
   "id": "08781329-2e41-4a43-b97d-131bc4d9134f",
   "metadata": {},
   "outputs": [],
   "source": [
    "gseaplot(rank_metric=pre_res.ranking, term=terms[0], ofname=DESKTOP + 'your.plot.png', **pre_res.results[terms[0]])"
   ]
  },
  {
   "cell_type": "code",
   "execution_count": null,
   "id": "928665eb-32c0-4eee-bcc6-6baca443d5a3",
   "metadata": {},
   "outputs": [],
   "source": [
    "axs = pre_res.plot(terms=terms[0:6],\n",
    "                   #legend_kws={'loc': (1.2, 0)}, # set the legend loc\n",
    "                   show_ranking=True, # whether to show the second yaxis\n",
    "                   figsize=(3,4)\n",
    "                  )\n",
    "# or use this to have more control on the plot\n",
    "# from gseapy import gseaplot2\n",
    "# terms = pre_res.res2d.Term[1:5]\n",
    "# hits = [pre_res.results[t]['hits'] for t in terms]\n",
    "# runes = [pre_res.results[t]['RES'] for t in terms]\n",
    "# fig = gseaplot2(terms=terms, ress=runes, hits=hits,\n",
    "#               rank_metric=gs_res.ranking,              # rank_metric=pre_res.ranking\n",
    "#               legend_kws={'loc': (1.2, 0)},            # set the legend loc\n",
    "#               figsize=(4,5))                           "
   ]
  },
  {
   "cell_type": "code",
   "execution_count": null,
   "id": "c4a75b71-0d80-4b09-a5d6-bd6bb1b0edcb",
   "metadata": {},
   "outputs": [],
   "source": [
    "# to save your figure, make sure that ``ofname`` is not None\n",
    "ax = dotplot(pre_res.res2d,\n",
    "             column=\"NOM p-val\",                             #“Adjusted P-value”, “P-value”, “NOM p-val”, “FDR q-val”\n",
    "             title='TEST',\n",
    "             ofname=DESKTOP + \"/mix_E4.5_KO_vs_WT.png\",                                     # save to file\n",
    "             cmap=plt.cm.viridis,\n",
    "             top_term=12,\n",
    "             size=6,                                          # adjust dot size\n",
    "             figsize=(6,5), cutoff=0.25, show_ring=False)\n"
   ]
  },
  {
   "cell_type": "code",
   "execution_count": null,
   "id": "e62a593d-ed5d-43cc-bd62-6fea124d4cf9",
   "metadata": {},
   "outputs": [],
   "source": [
    "from gseapy import dotplot\n",
    "# to save your figure, make sure that ``ofname`` is not None\n",
    "ax = dotplot(pre_res.res2d,\n",
    "             column=\"FDR q-val\",\n",
    "             title='KEGG_2016',\n",
    "             cmap=plt.cm.viridis,\n",
    "             size=6, # adjust dot size\n",
    "             figsize=(4,5), cutoff=0.25, show_ring=False)"
   ]
  },
  {
   "cell_type": "code",
   "execution_count": null,
   "id": "5e222b83-2f43-4fb1-a99f-3d7df3076550",
   "metadata": {},
   "outputs": [],
   "source": [
    "https://gseapy.readthedocs.io/en/latest/gseapy_example.html"
   ]
  },
  {
   "cell_type": "code",
   "execution_count": null,
   "id": "5393661b-5def-499b-b95b-60a20565cd7f",
   "metadata": {},
   "outputs": [],
   "source": []
  },
  {
   "cell_type": "code",
   "execution_count": null,
   "id": "f46db603-994a-4820-a78c-4b9ad8662afd",
   "metadata": {},
   "outputs": [],
   "source": [
    "from gseapy import enrichment_map\n",
    "# return two dataframe\n",
    "nodes, edges = enrichment_map(pre_res.res2d)"
   ]
  },
  {
   "cell_type": "code",
   "execution_count": null,
   "id": "e2f968ab-2ce7-4c36-8669-5fd36a48486d",
   "metadata": {},
   "outputs": [],
   "source": [
    "import networkx as nx"
   ]
  },
  {
   "cell_type": "code",
   "execution_count": null,
   "id": "1483ebb4-ff84-45be-be2b-17911aee32ff",
   "metadata": {},
   "outputs": [],
   "source": [
    "# build graph\n",
    "G = nx.from_pandas_edgelist(edges,\n",
    "                            source='src_idx',\n",
    "                            target='targ_idx',\n",
    "                            edge_attr=['jaccard_coef', 'overlap_coef', 'overlap_genes'])"
   ]
  },
  {
   "cell_type": "code",
   "execution_count": null,
   "id": "56493bbb-5b52-4601-b9c1-33312ec5d43a",
   "metadata": {},
   "outputs": [],
   "source": [
    "fig, ax = plt.subplots(figsize=(8, 8))\n",
    "\n",
    "# init node cooridnates\n",
    "pos=nx.layout.spiral_layout(G)\n",
    "#node_size = nx.get_node_attributes()\n",
    "# draw node\n",
    "nx.draw_networkx_nodes(G,\n",
    "                       pos=pos,\n",
    "                       cmap=plt.cm.RdYlBu,\n",
    "                       node_color=list(nodes.NES),\n",
    "                       node_size=list(nodes.Hits_ratio *1000))\n",
    "# draw node label\n",
    "nx.draw_networkx_labels(G,\n",
    "                        pos=pos,\n",
    "                        labels=nodes.Term.to_dict())\n",
    "# draw edge\n",
    "edge_weight = nx.get_edge_attributes(G, 'jaccard_coef').values()\n",
    "nx.draw_networkx_edges(G,\n",
    "                       pos=pos,\n",
    "                       width=list(map(lambda x: x*10, edge_weight)),\n",
    "                       edge_color='#CDDBD4')\n",
    "plt.show()"
   ]
  },
  {
   "cell_type": "code",
   "execution_count": null,
   "id": "f9b0522f-586b-4f1d-8413-3cd49be39672",
   "metadata": {},
   "outputs": [],
   "source": []
  },
  {
   "cell_type": "code",
   "execution_count": null,
   "id": "845c9645-3c38-4677-8d3d-bd22f4ecfad9",
   "metadata": {},
   "outputs": [],
   "source": []
  },
  {
   "cell_type": "code",
   "execution_count": null,
   "id": "19f86c5f-0c43-49b8-93f2-d7053b645d5b",
   "metadata": {},
   "outputs": [],
   "source": []
  },
  {
   "cell_type": "code",
   "execution_count": null,
   "id": "bfe07266-f3fc-44c5-9c2b-6e47c5595d3e",
   "metadata": {},
   "outputs": [],
   "source": []
  },
  {
   "cell_type": "markdown",
   "id": "2cca6fa0-9cbd-41b0-8d8f-ebe80d155701",
   "metadata": {},
   "source": [
    "### Run a single comparison"
   ]
  },
  {
   "cell_type": "code",
   "execution_count": null,
   "id": "9c8ecaa6-f637-484b-b322-0628ccf18eb0",
   "metadata": {},
   "outputs": [],
   "source": [
    "# EDIT\n",
    "database = adata            # adata (all samples) or subset of data\n",
    "dataname = \"ad\"\n",
    "\n",
    "# Column and groups\n",
    "score = \"leiden_groups_genotype\"            # column in adata.obs\n",
    "groupA = \"E4.5_Epi_KO\"                      # value for column in adata.obs\n",
    "groupB = \"E4.5_Epi_Control\"                 # value for column in adata.obs\n",
    "\n",
    "# Statistical algorithm\n",
    "method = 'wilcoxon'         # 't-test' or 'wilcoxon'\n",
    "\n",
    "# Select Pathways\n",
    "GENESETS = \"/Users/mmalumbres/Library/CloudStorage/OneDrive-VHIO/BioInformatics/Public_Data/Signatures & Gene Sets/GSEA Gene Sets/\"\n",
    "gset = GENESETS + \"h.c2.cp.v7.2.symbols_mix\"\n",
    "\n",
    "# Empty dataframe to accumulate all GSEA results\n",
    "pre_res = pd.read_csv(GENESETS + \"pre_res_empty.tsv\", sep=\"\\t\", ) "
   ]
  },
  {
   "cell_type": "code",
   "execution_count": null,
   "id": "2e49cf89-ee55-41d9-a682-eea3ee00d03e",
   "metadata": {},
   "outputs": [],
   "source": [
    "# RUN\n",
    "pre_res = run_all(DESKTOP, database, dataname, score, groupA, groupB, method, pre_res)\n",
    "\n",
    "pre_res = add_classes(pre_res)\n",
    "pre_res.to_excel(DESKTOP + \"GSEApy_Combined_results.xlsx\")"
   ]
  },
  {
   "cell_type": "code",
   "execution_count": null,
   "id": "020a6b92-f25c-457a-90e6-774b2088f030",
   "metadata": {},
   "outputs": [],
   "source": [
    "pre_res"
   ]
  },
  {
   "cell_type": "code",
   "execution_count": null,
   "id": "7fe05c5d-5531-4654-ad08-550ce116506b",
   "metadata": {},
   "outputs": [],
   "source": []
  },
  {
   "cell_type": "markdown",
   "id": "e8ae49bf-7872-4351-91b0-60b61fec77f8",
   "metadata": {},
   "source": [
    "### Run multiple comparisons"
   ]
  },
  {
   "cell_type": "code",
   "execution_count": null,
   "id": "0e6a88af-9414-445e-981c-1f656fb987ed",
   "metadata": {},
   "outputs": [],
   "source": [
    "# EDIT\n",
    "database = adata            # adata (all samples) or subset of data\n",
    "dataname = \"ad\"\n",
    "\n",
    "# Statistical algorithm\n",
    "method = 'wilcoxon'         # 't-test' or 'wilcoxon'\n",
    "\n",
    "# Select Pathways\n",
    "GENESETS = \"/Users/mmalumbres/Library/CloudStorage/OneDrive-VHIO/BioInformatics/Public_Data/Signatures & Gene Sets/GSEA Gene Sets/\"\n",
    "gset = GENESETS + \"h.c2.cp.v7.2.symbols_mix\"\n",
    "\n",
    "# Empty dataframe to accumulate all GSEA results\n",
    "pre_res = pd.read_csv(GENESETS + \"pre_res_empty.tsv\", sep=\"\\t\", ) "
   ]
  },
  {
   "cell_type": "markdown",
   "id": "f86df3ec-434d-4b4c-ad3c-c3d2d8cf013e",
   "metadata": {},
   "source": [
    "#### by Sample"
   ]
  },
  {
   "cell_type": "code",
   "execution_count": null,
   "id": "93620aab-5b74-4da3-ba73-d3e9178556fc",
   "metadata": {},
   "outputs": [],
   "source": [
    "adata.obs.Sample.unique()"
   ]
  },
  {
   "cell_type": "code",
   "execution_count": null,
   "id": "d7e2ef07-c2f2-4aba-bc99-23687a9c0776",
   "metadata": {},
   "outputs": [],
   "source": [
    "# Column and groups\n",
    "score = \"Sample\"            # column in adata.obs\n",
    "\n",
    "groupA = \"E3.5_KO\"              \n",
    "groupB = \"E3.5\"                 \n",
    "pre_res = run_all(DESKTOP, database, dataname, score, groupA, groupB, method, pre_res)\n",
    "\n",
    "groupA = \"E3.5_dox\"              \n",
    "groupB = \"E3.5\"                \n",
    "pre_res = run_all(DESKTOP, database, dataname, score, groupA, groupB, method, pre_res)\n",
    "\n",
    "groupA = \"E4.5_KO\"              \n",
    "groupB = \"E4.5\"                \n",
    "pre_res = run_all(DESKTOP, database, dataname, score, groupA, groupB, method, pre_res)\n",
    "\n",
    "groupA = \"E4.5_dox\"              \n",
    "groupB = \"E4.5\"                \n",
    "pre_res = run_all(DESKTOP, database, dataname, score, groupA, groupB, method, pre_res)\n",
    "\n",
    "pre_res = add_classes(pre_res)\n",
    "pre_res.to_excel(DESKTOP + \"GSEApy_Combined_results.xlsx\")"
   ]
  },
  {
   "cell_type": "markdown",
   "id": "8c11729e-5b75-4c6e-81e7-e622c3a0021f",
   "metadata": {},
   "source": [
    "#### by Leiden_groups_genotype"
   ]
  },
  {
   "cell_type": "code",
   "execution_count": null,
   "id": "c22aef02-2843-4397-b793-40fb2ad37b48",
   "metadata": {},
   "outputs": [],
   "source": [
    "sc.pl.umap(adata, color=[\"leiden_groups_genotype\"])"
   ]
  },
  {
   "cell_type": "code",
   "execution_count": null,
   "id": "9d649afd-a8ab-403d-9462-8efe2dc76535",
   "metadata": {},
   "outputs": [],
   "source": [
    "adata.obs.leiden_groups_genotype.unique()"
   ]
  },
  {
   "cell_type": "code",
   "execution_count": null,
   "id": "1a5662a5-5816-43c9-befe-80e24bf68914",
   "metadata": {},
   "outputs": [],
   "source": [
    "# Column and groups\n",
    "score = \"leiden_groups_genotype\"            # column in adata.obs\n",
    "\n",
    "groupA = \"Mix(E3.5)_KO\"              \n",
    "groupB = \"TE(E3.5)_Control\"                 \n",
    "pre_res = run_all(DESKTOP, database, dataname, score, groupA, groupB, method, pre_res)\n",
    "\n",
    "groupA = \"Mix(E3.5)_KO\"              \n",
    "groupB = \"ICM(E3.5)_Control\"                \n",
    "pre_res = run_all(DESKTOP, database, dataname, score, groupA, groupB, method, pre_res)\n",
    "\n",
    "groupA = \"TE(E3.5)_dox\"              \n",
    "groupB = \"TE(E3.5)_Control\"             \n",
    "pre_res = run_all(DESKTOP, database, dataname, score, groupA, groupB, method, pre_res)\n",
    "\n",
    "groupA = \"ICM(E3.5)_dox\"             \n",
    "groupB = \"ICM(E3.5)_Control\"                \n",
    "pre_res = run_all(DESKTOP, database, dataname, score, groupA, groupB, method, pre_res)\n",
    "\n",
    "groupA = \"TE(E4.5)_KO\"             \n",
    "groupB = \"TE(E4.5)_Control\"                \n",
    "pre_res = run_all(DESKTOP, database, dataname, score, groupA, groupB, method, pre_res)\n",
    "\n",
    "groupA = \"TE(E4.5)_dox\"             \n",
    "groupB = \"TE(E4.5)_Control\"                \n",
    "pre_res = run_all(DESKTOP, database, dataname, score, groupA, groupB, method, pre_res)\n",
    "\n",
    "groupA = \"Epi(E4.5)_KO\"             \n",
    "groupB = \"Epi(E4.5)_Control\"                \n",
    "pre_res = run_all(DESKTOP, database, dataname, score, groupA, groupB, method, pre_res)\n",
    "\n",
    "groupA = \"Epi(E4.5)_dox\"             \n",
    "groupB = \"Epi(E4.5)_Control\"                \n",
    "pre_res = run_all(DESKTOP, database, dataname, score, groupA, groupB, method, pre_res)\n",
    "\n",
    "groupA = \"PrE(E4.5)_KO\"             \n",
    "groupB = \"PrE(E4.5)_Control\"                \n",
    "pre_res = run_all(DESKTOP, database, dataname, score, groupA, groupB, method, pre_res)\n",
    "\n",
    "groupA = \"PrE(E4.5)_dox\"             \n",
    "groupB = \"PrE(E4.5)_Control\"                \n",
    "pre_res = run_all(DESKTOP, database, dataname, score, groupA, groupB, method, pre_res)\n",
    "\n",
    "pre_res = add_classes(pre_res)\n",
    "pre_res.to_excel(DESKTOP + \"GSEApy_Combined_results.xlsx\")"
   ]
  },
  {
   "cell_type": "code",
   "execution_count": null,
   "id": "824f2c59-80c9-406d-adf3-55606ba5a648",
   "metadata": {},
   "outputs": [],
   "source": []
  },
  {
   "cell_type": "markdown",
   "id": "7694011d-fcb8-4ec5-aaae-a22b09e631cb",
   "metadata": {},
   "source": [
    "## Pathway visualization"
   ]
  },
  {
   "cell_type": "code",
   "execution_count": null,
   "id": "7c4f7fae-e82e-412d-8d93-bf3c10937ced",
   "metadata": {},
   "outputs": [],
   "source": [
    "# required for scattermaps_mm\n",
    "sns.__version__"
   ]
  },
  {
   "cell_type": "code",
   "execution_count": null,
   "id": "2536c7b9-51fb-46b5-8a13-563da88f4759",
   "metadata": {},
   "outputs": [],
   "source": [
    "#import scattermaps_mm\n",
    "from scattermaps_mm import scattermap"
   ]
  },
  {
   "cell_type": "code",
   "execution_count": null,
   "id": "1683eef0-0b9e-49fa-af74-d6edb7c0052e",
   "metadata": {},
   "outputs": [],
   "source": [
    "gsea_combined = pd.read_csv('/Users/asanchezb/Desktop/ko_vs_control_110523/GSEApy_Combined_results.tsv', sep='\\t', index_col=0)\n",
    "path = pd.read_csv('/Users/asanchezb/Desktop/KO_final_pathways.csv')\n",
    "chr_path = pd.read_csv('/Users/asanchezb/Desktop/new_sc_pgonz/GSEA_MM_NEW/CHROMATIN_PATHWAYS.csv')\n",
    "list_paths = list(path.PATH)"
   ]
  },
  {
   "cell_type": "code",
   "execution_count": null,
   "id": "3374f627-7d67-4aec-96fa-5da158f734ba",
   "metadata": {},
   "outputs": [],
   "source": [
    "#list_paths = list(chr_path.PATH)\n",
    "gsea_combined_filter = gsea_combined.loc[list_paths]"
   ]
  },
  {
   "cell_type": "code",
   "execution_count": null,
   "id": "344c33ec-e7f2-4777-9138-7c20650132d9",
   "metadata": {},
   "outputs": [],
   "source": [
    "gsea_combined_filter"
   ]
  },
  {
   "cell_type": "code",
   "execution_count": null,
   "id": "bc35cb48-a459-4b89-afa5-e4b9a0bedb2d",
   "metadata": {},
   "outputs": [],
   "source": [
    "gsea_combined_nes = gsea_combined_filter.pivot_table(index='Sample', columns=\"Term\", values='nes')\n",
    "gsea_combined_fdr = gsea_combined_filter.pivot_table(index='Sample', columns=\"Term\", values='fdr')\n",
    "gsea_combined_pval = gsea_combined_filter.pivot_table(index='Sample', columns=\"Term\", values='pval')"
   ]
  },
  {
   "cell_type": "code",
   "execution_count": null,
   "id": "955ad0b3-e2c8-4b28-93bd-fe18a2dc001d",
   "metadata": {},
   "outputs": [],
   "source": [
    "gsea_combined_nes"
   ]
  },
  {
   "cell_type": "code",
   "execution_count": null,
   "id": "1b875747-0a99-4827-9569-9fa7ee9eeae2",
   "metadata": {},
   "outputs": [],
   "source": [
    "sample_order =['ad_E2_5_plus_dox_vs_E2_5_minus_dox',\n",
    "              'ad_ICM(E3_5)_plus_dox_vs_ICM(E3_5)_minus_dox',\n",
    "              'ad_TE(E3_5)_plus_dox_vs_TE(E3_5)_minus_dox',\n",
    "              'ad_TE(E4_5)_plus_dox_vs_TE(E4_5)_minus_dox',\n",
    "              'ad_Epi(E4_5)_plus_dox_vs_Epi(E4_5)_minus_dox',\n",
    "              'ad_PrE(E4_5)_plus_dox_vs_PrE(E4_5)_minus_dox']"
   ]
  },
  {
   "cell_type": "code",
   "execution_count": null,
   "id": "f314a68c-e498-48bf-b603-bcab5faebe88",
   "metadata": {},
   "outputs": [],
   "source": [
    "sample_order =['ad_E3_5_ko_KO_vs_ICM(E3_5)_Control',\n",
    "              'ad_E3_5_ko_KO_vs_TE(E3_5)_Control',\n",
    "              'ad_Epi(E4_5)_KO_vs_Epi(E4_5)_Control',\n",
    "              'ad_PrE(E4_5)_KO_vs_PrE(E4_5)_Control',\n",
    "              'ad_TE(E4_5)_KO_vs_TE(E4_5)_Control']"
   ]
  },
  {
   "cell_type": "code",
   "execution_count": null,
   "id": "00999ca5-52e5-4676-8e4a-fa88a67deb48",
   "metadata": {},
   "outputs": [],
   "source": [
    "gsea_combined_nes = gsea_combined_nes.reindex(index=sample_order)\n",
    "gsea_combined_fdr = gsea_combined_fdr.reindex(index=sample_order)\n",
    "gsea_combined_pval = gsea_combined_pval.reindex(index=sample_order)"
   ]
  },
  {
   "cell_type": "code",
   "execution_count": null,
   "id": "91a1e2dd-60b6-4022-975e-05a839156961",
   "metadata": {},
   "outputs": [],
   "source": [
    "gsea_combined_nes"
   ]
  },
  {
   "cell_type": "code",
   "execution_count": null,
   "id": "799231d6-067f-4703-a1fb-b8eda837db1c",
   "metadata": {},
   "outputs": [],
   "source": [
    "# Transform to -log\n",
    "size_fdr = -np.log(gsea_combined_fdr)\n",
    "size2_fdr = size_fdr.replace(np.inf, 10)\n",
    "\n",
    "size_pval = -np.log(gsea_combined_pval)\n",
    "size2_pval = size_pval.replace(np.inf, 10)"
   ]
  },
  {
   "cell_type": "markdown",
   "id": "1875af8c-573a-4e3c-8927-3e18a625d5ac",
   "metadata": {},
   "source": [
    "## Plot NES and FDR"
   ]
  },
  {
   "cell_type": "code",
   "execution_count": null,
   "id": "b9b75432-a1ea-4041-bad6-e3895d8c46a1",
   "metadata": {},
   "outputs": [],
   "source": [
    "gsea_combined_nes.shape"
   ]
  },
  {
   "cell_type": "code",
   "execution_count": null,
   "id": "7aa07976-a775-40f0-9560-2a30ea70e871",
   "metadata": {},
   "outputs": [],
   "source": [
    "gsea_combined_nes = gsea_combined_nes.reindex(columns=list_paths)\n",
    "gsea_combined_fdr = gsea_combined_fdr.reindex(columns=list_paths)\n",
    "gsea_combined_pval = gsea_combined_pval.reindex(columns=list_paths)"
   ]
  },
  {
   "cell_type": "code",
   "execution_count": null,
   "id": "38d85a77-f251-4866-9b4b-fc72b8835302",
   "metadata": {},
   "outputs": [],
   "source": [
    "plt.figure(figsize=(30,10))\n",
    "ax = scattermap(gsea_combined_nes, cmap='coolwarm', marker_size=size2_fdr, factor=100, vmin=-1.5, vmax=1.5, square=True)\n",
    "plt.tight_layout()\n",
    "plt.savefig(\"/Users/asanchezb/Desktop/ko_vs_control_110523/plots/top_GSEA_FDR.png\")"
   ]
  },
  {
   "cell_type": "code",
   "execution_count": null,
   "id": "4d7f5a29-7f56-4758-9ce0-d8c52f2db86a",
   "metadata": {},
   "outputs": [],
   "source": [
    "plt.figure(figsize=(30,10))\n",
    "ax = scattermap(gsea_combined_nes, cmap='coolwarm', marker_size=size2_pval, factor=100, vmin=-1.5, vmax=1.5, square=True)\n",
    "plt.tight_layout()\n",
    "plt.savefig(\"/Users/asanchezb/Desktop/ko_vs_control_110523/plots/top_GSEA_pvalue.png\")"
   ]
  },
  {
   "cell_type": "markdown",
   "id": "a2534523-d709-4181-b2b8-ee7b6590ece4",
   "metadata": {},
   "source": [
    "# Selected"
   ]
  },
  {
   "cell_type": "code",
   "execution_count": null,
   "id": "671bed88-a6a6-4858-8e40-5a29f57ef398",
   "metadata": {},
   "outputs": [],
   "source": [
    "gsea_combined_nes = gsea_combined_nes.reindex(columns=list_paths)\n",
    "gsea_combined_fdr = gsea_combined_fdr.reindex(columns=list_paths)\n",
    "gsea_combined_pval = gsea_combined_pval.reindex(columns=list_paths)"
   ]
  },
  {
   "cell_type": "code",
   "execution_count": null,
   "id": "adbef908-1f42-4e98-a901-42056d7ec8be",
   "metadata": {},
   "outputs": [],
   "source": [
    "plt.figure(figsize=(30,15))\n",
    "ax = scattermap(gsea_combined_nes, cmap='coolwarm', marker_size=size2_pval, factor=15, vmin=-1.5, vmax=1.5, square=True)\n",
    "plt.tight_layout()\n",
    "plt.savefig(\"/Users/asanchezb/Desktop/new_sc_pgonz/GSEA_MM/selected_GSEA_pval.png\")"
   ]
  },
  {
   "cell_type": "code",
   "execution_count": null,
   "id": "fd23d5f6-49d4-48fb-8471-bddefaf04425",
   "metadata": {},
   "outputs": [],
   "source": [
    "plt.figure(figsize=(30,15))\n",
    "ax = scattermap(gsea_combined_nes, cmap='coolwarm', marker_size=size2_fdr, factor=15, vmin=-1.5, vmax=1.5, square=True)\n",
    "plt.tight_layout()\n",
    "plt.savefig(\"/Users/asanchezb/Desktop/new_sc_pgonz/GSEA_MM/selected_GSEA_fdr.png\")"
   ]
  },
  {
   "cell_type": "markdown",
   "id": "ff9cf8b9-f1a8-4799-b90a-3b01185c4c20",
   "metadata": {},
   "source": [
    "# Add targets"
   ]
  },
  {
   "cell_type": "code",
   "execution_count": null,
   "id": "a1e1a3b0-115e-43be-b1a5-2b54ad8141fe",
   "metadata": {},
   "outputs": [],
   "source": [
    "gsea_combined_filter"
   ]
  },
  {
   "cell_type": "code",
   "execution_count": null,
   "id": "57882db2-5abf-4f02-ae60-717923fed49d",
   "metadata": {},
   "outputs": [],
   "source": [
    "targets = pd.read_csv('/Users/asanchezb/Desktop/new_sc_pgonz/TARGETS.csv')\n",
    "list_targets = list(targets.x)"
   ]
  },
  {
   "cell_type": "code",
   "execution_count": null,
   "id": "ea097645-613b-481d-9e94-8eceb1e17215",
   "metadata": {},
   "outputs": [],
   "source": [
    "list_targets = [x.upper() for x in list_targets]"
   ]
  },
  {
   "cell_type": "code",
   "execution_count": null,
   "id": "6c2fcb53-4a84-4b69-8f5b-bd25aa36466b",
   "metadata": {},
   "outputs": [],
   "source": [
    "gsea_combined_filter.ledge_genes.iloc[0,]"
   ]
  },
  {
   "cell_type": "code",
   "execution_count": null,
   "id": "c1c2accf-9dfe-421f-bea7-18358b5f216e",
   "metadata": {},
   "outputs": [],
   "source": [
    "tar = []\n",
    "for i in range(gsea_combined_filter.shape[0]):\n",
    "    genes = gsea_combined_filter.ledge_genes.iloc[i,]\n",
    "    list_genes = genes.split(';')\n",
    "    matches = list(set(list_genes) & set(list_targets))\n",
    "    tar.append(matches)\n",
    "\n",
    "gsea_combined_filter['target_genes'] = tar"
   ]
  },
  {
   "cell_type": "code",
   "execution_count": null,
   "id": "d03cf97b-09e5-4931-9329-a7dd927f50d7",
   "metadata": {},
   "outputs": [],
   "source": [
    "gsea_combined_filter"
   ]
  },
  {
   "cell_type": "code",
   "execution_count": null,
   "id": "ebb0be69-1941-4859-8cf9-dbe82ec0ab62",
   "metadata": {},
   "outputs": [],
   "source": [
    "gsea_combined_filter.to_csv('/Users/asanchezb/Desktop/ko_vs_control_110523/plots/gsea_combined_filter_target.tsv', sep='\\t')"
   ]
  },
  {
   "cell_type": "markdown",
   "id": "b81c8584-6503-477f-b0ab-218deef8075c",
   "metadata": {},
   "source": [
    "# GSEA NEW"
   ]
  },
  {
   "cell_type": "code",
   "execution_count": null,
   "id": "50488725-67f0-4c73-bfd7-43519f3a26c9",
   "metadata": {},
   "outputs": [],
   "source": [
    "gsea_new = pd.read_csv('/Users/asanchezb/Desktop/new_sc_pgonz/GSEA_MM/h.c2.cp.v7.2.symbols_mix.gmt', sep='\\t', header=None, index_col=0)"
   ]
  },
  {
   "cell_type": "code",
   "execution_count": null,
   "id": "755eb36f-a463-49d6-bb62-080e9d82f714",
   "metadata": {},
   "outputs": [],
   "source": [
    "gsea_new = gsea_new.loc[list_paths]"
   ]
  },
  {
   "cell_type": "code",
   "execution_count": null,
   "id": "69c8c33e-3716-42f4-81b6-afbbd6c80703",
   "metadata": {},
   "outputs": [],
   "source": [
    "pluri = pd.read_csv('/Users/asanchezb/Desktop/pluripotency.csv')\n",
    "toti = pd.read_csv('/Users/asanchezb/Desktop/totipotency.csv')"
   ]
  },
  {
   "cell_type": "code",
   "execution_count": null,
   "id": "a88cc274-f5f6-4b6a-a66f-6be4b175b22d",
   "metadata": {},
   "outputs": [],
   "source": [
    "targets = pd.read_csv('/Users/asanchezb/Desktop/new_sc_pgonz/TARGETS_2.csv')\n",
    "#list_targets = list(targets.MIR-203_TARGETS)"
   ]
  },
  {
   "cell_type": "code",
   "execution_count": null,
   "id": "24479102-cc93-4914-9d1a-17282be94616",
   "metadata": {},
   "outputs": [],
   "source": [
    "targets['MIR-203_TARGETS'] = targets['MIR-203_TARGETS'].str.upper()"
   ]
  },
  {
   "cell_type": "code",
   "execution_count": null,
   "id": "8d0096cf-53d2-49d2-ba65-feacd7a89706",
   "metadata": {},
   "outputs": [],
   "source": [
    "pluri['WONG_EMBRYONIC_STEM_CELL_CORE'] = pluri['WONG_EMBRYONIC_STEM_CELL_CORE'].str.upper()\n",
    "toti['TOTIPOTENCY'] = toti['TOTIPOTENCY'].str.upper()"
   ]
  },
  {
   "cell_type": "code",
   "execution_count": null,
   "id": "d82cc3b1-dcda-41d6-a97a-e7f727fb8c7b",
   "metadata": {},
   "outputs": [],
   "source": [
    "targets.T"
   ]
  },
  {
   "cell_type": "code",
   "execution_count": null,
   "id": "ec9dc610-1244-4290-868f-88cd054d114c",
   "metadata": {},
   "outputs": [],
   "source": [
    "gsea_new = gsea_new.append(targets.T)"
   ]
  },
  {
   "cell_type": "code",
   "execution_count": null,
   "id": "524f787c-76c1-4af8-8442-fccec39b347b",
   "metadata": {},
   "outputs": [],
   "source": [
    "gsea_new = gsea_new.append(pluri.T)\n",
    "gsea_new = gsea_new.append(toti.T)"
   ]
  },
  {
   "cell_type": "code",
   "execution_count": null,
   "id": "312ea199-50d5-46fb-9491-18d5c87be145",
   "metadata": {},
   "outputs": [],
   "source": [
    "pd.DataFrame(gsea_new.loc['MIR-203_TARGETS'])"
   ]
  },
  {
   "cell_type": "code",
   "execution_count": null,
   "id": "459dbef7-613c-4808-a49b-a9e9b112557f",
   "metadata": {},
   "outputs": [],
   "source": [
    "gsea_new.to_csv('/Users/asanchezb/Desktop/new_sc_pgonz/GSEA_MM/gsea_new_pepe_100523.gmt', index=True, header= False, sep= '\\t')"
   ]
  },
  {
   "cell_type": "code",
   "execution_count": null,
   "id": "99e6588d-719b-42e6-b47d-a7aaa22ef713",
   "metadata": {},
   "outputs": [],
   "source": [
    "targets.T.to_csv('GSEA_MM/MIR_203.gmt', index=True, header= False, sep= '\\t')"
   ]
  },
  {
   "cell_type": "code",
   "execution_count": null,
   "id": "d102a86b-1ed4-4cf8-bcf3-0c335f186236",
   "metadata": {},
   "outputs": [],
   "source": [
    "pwd"
   ]
  },
  {
   "cell_type": "code",
   "execution_count": null,
   "id": "40b1635d-b96a-43fc-b606-31ba3602b6ea",
   "metadata": {},
   "outputs": [],
   "source": [
    "# EDIT\n",
    "database = adata            # adata (all samples) or subset of data\n",
    "dataname = \"ad\"\n",
    "\n",
    "method = 'wilcoxon'         # 't-test' or 'wilcoxon'\n",
    "\n",
    "# Select Pathways\n",
    "GENESETS = \"/Users/asanchezb/Desktop/new_sc_pgonz/GSEA_MM/\"\n",
    "gset = GENESETS + \"gsea_new_pepe_100523\"\n",
    "\n",
    "# Empty dataframe to accumulate all GSEA results\n",
    "pre_res = pd.read_csv(GENESETS + \"pre_res_empy.tsv\", sep=\"\\t\", index_col=\"Term\")\n",
    "\n",
    "# Column and groups\n",
    "score = \"Phenotype_2\"            # column in adata.obs\n",
    "\n",
    "groupA = \"E3_5_ko_KO\"              # label for score in adata.obs\n",
    "groupB = \"ICM(E3_5)_Control\"                # label for score in adata.obs\n",
    "pre_res = run_all(DESKTOP, database, dataname, score, groupA, groupB, method, pre_res)\n",
    "\n",
    "groupA = \"E3_5_ko_KO\"              # label for score in adata.obs\n",
    "groupB = \"TE(E3_5)_Control\"                # label for score in adata.obs\n",
    "pre_res = run_all(DESKTOP, database, dataname, score, groupA, groupB, method, pre_res)\n",
    "\n",
    "groupA = \"PrE(E4_5)_KO\"              # label for score in adata.obs\n",
    "groupB = \"PrE(E4_5)_Control\"                # label for score in adata.obs\n",
    "pre_res = run_all(DESKTOP, database, dataname, score, groupA, groupB, method, pre_res)\n",
    "\n",
    "groupA = \"TE(E4_5)_KO\"              # label for score in adata.obs\n",
    "groupB = \"TE(E4_5)_Control\"                # label for score in adata.obs\n",
    "pre_res = run_all(DESKTOP, database, dataname, score, groupA, groupB, method, pre_res)\n",
    "\n",
    "groupA = \"Epi(E4_5)_KO\"              # label for score in adata.obs\n",
    "groupB = \"Epi(E4_5)_Control\"                # label for score in adata.obs\n",
    "pre_res = run_all(DESKTOP, database, dataname, score, groupA, groupB, method, pre_res)\n",
    "\n",
    "\n",
    "pre_res.to_csv(DESKTOP + \"GSEApy_Combined_results.tsv\", sep=\"\\t\")"
   ]
  },
  {
   "cell_type": "code",
   "execution_count": null,
   "id": "570ac216-05c8-4d62-9bc6-4501aa7bc6b5",
   "metadata": {},
   "outputs": [],
   "source": [
    "gsea_combined = pd.read_csv('/Users/asanchezb/Desktop/ko_vs_control_160523/GSEApy_Combined_results.tsv', sep='\\t', index_col=0)"
   ]
  },
  {
   "cell_type": "code",
   "execution_count": null,
   "id": "cdf47e7c-9205-4323-a667-4872ec201ca0",
   "metadata": {},
   "outputs": [],
   "source": [
    "gsea_combined_filter = gsea_combined"
   ]
  },
  {
   "cell_type": "code",
   "execution_count": null,
   "id": "c5afd8ae-0568-42da-adfe-5484d7a45b32",
   "metadata": {},
   "outputs": [],
   "source": [
    "path = pd.read_csv('/Users/asanchezb/Desktop/KO_final_pathways_2.csv')\n",
    "list_paths = list(path.PATH)"
   ]
  },
  {
   "cell_type": "code",
   "execution_count": null,
   "id": "c43dbd7b-17ba-4314-9558-a04e725a82fb",
   "metadata": {},
   "outputs": [],
   "source": [
    "gsea_combined_nes = gsea_combined_filter.pivot_table(index='Sample', columns=\"Term\", values='nes')\n",
    "gsea_combined_fdr = gsea_combined_filter.pivot_table(index='Sample', columns=\"Term\", values='fdr')\n",
    "gsea_combined_pval = gsea_combined_filter.pivot_table(index='Sample', columns=\"Term\", values='pval')"
   ]
  },
  {
   "cell_type": "code",
   "execution_count": null,
   "id": "f8df3eb7-1b6c-40a2-b747-de6570abcbf1",
   "metadata": {},
   "outputs": [],
   "source": [
    "sample_order =['ad_E2_5_plus_dox_vs_E2_5_minus_dox',\n",
    "              'ad_ICM(E3_5)_plus_dox_vs_ICM(E3_5)_minus_dox',\n",
    "              'ad_TE(E3_5)_plus_dox_vs_TE(E3_5)_minus_dox',\n",
    "              'ad_TE(E4_5)_plus_dox_vs_TE(E4_5)_minus_dox',\n",
    "              'ad_Epi(E4_5)_plus_dox_vs_Epi(E4_5)_minus_dox',\n",
    "              'ad_PrE(E4_5)_plus_dox_vs_PrE(E4_5)_minus_dox']"
   ]
  },
  {
   "cell_type": "code",
   "execution_count": null,
   "id": "98466d84-57f1-4cf8-bdfc-dbf946dd67d9",
   "metadata": {},
   "outputs": [],
   "source": [
    "gsea_combined_nes = gsea_combined_nes.reindex(index=sample_order)\n",
    "gsea_combined_fdr = gsea_combined_fdr.reindex(index=sample_order)\n",
    "gsea_combined_pval = gsea_combined_pval.reindex(index=sample_order)"
   ]
  },
  {
   "cell_type": "code",
   "execution_count": null,
   "id": "2dcb4337-eff5-469c-82ad-450817d9c914",
   "metadata": {},
   "outputs": [],
   "source": [
    "# Transform to -log\n",
    "size_fdr = -np.log(gsea_combined_fdr)\n",
    "size2_fdr = size_fdr.replace(np.inf, 10)\n",
    "\n",
    "size_pval = -np.log(gsea_combined_pval)\n",
    "size2_pval = size_pval.replace(np.inf, 10)"
   ]
  },
  {
   "cell_type": "code",
   "execution_count": null,
   "id": "53febba1-d221-464b-a7b8-d50e7a781b60",
   "metadata": {},
   "outputs": [],
   "source": [
    "gsea_combined_nes = gsea_combined_nes.reindex(columns=list_paths)\n",
    "gsea_combined_fdr = gsea_combined_fdr.reindex(columns=list_paths)\n",
    "gsea_combined_pval = gsea_combined_pval.reindex(columns=list_paths)"
   ]
  },
  {
   "cell_type": "code",
   "execution_count": null,
   "id": "39a74ae6-9e8e-4a52-96c8-bb01b1dfb36d",
   "metadata": {},
   "outputs": [],
   "source": [
    "plt.figure(figsize=(30,15))\n",
    "ax = scattermap(gsea_combined_nes, cmap='coolwarm', marker_size=size2_fdr, factor=40, vmin=-1.5, vmax=1.5, square=True)\n",
    "plt.tight_layout()\n",
    "plt.savefig(\"/Users/asanchezb/Desktop/ko_vs_control_160523/top_GSEA_FDR.png\")"
   ]
  },
  {
   "cell_type": "code",
   "execution_count": null,
   "id": "3d727c3f-4846-4711-9396-1a0a274c54b2",
   "metadata": {},
   "outputs": [],
   "source": [
    "plt.figure(figsize=(30,15))\n",
    "ax = scattermap(gsea_combined_nes, cmap='coolwarm', marker_size=size2_pval, factor=40, vmin=-1.5, vmax=1.5, square=True)\n",
    "plt.tight_layout()\n",
    "plt.savefig(\"/Users/asanchezb/Desktop/ko_vs_control_160523/top_GSEA_pvalue.png\")"
   ]
  },
  {
   "cell_type": "markdown",
   "id": "24a1c748-a5b6-40c4-943b-0cd4ff5bdc10",
   "metadata": {},
   "source": [
    "# MIR AND 2CELL GSEA"
   ]
  },
  {
   "cell_type": "code",
   "execution_count": null,
   "id": "b7356320-23c5-4882-a7dc-4671b1b0005b",
   "metadata": {},
   "outputs": [],
   "source": [
    "gsea_combined = pd.read_csv('/Users/asanchezb/Desktop/new_sc_pgonz/GSEA_MM_NEW/MIR_AND_2CELL/GSEApy_Combined_results.tsv', sep='\\t', index_col=0)"
   ]
  },
  {
   "cell_type": "code",
   "execution_count": null,
   "id": "31028054-dd91-4793-9d63-0d21a96e0083",
   "metadata": {},
   "outputs": [],
   "source": [
    "gsea_combined_filter = gsea_combined"
   ]
  },
  {
   "cell_type": "code",
   "execution_count": null,
   "id": "0cf1e1f2-f538-40f8-8921-bb46771e1e47",
   "metadata": {},
   "outputs": [],
   "source": [
    "gsea_combined_nes = gsea_combined_filter.pivot_table(index='Sample', columns=\"Term\", values='nes')\n",
    "gsea_combined_fdr = gsea_combined_filter.pivot_table(index='Sample', columns=\"Term\", values='fdr')\n",
    "gsea_combined_pval = gsea_combined_filter.pivot_table(index='Sample', columns=\"Term\", values='pval')"
   ]
  },
  {
   "cell_type": "code",
   "execution_count": null,
   "id": "b9f9f63b-8059-40fd-aa90-a5ef6a4645f8",
   "metadata": {},
   "outputs": [],
   "source": [
    "sample_order =['ad_E2_5_plus_dox_vs_E2_5_minus_dox',\n",
    "              'ad_ICM(E3_5)_plus_dox_vs_ICM(E3_5)_minus_dox',\n",
    "              'ad_TE(E3_5)_plus_dox_vs_TE(E3_5)_minus_dox',\n",
    "              'ad_TE(E4_5)_plus_dox_vs_TE(E4_5)_minus_dox',\n",
    "              'ad_Epi(E4_5)_plus_dox_vs_Epi(E4_5)_minus_dox',\n",
    "              'ad_PrE(E4_5)_plus_dox_vs_PrE(E4_5)_minus_dox']"
   ]
  },
  {
   "cell_type": "code",
   "execution_count": null,
   "id": "86ebc755-e897-43a6-9030-a6eda93e2ff4",
   "metadata": {},
   "outputs": [],
   "source": [
    "gsea_combined_nes = gsea_combined_nes.reindex(index=sample_order)\n",
    "gsea_combined_fdr = gsea_combined_fdr.reindex(index=sample_order)\n",
    "gsea_combined_pval = gsea_combined_pval.reindex(index=sample_order)"
   ]
  },
  {
   "cell_type": "code",
   "execution_count": null,
   "id": "3161569c-07c5-4e4b-9d88-c6aa24c565cb",
   "metadata": {},
   "outputs": [],
   "source": [
    "# Transform to -log\n",
    "size_fdr = -np.log(gsea_combined_fdr)\n",
    "size2_fdr = size_fdr.replace(np.inf, 10)\n",
    "\n",
    "size_pval = -np.log(gsea_combined_pval)\n",
    "size2_pval = size_pval.replace(np.inf, 10)"
   ]
  },
  {
   "cell_type": "code",
   "execution_count": null,
   "id": "8b8a41ca-b18e-41e5-b70c-4c68f165055a",
   "metadata": {},
   "outputs": [],
   "source": [
    "plt.figure(figsize=(30,15))\n",
    "ax = scattermap(gsea_combined_nes, cmap='coolwarm', marker_size=size2_fdr, factor=15, vmin=-1.5, vmax=1.5, square=True)\n",
    "plt.tight_layout()\n",
    "plt.savefig(\"/Users/asanchezb/Desktop/new_sc_pgonz/GSEA_MM_NEW/MIR_AND_2CELL/top_GSEA_FDR.png\")"
   ]
  },
  {
   "cell_type": "code",
   "execution_count": null,
   "id": "7d88225f-eede-4b61-bcde-1bc7294a7239",
   "metadata": {},
   "outputs": [],
   "source": []
  },
  {
   "cell_type": "code",
   "execution_count": null,
   "id": "84c9b2bd-7e56-4b1e-b075-f4b226ef0561",
   "metadata": {},
   "outputs": [],
   "source": []
  },
  {
   "cell_type": "markdown",
   "id": "60ecc8f6-c8d8-45fa-a38f-a002a8990ba2",
   "metadata": {},
   "source": [
    "# 9. miR-203 targets"
   ]
  },
  {
   "cell_type": "code",
   "execution_count": null,
   "id": "b5bf8d26-7bfc-47d7-a217-bc2ff182559b",
   "metadata": {},
   "outputs": [],
   "source": [
    "targets = pd.read_csv('/Users/asanchezb/Desktop/new_sc_pgonz/TARGETS_2.csv')\n",
    "#list_targets = list(targets.MIR-203_TARGETS)"
   ]
  },
  {
   "cell_type": "code",
   "execution_count": null,
   "id": "79f16126-ab3f-45e3-9a83-97e52eb734ea",
   "metadata": {},
   "outputs": [],
   "source": [
    "genes = ['Kat6a','Kat6b','Ep300','Arid1a','Arid2','Dr1','Smarcd1','Kmt2c','Atf2']"
   ]
  },
  {
   "cell_type": "code",
   "execution_count": null,
   "id": "ee727e0a-5bb7-45e7-afc8-3258a02f555d",
   "metadata": {},
   "outputs": [],
   "source": [
    "sc.pl.dotplot(adata, genes, groupby=\"Treatment\")"
   ]
  },
  {
   "cell_type": "code",
   "execution_count": null,
   "id": "c711e918-e7fc-4d03-825b-1cc51b834e53",
   "metadata": {},
   "outputs": [],
   "source": [
    "sc.pl.dotplot(adata[adata.obs.Treatment != \"KO\"], genes, groupby=\"leiden_groups_genotype\", standard_scale=\"var\")"
   ]
  },
  {
   "cell_type": "code",
   "execution_count": null,
   "id": "e34f80d6-6eec-45f6-8d46-7abab4173309",
   "metadata": {},
   "outputs": [],
   "source": [
    "adata.obs.leiden_groups_genotype.dtype"
   ]
  },
  {
   "cell_type": "code",
   "execution_count": null,
   "id": "6b51544f-2673-47c6-a07b-dcacc5d27545",
   "metadata": {},
   "outputs": [],
   "source": [
    "order = [\"Mix(E3.5)_KO\", 'TE(E3.5)_KO', 'TE(E3.5)_Control', 'TE(E3.5)_dox', \"ICM(E3.5)_KO\", \"ICM(E3.5)_Control\", \"ICM(E3.5)_dox\",\n",
    "         \"pre_TE(E4.5)_KO\", \"pre_TE(E4.5)_Control\", \"pre_TE(E4.5)_dox\", \"TE(E4.5)_KO\", \"TE(E4.5)_Control\", \"TE(E4.5)_dox\",\n",
    "         \"Epi(E4.5)_KO\", \"Epi(E4.5)_Control\", \"Epi(E4.5)_dox\", \"PrE(E4.5)_KO\", \"PrE(E4.5)_Control\", \"PrE(E4.5)_dox\"] \n",
    "\n",
    "order_KO = [\"Mix(E3.5)_KO\", 'TE(E3.5)_KO', 'TE(E3.5)_Control', \"ICM(E3.5)_KO\", \"ICM(E3.5)_Control\", \n",
    "         \"pre_TE(E4.5)_KO\", \"pre_TE(E4.5)_Control\", \"TE(E4.5)_KO\", \"TE(E4.5)_Control\", \n",
    "         \"Epi(E4.5)_KO\", \"Epi(E4.5)_Control\", \"PrE(E4.5)_KO\", \"PrE(E4.5)_Control\"] \n",
    "\n",
    "order_KI = ['TE(E3.5)_Control', 'TE(E3.5)_dox', \"ICM(E3.5)_Control\", \"ICM(E3.5)_dox\",\n",
    "         \"pre_TE(E4.5)_Control\", \"pre_TE(E4.5)_dox\", \"TE(E4.5)_Control\", \"TE(E4.5)_dox\",\n",
    "         \"Epi(E4.5)_Control\", \"Epi(E4.5)_dox\", \"PrE(E4.5)_Control\", \"PrE(E4.5)_dox\"] "
   ]
  },
  {
   "cell_type": "code",
   "execution_count": null,
   "id": "c618ee24-d8e9-40ad-aed4-35120962f248",
   "metadata": {},
   "outputs": [],
   "source": [
    "sc.pl.dotplot(adata_KI, genes, groupby=\"leiden_groups_genotype\", categories_order=order_KI, standard_scale=\"var\")"
   ]
  },
  {
   "cell_type": "code",
   "execution_count": null,
   "id": "353b60c9-c359-49cb-b0bb-6510b67d8c94",
   "metadata": {},
   "outputs": [],
   "source": []
  }
 ],
 "metadata": {
  "kernelspec": {
   "display_name": "Python 3 (ipykernel)",
   "language": "python",
   "name": "python3"
  },
  "language_info": {
   "codemirror_mode": {
    "name": "ipython",
    "version": 3
   },
   "file_extension": ".py",
   "mimetype": "text/x-python",
   "name": "python",
   "nbconvert_exporter": "python",
   "pygments_lexer": "ipython3",
   "version": "3.8.12"
  }
 },
 "nbformat": 4,
 "nbformat_minor": 5
}
