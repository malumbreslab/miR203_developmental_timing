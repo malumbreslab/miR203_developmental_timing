{
 "cells": [
  {
   "cell_type": "markdown",
   "id": "9fb15f58-67a9-45b3-95a6-1a974808bdbf",
   "metadata": {},
   "source": [
    "# B2. Downstream analysis (paper figures)"
   ]
  },
  {
   "cell_type": "markdown",
   "id": "59293559",
   "metadata": {},
   "source": [
    "- Authors: Marcos Malumbres & Agustín Sánchez-Belmonte\n",
    "- Project: miR-203 controls developmental timing and early fate restriction during preimplantation embryogenesis\n",
    "- Experiment: single cell RNAseq in early embryos (E3.5 and E4.5) in KO, KI and WT conditions.\n",
    "- Part: B2. Downstream analysis (with paper figures)"
   ]
  },
  {
   "cell_type": "markdown",
   "id": "56ab8034",
   "metadata": {},
   "source": [
    "This notebook use the output h5ad file from Part B1. \n",
    "\n",
    "It is very similar to B1 Part, but here there is no new analysis, only visualization tasks and final paper figures."
   ]
  },
  {
   "cell_type": "markdown",
   "id": "47fc1608-5299-41b6-9250-10adb3115013",
   "metadata": {},
   "source": [
    "### Content\n",
    "\n",
    "0. Set up\n",
    "1. Initial Exploratory Analysis\n",
    "2. Markers and Gene Signature Scores\n",
    "3. Clustering\n",
    "4. Classification of cells\n",
    "5. MERVL and other markers\n",
    "6. miR203_KO vs. Control\n",
    "7. miR203_KI vs. Control\n",
    "8. Velocity and Pseudotime\n",
    "9. Save modified .h5ad file\n"
   ]
  },
  {
   "cell_type": "markdown",
   "id": "eb30782b",
   "metadata": {},
   "source": [
    "# 0. Set up"
   ]
  },
  {
   "cell_type": "code",
   "execution_count": null,
   "id": "20de4661-e9fc-4be2-b29a-4782766d24f3",
   "metadata": {},
   "outputs": [],
   "source": [
    "import numpy as np\n",
    "import pandas as pd\n",
    "import scanpy as sc\n",
    "import matplotlib.pyplot as plt\n",
    "import seaborn as sns\n",
    "\n",
    "import scvelo as scv\n",
    "scv.set_figure_params()\n",
    "\n",
    "from matplotlib import rcParams"
   ]
  },
  {
   "cell_type": "code",
   "execution_count": null,
   "id": "a9fa6216-ed68-4e81-a3e5-167701a82853",
   "metadata": {},
   "outputs": [],
   "source": [
    "# Settings\n",
    "sc.settings.verbosity = 0\n",
    "sc.logging.print_header()\n",
    "sc.set_figure_params(dpi=120, color_map='viridis', dpi_save=300)\n",
    "sc.set_figure_params(figsize=[5,4])\n",
    "\n",
    "DATA = '/Users/mmalumbres/Library/CloudStorage/OneDrive-VHIO/BioInformatics/BioProjects/miR203 & early embryos/data/'\n",
    "signature_folder = \"/Users/mmalumbres/Library/CloudStorage/OneDrive-VHIO/BioInformatics/BioProjects/miR203 & early embryos/resources/Signatures/\"\n",
    "DESKTOP = '/Users/mmalumbres/Desktop/'\n",
    "sc.settings.figdir = DESKTOP"
   ]
  },
  {
   "cell_type": "code",
   "execution_count": null,
   "id": "ee8160a6-5e64-441e-8889-f9689b8f9f61",
   "metadata": {},
   "outputs": [],
   "source": [
    "import warnings   \n",
    "warnings.filterwarnings(\"ignore\")"
   ]
  },
  {
   "cell_type": "markdown",
   "id": "e57ce8f9-3008-4640-8e93-057dfe983713",
   "metadata": {},
   "source": [
    "I have uninstalled seaborn 0.13 and installed 0.11.2 so scattermaps now works! (231211)  \n",
    "But other plots may not work as well"
   ]
  },
  {
   "cell_type": "code",
   "execution_count": null,
   "id": "a42db345-dfad-4094-b0c4-738d9e2f0495",
   "metadata": {},
   "outputs": [],
   "source": [
    "sns.__version__"
   ]
  },
  {
   "cell_type": "code",
   "execution_count": null,
   "id": "3630ef01-1da6-43ac-8111-eb500b5317d5",
   "metadata": {},
   "outputs": [],
   "source": [
    "# Lists and filters\n",
    "pal1 = [\"lightblue\", \"deepskyblue\", \"dodgerblue\", \"navajowhite\", \"darkorange\", \"orangered\"]\n",
    "blues_greens = {\"E3.5\": \"DEEPSKYBLUE\", \"E3.5_KO\": \"DARKBLUE\", \"E3.5_dox\": \"BLUE\",\n",
    "                \"E4.5\": \"GREENYELLOW\", \"E4.5_KO\": \"DARKGREEN\", \"E4.5_dox\": \"LIMEGREEN\"}"
   ]
  },
  {
   "cell_type": "markdown",
   "id": "4b3c000b-daa2-4154-b5cf-6b5744ee1802",
   "metadata": {},
   "source": [
    "## Load all data (\"231215_mir203_all.h5ad\")"
   ]
  },
  {
   "cell_type": "code",
   "execution_count": null,
   "id": "f3f17f52-f39b-4d6e-8433-0836cb05a30d",
   "metadata": {},
   "outputs": [],
   "source": [
    "adata = sc.read(DATA + \"231215_mir203_all.h5ad\")\n",
    "adata"
   ]
  },
  {
   "cell_type": "code",
   "execution_count": null,
   "id": "edf61b58-846e-4dce-89fd-d99ab2393d47",
   "metadata": {},
   "outputs": [],
   "source": [
    "adata.obs.head(2)"
   ]
  },
  {
   "cell_type": "code",
   "execution_count": null,
   "id": "605980fb-ef5f-42f4-9a6f-0571fc88b1d0",
   "metadata": {},
   "outputs": [],
   "source": [
    "adata.obs.tail(3)"
   ]
  },
  {
   "cell_type": "code",
   "execution_count": null,
   "id": "cbdedfc5-5b3f-4141-9438-530608c9dbb3",
   "metadata": {},
   "outputs": [],
   "source": [
    "adata.obs.Sample.unique()"
   ]
  },
  {
   "cell_type": "code",
   "execution_count": null,
   "id": "75f28cfd-00b4-486a-8488-c3330ccb7b7b",
   "metadata": {},
   "outputs": [],
   "source": [
    "sc.pl.umap(adata, color=[\"Stage\", \"Treatment\", \"Sample\"], save=\"_Stage_Treat_Samples.png\")"
   ]
  },
  {
   "cell_type": "code",
   "execution_count": null,
   "id": "db9e2036-ccb9-4d90-966d-b6ee849d6508",
   "metadata": {},
   "outputs": [],
   "source": [
    "sc.pl.umap(adata, color=[\"Sample\"], palette=blues_greens, save=\"_Samples.png\")"
   ]
  },
  {
   "cell_type": "markdown",
   "id": "22ad7036-4a01-49bb-8986-4a7df6e6edb0",
   "metadata": {},
   "source": [
    "# 1. Initial Exploratory Analysis"
   ]
  },
  {
   "cell_type": "code",
   "execution_count": null,
   "id": "1d0ac20b-8ea7-4fd9-9846-5c773e00378f",
   "metadata": {},
   "outputs": [],
   "source": [
    "sc.pl.violin(adata, ['n_genes_by_counts', 'total_counts'], vmax=[8000, 10000], jitter=0.4, multi_panel=True)"
   ]
  },
  {
   "cell_type": "code",
   "execution_count": null,
   "id": "41da9035-10e3-4677-ab98-53e7eeaa4a2b",
   "metadata": {},
   "outputs": [],
   "source": [
    "fig, ax = plt.subplots()\n",
    "sc.pl.violin(adata, ['total_counts'], rotation=90, jitter=0.4, ax=ax, show=False)\n",
    "ax.set_ylim(10, 1000)\n",
    "plt.show()"
   ]
  },
  {
   "cell_type": "code",
   "execution_count": null,
   "id": "b9a838b2-318a-4d60-a308-e3f398b6695a",
   "metadata": {},
   "outputs": [],
   "source": [
    "adata.obs.total_counts.min()"
   ]
  },
  {
   "cell_type": "code",
   "execution_count": null,
   "id": "090defe6-64e7-4c72-828f-cefe3967e66a",
   "metadata": {},
   "outputs": [],
   "source": [
    "sc.pl.umap(adata, color=[\"n_genes\", \"Sample\", ])"
   ]
  },
  {
   "cell_type": "code",
   "execution_count": null,
   "id": "b98e94bb-05f7-4de5-a70a-58f0aefd0232",
   "metadata": {},
   "outputs": [],
   "source": [
    "adata.obs.Sample.value_counts()"
   ]
  },
  {
   "cell_type": "code",
   "execution_count": null,
   "id": "3d10e9d8-cef2-4666-8ff6-2316d7722fa1",
   "metadata": {},
   "outputs": [],
   "source": [
    "sns.countplot(data=adata.obs, x=\"Sample\")\n",
    "plt.xticks(rotation=45)\n",
    "plt.savefig(DESKTOP + \"bar-plot_Sample.png\", dpi=300)"
   ]
  },
  {
   "cell_type": "code",
   "execution_count": null,
   "id": "07ec4cda-301b-4e35-a864-f9ba01175b5c",
   "metadata": {},
   "outputs": [],
   "source": [
    "sns.countplot(data=adata.obs, x=\"Stage\")"
   ]
  },
  {
   "cell_type": "code",
   "execution_count": null,
   "id": "aa55a621-4d52-4254-ae45-9a6f7f09aeef",
   "metadata": {},
   "outputs": [],
   "source": [
    "sns.countplot(data=adata.obs, x=\"Treatment\")"
   ]
  },
  {
   "cell_type": "raw",
   "id": "2ae3f64a-3fd1-4cf0-ac2b-8faaea72d470",
   "metadata": {},
   "source": [
    "# Does not work with seaborn 0.11.2\n",
    "# This is very weird --- not clear why!!\n",
    "sc.pl.highest_expr_genes(adata, n_top=20)  #save=\"_Fig.01.png\""
   ]
  },
  {
   "cell_type": "code",
   "execution_count": null,
   "id": "11e5af3c-8215-4518-80f2-92a3a6e5c60a",
   "metadata": {},
   "outputs": [],
   "source": [
    "#Plot distribution of mitochondrial and ribosomal genes\n",
    "sc.pl.violin(adata, ['n_genes_by_counts', 'total_counts', 'pct_counts_MT','pct_counts_RB'], groupby='Experiment',\n",
    "             jitter=0.4, multi_panel=True, rotation=90)"
   ]
  },
  {
   "cell_type": "code",
   "execution_count": null,
   "id": "a1acde20-ae36-4cab-8830-560088387ced",
   "metadata": {},
   "outputs": [],
   "source": [
    "# Plot mitochondrial genes expressed\n",
    "sc.pl.scatter(adata, x='total_counts', y='pct_counts_MT', size=100)\n",
    "# Plot total counts\n",
    "sc.pl.scatter(adata, x='total_counts', y='pct_counts_RB', size=100)\n",
    "sc.pl.scatter(adata, x='total_counts', y='n_genes_by_counts', size=100)"
   ]
  },
  {
   "cell_type": "code",
   "execution_count": null,
   "id": "b53cb724-d93a-41be-b7f0-d1c3ad722d49",
   "metadata": {},
   "outputs": [],
   "source": [
    "sc.pl.pca(adata, color=[\"Stage\", 'Treatment', \"Sample\"], save=\"_Stage_Treat_Sample.png\")"
   ]
  },
  {
   "cell_type": "code",
   "execution_count": null,
   "id": "6229ec45-1aeb-4d8a-be6a-503d489e4ffe",
   "metadata": {},
   "outputs": [],
   "source": [
    "sc.pl.umap(adata, color=['Sample'], s=30, palette=blues_greens, save=\"_Sample_30.png\")"
   ]
  },
  {
   "cell_type": "code",
   "execution_count": null,
   "id": "63f0ec0a-8c55-40fb-9298-2f64af815b83",
   "metadata": {},
   "outputs": [],
   "source": [
    "sc.pl.umap(adata, color=['total_counts', 'pct_counts_MT','pct_counts_RB'], palette=\"Set2\", color_map= plt.cm.Purples)"
   ]
  },
  {
   "cell_type": "markdown",
   "id": "a955b599-fd18-4773-8fa6-e82acecf8b95",
   "metadata": {},
   "source": [
    "# 2. Markers  \n",
    "231207 - reevaluation MM"
   ]
  },
  {
   "cell_type": "markdown",
   "id": "aa9f8c0f-8120-4f39-934e-6261c52fda90",
   "metadata": {},
   "source": [
    "Initial exploration\n",
    "- ICM/Epiblast markers: `['Pou5f1', 'Klf4', 'Nanog']`\n",
    "- Hypoblast markers: `['Gata6', 'Gata4', 'Sox17']`  \n",
    "- Trophectoderm markers: `['Cdx2', 'Gata3', 'Krt8']`\n"
   ]
  },
  {
   "cell_type": "code",
   "execution_count": null,
   "id": "b0ea9581-a299-49e5-a167-b869fa4cb9ce",
   "metadata": {},
   "outputs": [],
   "source": [
    "sc.pl.umap(adata, size=100,color=['Pou5f1', 'Klf4', 'Nanog'],palette=\"Set2\", color_map= plt.cm.Purples, \n",
    "           save = '_Epiblast_ICM_markers.png')"
   ]
  },
  {
   "cell_type": "code",
   "execution_count": null,
   "id": "e7331a3c-5615-45eb-8acd-16484f48db3e",
   "metadata": {},
   "outputs": [],
   "source": [
    "sc.pl.umap(adata, size=100,color=['Cdx2', 'Gata3', 'Krt8'],palette=\"Set2\", color_map= plt.cm.Purples,\n",
    "           save = '_TE_markers.png') "
   ]
  },
  {
   "cell_type": "code",
   "execution_count": null,
   "id": "5a909b35-ae15-4f12-87c9-7fba498aea29",
   "metadata": {},
   "outputs": [],
   "source": [
    "sc.pl.umap(adata, size=100,color=['Gata6', 'Gata4', 'Sox17'],palette=\"Set2\", color_map= plt.cm.Purples,\n",
    "           save = '_hipoblast_markers.png')"
   ]
  },
  {
   "cell_type": "code",
   "execution_count": null,
   "id": "61d56c2a-db64-4325-aa98-a97b610ce6d9",
   "metadata": {},
   "outputs": [],
   "source": []
  },
  {
   "cell_type": "markdown",
   "id": "f2346c6d-a06a-4d33-a07f-5e0ebdf1e2de",
   "metadata": {},
   "source": [
    "# 3. Gene Signatures"
   ]
  },
  {
   "cell_type": "code",
   "execution_count": null,
   "id": "3bb478a3-1fd2-48cf-8528-e7069a1db118",
   "metadata": {},
   "outputs": [],
   "source": [
    "sc.pl.umap(adata, size=100, color=['2-cell-like', '8-cell-like',],\n",
    "           palette=\"Set2\", color_map= plt.cm.Purples, save = '_2-8-cell_scores.png') "
   ]
  },
  {
   "cell_type": "code",
   "execution_count": null,
   "id": "5e7cf310-0aa1-4a22-8bc1-05ae3d7e7258",
   "metadata": {},
   "outputs": [],
   "source": [
    "sc.pl.umap(adata, size=100, color=['EPI', 'TE', 'prE'],\n",
    "           palette=\"Set2\", color_map= plt.cm.Purples, save = '_EPI-TE-prE_scores.png')"
   ]
  },
  {
   "cell_type": "markdown",
   "id": "a9e541b6-1df3-4c58-86f2-367d172d8f0c",
   "metadata": {},
   "source": [
    "Select:\n",
    "- `2-cell-like`: very specific of 2-cell/totipotent cells\n",
    "- `two_cell_282`: more general 2-cell + 8-cell? early (very similar to `8-cell-like` and to `eight_cell`)\n",
    "- `Primed`: general E4.5 markers\n",
    "- `EPI`: Epiblast and ICM lineage\n",
    "- `TE`: throphoectoderm, very similar to TE_3\n",
    "- `prE`: primmitive endoderm\n"
   ]
  },
  {
   "cell_type": "code",
   "execution_count": null,
   "id": "e50bc9c7-fcaf-4941-a645-7705c0f40d05",
   "metadata": {},
   "outputs": [],
   "source": [
    "two_cell_markers = [\"Spz1\", \"Naalad2\", \"Sp110\", \"Fgf1\", \"Bex6\", \"Zfp352\", \"Foxa1\"]"
   ]
  },
  {
   "cell_type": "code",
   "execution_count": null,
   "id": "3406df38-81d5-4133-a1de-11b21622c2b4",
   "metadata": {},
   "outputs": [],
   "source": [
    "sc.pl.umap(adata, color=two_cell_markers, palette=\"Set2\", color_map= plt.cm.Purples,\n",
    "           save=\"_2-cell-markers.png\")"
   ]
  },
  {
   "cell_type": "code",
   "execution_count": null,
   "id": "1f70a6d0-294b-46e9-bcf1-e3ba5e749f28",
   "metadata": {},
   "outputs": [],
   "source": [
    "sc.pl.umap(adata, color=\"Spz1\", vmax=0.6, palette=\"Set2\", color_map= plt.cm.Purples,\n",
    "           save=\"_2-cell-marker_Spz1.png\")"
   ]
  },
  {
   "cell_type": "code",
   "execution_count": null,
   "id": "738c07fd-5989-4db5-bb9b-1b7029a48dff",
   "metadata": {},
   "outputs": [],
   "source": [
    "sc.pl.umap(adata, color=\"Zfp352\", vmax=0.5, palette=\"Set2\", color_map= plt.cm.Purples,\n",
    "           save=\"_2-cell-marker_Zfp352.png\")"
   ]
  },
  {
   "cell_type": "code",
   "execution_count": null,
   "id": "eddadd0a-1d8b-4723-9768-0af2fc69cec2",
   "metadata": {},
   "outputs": [],
   "source": [
    "sc.pl.umap(adata, color=\"Bex6\", vmax=1.5, palette=\"Set2\", color_map= plt.cm.Purples,\n",
    "           save=\"_2-cell-marker_Bex6.png\")"
   ]
  },
  {
   "cell_type": "markdown",
   "id": "b65759c1-844a-4e00-a8e4-0004a3d830c2",
   "metadata": {},
   "source": [
    "## 3. Clustering"
   ]
  },
  {
   "cell_type": "code",
   "execution_count": null,
   "id": "83acf974-d5eb-47f7-b5c8-84b972ba5672",
   "metadata": {},
   "outputs": [],
   "source": [
    "sc.pl.umap(adata, color=[\"leiden_groups\"], save=\"_leiden_groups.png\")"
   ]
  },
  {
   "cell_type": "code",
   "execution_count": null,
   "id": "ff67cf4e-a37f-4521-b23c-6de6fd92613e",
   "metadata": {},
   "outputs": [],
   "source": [
    "sc.pl.umap(adata, color='leiden_groups', legend_loc='on data', title='', frameon=True, save=\"_leiden_groups_ON.png\") "
   ]
  },
  {
   "cell_type": "markdown",
   "id": "72afea05-b947-421d-b657-11b7af04a3d3",
   "metadata": {},
   "source": [
    "## 4. Classify based on developmental markers"
   ]
  },
  {
   "cell_type": "code",
   "execution_count": null,
   "id": "1caf42c7-65cb-4f50-a173-4f2d84204586",
   "metadata": {},
   "outputs": [],
   "source": [
    "sc.pl.umap(adata, color=[\"Subpop_scaled_scores\"], s=40, \n",
    "palette={\"2-cell-like\": \"DARKRED\",\"8-cell-like\": \"ORANGE\",\"Epi-like\": \"YELLOWGREEN\",\n",
    "         \"TE-like\": \"SEAGREEN\",\"prE-like\":\"CORNFLOWERBLUE\"},\n",
    "          save=\"_Subpop_scaled_scores.png\")"
   ]
  },
  {
   "cell_type": "code",
   "execution_count": null,
   "id": "c621e5b9-4002-44e0-9028-befc59e1b523",
   "metadata": {},
   "outputs": [],
   "source": [
    "sc.pl.dotplot(adata, ['2-cell-like','8-cell-like','EPI','TE', \"prE\"], groupby=\"Subpop_scaled_scores\", \n",
    "              standard_scale='var', save=\"_Subpop_scaled_scores_lineages.png\") "
   ]
  },
  {
   "cell_type": "markdown",
   "id": "c8e0c504-b1ca-40db-9465-6fbd32eacd06",
   "metadata": {},
   "source": [
    "#### Count cells in each group"
   ]
  },
  {
   "cell_type": "code",
   "execution_count": null,
   "id": "0b4276f7-be96-4d17-9ffb-6986762cf7f2",
   "metadata": {},
   "outputs": [],
   "source": [
    "sns.countplot(data=adata.obs, x=\"leiden_groups\", hue=\"Treatment\", \n",
    "              order=[\"E3.5_Mixed\", \"E3.5_TE\", \"E3.5_ICM\", \"E3.5_PrE\", \"E4.5_TE\", \"E4.5_Epi\", \"E4.5_PrE\"])\n",
    "plt.xticks(rotation=45)\n",
    "#plt.ylim(0,800)\n",
    "plt.savefig(DESKTOP + \"bar-plot_leiden_groups_genotype.png\", dpi=300)"
   ]
  },
  {
   "cell_type": "code",
   "execution_count": null,
   "id": "3da2c547-7c9d-41ed-9dfe-0dc7c889662f",
   "metadata": {},
   "outputs": [],
   "source": [
    "sns.countplot(data=adata.obs, x=\"Subpop_scaled_scores\", hue=\"Treatment\", \n",
    "              #order=[\"E3.5_Mixed\", \"E3.5_TE\", \"E3.5_ICM\", \"E3.5_PrE\", \"E4.5_TE\", \"E4.5_Epi\", \"E4.5_PrE\"]\n",
    "             )\n",
    "plt.xticks(rotation=45)\n",
    "#plt.ylim(0,800)\n",
    "plt.legend(loc='center left', bbox_to_anchor=(1, 0.5))\n",
    "plt.tight_layout()\n",
    "plt.savefig(DESKTOP + \"bar-plot_leiden_groups_genotype.png\", dpi=300)"
   ]
  },
  {
   "cell_type": "code",
   "execution_count": null,
   "id": "130a32b5-ecd6-46a9-936a-67a2577e8201",
   "metadata": {},
   "outputs": [],
   "source": [
    "ratios = adata.obs.groupby([\"Stage\",\"Treatment\"])[\"Subpop_scaled_scores\"].value_counts(normalize=True)\n",
    "ratios = pd.DataFrame(ratios).reset_index()\n",
    "ratios.head(2)"
   ]
  },
  {
   "cell_type": "code",
   "execution_count": null,
   "id": "447588ef-e7e9-498a-ae5d-ddfb32972892",
   "metadata": {},
   "outputs": [],
   "source": [
    "sns.catplot(data=ratios, x=\"Subpop_scaled_scores\", y=\"proportion\", hue=\"Treatment\", kind=\"bar\",\n",
    "            ci=None, legend=False, legend_out=True, aspect=1.5)\n",
    "#plt.xticks(rotation=45)\n",
    "#plt.ylim(0,800)\n",
    "plt.legend(loc='center left', bbox_to_anchor=(1, 0.5))\n",
    "plt.tight_layout()\n",
    "plt.savefig(DESKTOP + \"bar-plot_Subpop_scaled_scores.png\", dpi=300)"
   ]
  },
  {
   "cell_type": "code",
   "execution_count": null,
   "id": "9bc49561-fe34-4342-ba9c-55f45000a504",
   "metadata": {},
   "outputs": [],
   "source": [
    "ratios2 = adata.obs.groupby([\"Sample\"])[\"Subpop_scaled_scores\"].value_counts(normalize=True)\n",
    "ratios2 = pd.DataFrame(ratios2).reset_index()\n",
    "ratios2.head(2)"
   ]
  },
  {
   "cell_type": "code",
   "execution_count": null,
   "id": "b8034167-fa39-4985-a51b-8bd295bfe910",
   "metadata": {},
   "outputs": [],
   "source": [
    "sns.catplot(data=ratios2, x=\"Sample\", y=\"proportion\", hue=\"Subpop_scaled_scores\", kind=\"bar\",\n",
    "            ci=None, legend=False, legend_out=True, aspect=1.5)\n",
    "#plt.xticks(rotation=45)\n",
    "#plt.ylim(0,800)\n",
    "plt.legend(loc='center left', bbox_to_anchor=(1, 0.5))\n",
    "plt.tight_layout()\n",
    "plt.savefig(DESKTOP + \"bar-plot_Subpop_scaled_scores.png\", dpi=300)"
   ]
  },
  {
   "cell_type": "code",
   "execution_count": null,
   "id": "d4e7a083-13f5-464f-b357-671160951222",
   "metadata": {},
   "outputs": [],
   "source": [
    "subpop_markers = {\"2-cell-like\": [\"Gm8300\", \"Zfp352\", \"Plk2\", \"Fgf1\"],\n",
    "                  \"8-cell-like\": [\"Alppl2\", \"Rnf7\", \"Gm12617\", \"Sugt1\"],\n",
    "                  \"ICM/Epiblast\": [\"Sox2\", \"Klf4\", \"Utf1\", \"Nanog\", \"Esrrb\"],\n",
    "                  \"Trophectoderm\": [\"Krt8\", \"Krt18\", \"Tspan8\", \"Id2\", \"Dppa1\"],\n",
    "                  \"Pr. Endoderm\": [\"Gata4\", \"Gata6\", \"Runx1\", \"Pdgfra\", \"Creb3l2\"],\n",
    "                 }"
   ]
  },
  {
   "cell_type": "code",
   "execution_count": null,
   "id": "08f33a4b-7815-4635-acd1-be1325a61d79",
   "metadata": {},
   "outputs": [],
   "source": [
    "sc.pl.dotplot(adata, subpop_markers, groupby=\"Subpop_scaled_scores\", standard_scale=\"var\",\n",
    "             save=\"_subpop_markers.png\")"
   ]
  },
  {
   "cell_type": "code",
   "execution_count": null,
   "id": "8bed78ae-ed0a-4a48-87f6-a916c96cf73a",
   "metadata": {},
   "outputs": [],
   "source": []
  },
  {
   "cell_type": "markdown",
   "id": "cd198d4e-0735-44ad-9f33-4038e7aa0fe0",
   "metadata": {},
   "source": [
    "# 5. MERVL and other markers\n",
    "Compute MERVL sequences from publication below using bash"
   ]
  },
  {
   "cell_type": "code",
   "execution_count": null,
   "id": "2ea98366-0201-46fa-b5c2-39dc765a369b",
   "metadata": {},
   "outputs": [],
   "source": [
    "sc.pl.umap(adata, color=[\"MERVL\", \"MERVL_E3.5\", \"Treatment\"], palette=\"Set2\", color_map= plt.cm.Purples)\n",
    "sc.pl.umap(adata, color=[\"MERVL\", \"MERVL_E3.5\", \"Treatment\"])"
   ]
  },
  {
   "cell_type": "code",
   "execution_count": null,
   "id": "c30c7f24-509a-4c66-893e-064cbf581ba9",
   "metadata": {},
   "outputs": [],
   "source": [
    "sc.pl.umap(adata, color=[\"MERVL\", \"Treatment\"], vmin=1, vmax=6, palette=\"Set2\", color_map= plt.cm.Purples,\n",
    "           save=\"_MERVL_Treat.png\")"
   ]
  },
  {
   "cell_type": "code",
   "execution_count": null,
   "id": "3ed92d67-bb23-45d9-8465-604477106d45",
   "metadata": {},
   "outputs": [],
   "source": [
    "sc.pl.violin(adata, [\"MERVL\"], groupby=\"Sample\", rotation=90, jitter=0.35,\n",
    "             save=\"_MERVL_Sample.png\") "
   ]
  },
  {
   "cell_type": "code",
   "execution_count": null,
   "id": "a7e773f1-7ee7-47c9-9b84-d4b880c55d53",
   "metadata": {},
   "outputs": [],
   "source": [
    "sc.pl.dotplot(adata, [\"MERVL\"], groupby=\"Sample\", save=\"_MERVL.png\")  #, standard_scale=\"var\""
   ]
  },
  {
   "cell_type": "code",
   "execution_count": null,
   "id": "426de6c8-0e97-4799-8e26-4960e7aa2fce",
   "metadata": {},
   "outputs": [],
   "source": [
    "adata"
   ]
  },
  {
   "cell_type": "code",
   "execution_count": null,
   "id": "4f8b4ba4-9fb6-4814-b533-5c2d4ae86f0b",
   "metadata": {},
   "outputs": [],
   "source": [
    "adata.obs.Sample.unique()"
   ]
  },
  {
   "cell_type": "code",
   "execution_count": null,
   "id": "6919a3b3-1a8e-4b8a-96c5-7a61518e69f2",
   "metadata": {},
   "outputs": [],
   "source": [
    "adata_KO = adata[adata.obs.Treatment == \"KO\"]"
   ]
  },
  {
   "cell_type": "code",
   "execution_count": null,
   "id": "520206c3-7070-4585-afa9-7b4294e7f493",
   "metadata": {},
   "outputs": [],
   "source": [
    "sc.pl.violin(adata_KO, [\"MERVL\"], groupby=\"Subpop_scaled_scores\", rotation=90, jitter=0.35,\n",
    "             save=\"_MERVL_KO_Subpop.png\")  "
   ]
  },
  {
   "cell_type": "code",
   "execution_count": null,
   "id": "c528256f-96aa-49fb-bfea-bacef5f63250",
   "metadata": {},
   "outputs": [],
   "source": [
    "adata_E3_5_KO = adata[adata.obs.Sample == \"E3.5_KO\"]"
   ]
  },
  {
   "cell_type": "code",
   "execution_count": null,
   "id": "027d7641-2fcc-4958-99e0-be7486eb2788",
   "metadata": {},
   "outputs": [],
   "source": [
    "sc.pl.umap(adata_E3_5_KO, color=[\"MERVL\", \"Subpop_scaled_scores\"], s=200,\n",
    "          save=\"_MERVL_E3.5_KO_Subpop.png\")"
   ]
  },
  {
   "cell_type": "code",
   "execution_count": null,
   "id": "837a1b39-2a31-4aee-a311-37e4d7ec8fba",
   "metadata": {},
   "outputs": [],
   "source": []
  },
  {
   "cell_type": "code",
   "execution_count": null,
   "id": "65ead5a8-2428-4f9e-abcd-2d2dcdc8903b",
   "metadata": {},
   "outputs": [],
   "source": [
    "sc.pl.violin(adata, [\"Nanog\", \"Pou5f1\", \"Gata6\"], groupby=\"Sample\", rotation=90, jitter=0.35,\n",
    "             save=\"_Nanog_Oct4_Gata6_Sample.png\") "
   ]
  },
  {
   "cell_type": "code",
   "execution_count": null,
   "id": "628d82e8-36c5-4674-b83c-59badb61abe4",
   "metadata": {},
   "outputs": [],
   "source": [
    "sc.pl.violin(adata, [\"Otx2\"], groupby=\"Sample\", rotation=90, jitter=0.35,\n",
    "             save=\"_Otx2_Sample.png\") "
   ]
  },
  {
   "cell_type": "code",
   "execution_count": null,
   "id": "f37a84d3-1361-4dd6-9a05-67e5384a7e89",
   "metadata": {},
   "outputs": [],
   "source": [
    "sc.pl.violin(adata, [\"Otx2\"], groupby=\"Subpop_scaled_scores\", rotation=90, jitter=0.35,\n",
    "             save=\"_Otx2_Subpop.png\") "
   ]
  },
  {
   "cell_type": "code",
   "execution_count": null,
   "id": "bee7cd86-3e26-413d-9bc6-f58e53feb58b",
   "metadata": {},
   "outputs": [],
   "source": [
    "# This new column does not allow saving the new .h5ad file ¿¿¿????\n",
    "adata.obs['leiden_groups_genotype'] = adata.obs['leiden_groups'].astype(\"string\") + '_' + adata.obs['Treatment'].astype(\"string\")\n",
    "adata.obs.leiden_groups_genotype = adata.obs.leiden_groups_genotype.astype(\"category\")"
   ]
  },
  {
   "cell_type": "code",
   "execution_count": null,
   "id": "55cf8c41-cb5c-4cb6-a23f-55a60c0dace3",
   "metadata": {},
   "outputs": [],
   "source": [
    "adata_E3_5 = adata[adata.obs.Stage == \"E3.5\"]\n",
    "adata_E4_5 = adata[adata.obs.Stage == \"E4.5\"]\n",
    "adata_Epi = adata[adata.obs.Subpop_scaled_scores == \"Epi-like\"]\n",
    "adata_Epi_E4_5 = adata[adata.obs.Stage == \"E4.5\"]"
   ]
  },
  {
   "cell_type": "code",
   "execution_count": null,
   "id": "477f317a-0818-4042-99c5-72e2b8534757",
   "metadata": {},
   "outputs": [],
   "source": [
    "sc.pl.violin(adata, [\"Nanog\", \"Pou5f1\", \"Sox2\"], groupby=\"Sample\", rotation=90, jitter=0.35,\n",
    "             save=\"_Nanog_OCt4_Sox2_Sample.png\") "
   ]
  },
  {
   "cell_type": "code",
   "execution_count": null,
   "id": "5d4b9233-d3c5-4136-a80d-a62675ec1db9",
   "metadata": {},
   "outputs": [],
   "source": [
    "sc.pl.violin(adata_E3_5, [\"Nanog\", \"Pou5f1\", \"Sox2\"], groupby=\"Sample\", rotation=90, jitter=0.35,\n",
    "             save=\"_E3.5_Nanog_OCt4_Sox2_Sample.png\") "
   ]
  },
  {
   "cell_type": "code",
   "execution_count": null,
   "id": "115acace-a3bb-4f00-bb0e-fdd181291523",
   "metadata": {},
   "outputs": [],
   "source": [
    "sc.pl.violin(adata_E4_5, [\"Nanog\", \"Pou5f1\", \"Sox2\"], groupby=\"Sample\", rotation=90, jitter=0.35,\n",
    "             save=\"_E4.5_Nanog_OCt4_Sox2_Sample.png\") "
   ]
  },
  {
   "cell_type": "code",
   "execution_count": null,
   "id": "b3d13131-c164-45ea-95f8-69daac1b04bb",
   "metadata": {},
   "outputs": [],
   "source": [
    "sc.pl.violin(adata_E3_5, [\"Cdx2\", \"Gata3\", \"Gata4\", \"Gata6\"], groupby=\"Sample\", rotation=90, jitter=0.35,\n",
    "             save=\"_E3.5_Gata2_4_6_Sample.png\") "
   ]
  },
  {
   "cell_type": "code",
   "execution_count": null,
   "id": "ab1ead33-b7fe-4de6-89c2-e1ccf1b76bd3",
   "metadata": {},
   "outputs": [],
   "source": [
    "sc.pl.violin(adata_E4_5, [\"Cdx2\", \"Gata3\", \"Gata4\", \"Gata6\"], groupby=\"Sample\", rotation=90, jitter=0.35,\n",
    "             save=\"_E4.5_Gata2_4_6_Sample.png\") "
   ]
  },
  {
   "cell_type": "code",
   "execution_count": null,
   "id": "3d00db92-573b-4f11-92ce-1d1df3a85ad1",
   "metadata": {},
   "outputs": [],
   "source": []
  },
  {
   "cell_type": "code",
   "execution_count": null,
   "id": "4ac4aa37-c166-49de-8931-bcf497caebbb",
   "metadata": {},
   "outputs": [],
   "source": []
  },
  {
   "cell_type": "code",
   "execution_count": null,
   "id": "cebe6af7-53c9-4653-a3c9-f3c59a47a735",
   "metadata": {},
   "outputs": [],
   "source": [
    "sc.pl.violin(adata_E3_5, [\"Nanog\", \"Pou5f1\", \"Sox2\", \"Cdx2\", \"Gata6\"], groupby=\"Sample\", rotation=90, jitter=0.35,\n",
    "             save=\"_E3.5_Pluri_Cdx2_Gata6_Sample.png\") "
   ]
  },
  {
   "cell_type": "code",
   "execution_count": null,
   "id": "a32949ed-5926-442b-a8fb-c5a686060f7b",
   "metadata": {},
   "outputs": [],
   "source": [
    "sc.pl.violin(adata_E4_5, [\"Nanog\", \"Pou5f1\", \"Sox2\", \"Cdx2\", \"Gata6\"], groupby=\"Sample\", rotation=90, jitter=0.35,\n",
    "             save=\"_E4.5_Pluri_Cdx2_Gata6_Sample.png\") "
   ]
  },
  {
   "cell_type": "code",
   "execution_count": null,
   "id": "5f70bcaf-8fbf-4c0f-8afa-67a8dd0953f4",
   "metadata": {},
   "outputs": [],
   "source": [
    "sc.pl.violin(adata_E3_5, [\"Nanog\", \"Pou5f1\", \"Sox2\", \"Cdx2\", \"Gata6\"], groupby=\"leiden_groups_genotype\", rotation=90, jitter=0.35,\n",
    "             order=[\"E3.5_ICM_Control\", \"E3.5_Mixed_KO\", \"E3.5_ICM_dox\", \"E3.5_TE_Control\", \"E3.5_TE_KO\", \"E3.5_TE_dox\"],\n",
    "             save=\"_E3.5_Pluri_Cdx2_Gata6_leiden_groups_genotype.png\") "
   ]
  },
  {
   "cell_type": "code",
   "execution_count": null,
   "id": "e0475b19-8e96-48ba-9f72-16b62d206289",
   "metadata": {},
   "outputs": [],
   "source": [
    "sc.pl.violin(adata_E4_5, [\"Nanog\", \"Pou5f1\", \"Sox2\", \"Cdx2\", \"Gata6\"], groupby=\"leiden_groups_genotype\", rotation=90, jitter=0.35,\n",
    "             order=[\"E4.5_Epi_Control\", \"E4.5_Epi_KO\", \"E4.5_Epi_dox\", \"E4.5_TE_Control\", \"E4.5_TE_KO\", \"E4.5_TE_dox\", \n",
    "                         \"E4.5_PrE_Control\", \"E4.5_PrE_KO\", \"E4.5_PrE_dox\"],\n",
    "             save=\"_E4.5_Pluri_Cdx2_Gata6_leiden_groups_genotype.png\"\n",
    "            ) "
   ]
  },
  {
   "cell_type": "code",
   "execution_count": null,
   "id": "cd2e4b93-eed5-419e-9159-0a318666cf80",
   "metadata": {},
   "outputs": [],
   "source": [
    "sc.pl.violin(adata_E4_5, [\"Otx2\"], groupby=\"leiden_groups_genotype\", rotation=90, jitter=0.35,\n",
    "             order=[\"E4.5_Epi_Control\", \"E4.5_Epi_KO\", \"E4.5_Epi_dox\", \"E4.5_TE_Control\", \"E4.5_TE_KO\", \"E4.5_TE_dox\", \n",
    "                         \"E4.5_PrE_Control\", \"E4.5_PrE_KO\", \"E4.5_PrE_dox\"],\n",
    "             save=\"_E4.5_Otx2_leiden_groups_genotype.png\"\n",
    "            ) "
   ]
  },
  {
   "cell_type": "code",
   "execution_count": null,
   "id": "a59d6b4a-9396-440c-be3f-25e51418dcf5",
   "metadata": {},
   "outputs": [],
   "source": [
    "sc.pl.violin(adata_Epi, [\"Otx2\"], groupby=\"Sample\", rotation=90, jitter=0.35,\n",
    "             save=\"_Epi-like_Otx2_Sample.png\") "
   ]
  },
  {
   "cell_type": "code",
   "execution_count": null,
   "id": "fb6aa0d3-2347-4a92-b501-1b6f8d6ad6e9",
   "metadata": {},
   "outputs": [],
   "source": [
    "sc.pl.violin(adata_Epi, [\"Nanog\", \"Pou5f1\", \"Gata6\"], groupby=\"Sample\", rotation=90, jitter=0.35,\n",
    "             save=\"_Epi_Nanog-Oct-Gata6_Sample.png\") "
   ]
  },
  {
   "cell_type": "code",
   "execution_count": null,
   "id": "1efc0ce6-9217-4949-981b-47f34982b454",
   "metadata": {},
   "outputs": [],
   "source": [
    "sc.pl.violin(adata_Epi, [\"Gata3\", \"Gata4\", \"Gata6\"], groupby=\"Sample\", rotation=90, jitter=0.35,\n",
    "             save=\"__Nanog-Oct-Gata6_Sample.png\") "
   ]
  },
  {
   "cell_type": "code",
   "execution_count": null,
   "id": "41382934-7a93-4c6e-8418-509a42186983",
   "metadata": {
    "scrolled": true
   },
   "outputs": [],
   "source": [
    "sc.pl.violin(adata_Epi_E4_5, [\"Nanog\", \"Pou5f1\", \"Gata6\"], groupby=\"Sample\", rotation=90, jitter=0.35,\n",
    "             save=\"_Epi_E4_5_Nanog-Oct-Gata6_Sample.png\") "
   ]
  },
  {
   "cell_type": "code",
   "execution_count": null,
   "id": "abaeb43a-5d12-43e6-9ab6-1f7025d9b8f5",
   "metadata": {},
   "outputs": [],
   "source": [
    "sc.pl.violin(adata_Epi_E4_5, [\"Nanog\", \"Pou5f1\", \"Gata6\"], groupby=\"leiden_groups_genotype\", rotation=90, jitter=0.35,\n",
    "             save=\"_Epi_E4_5_Nanog-Oct-Gata6_leiden.png\") "
   ]
  },
  {
   "cell_type": "markdown",
   "id": "9f88fb76-5511-4606-b7fa-a810b10fda45",
   "metadata": {},
   "source": [
    "# 6. miR-203 KO versus Control"
   ]
  },
  {
   "cell_type": "code",
   "execution_count": null,
   "id": "2fbf405c-8fe5-4b0b-b09c-6213ed25b905",
   "metadata": {},
   "outputs": [],
   "source": [
    "adata.obs.Treatment.unique()"
   ]
  },
  {
   "cell_type": "code",
   "execution_count": null,
   "id": "7cbb7cce-5b94-41d9-9e78-7dc24ada6677",
   "metadata": {},
   "outputs": [],
   "source": [
    "adata_KO = adata[adata.obs.Treatment != 'dox']\n",
    "adata_KO"
   ]
  },
  {
   "cell_type": "code",
   "execution_count": null,
   "id": "180d1ced-5edd-4909-98a4-70d323728991",
   "metadata": {},
   "outputs": [],
   "source": [
    "sc.pl.umap(adata_KO, color=[\"Sample\"], palette=blues_greens, save=\"_KO_Samples.png\")"
   ]
  },
  {
   "cell_type": "code",
   "execution_count": null,
   "id": "500c4eb2-8602-40e8-bdc4-5194041bc2d0",
   "metadata": {},
   "outputs": [],
   "source": []
  },
  {
   "cell_type": "markdown",
   "id": "80ea1bcd-1cc4-4aff-813e-34f0745daa0a",
   "metadata": {},
   "source": [
    "### Check KO_E3.5"
   ]
  },
  {
   "cell_type": "code",
   "execution_count": null,
   "id": "39a85af9-7da2-49a6-a9ac-a970659dafda",
   "metadata": {},
   "outputs": [],
   "source": [
    "adata_KO_3_5 = adata[adata.obs.Sample == 'E3.5_KO']"
   ]
  },
  {
   "cell_type": "code",
   "execution_count": null,
   "id": "cfe45bd4-73c6-4f0d-b429-90beb8808224",
   "metadata": {},
   "outputs": [],
   "source": [
    "sc.pl.umap(adata_KO_3_5, color=[\"leiden_groups\"], s=200, )"
   ]
  },
  {
   "cell_type": "code",
   "execution_count": null,
   "id": "ad2299ad-9147-4653-ba68-6aae74a9e26d",
   "metadata": {},
   "outputs": [],
   "source": [
    "sc.pl.umap(adata_KO_3_5, color=[\"Subpop_scaled_scores\"], s=200, save=\"_KO-E3.5_Subpop_scaled_scores.png\")"
   ]
  },
  {
   "cell_type": "code",
   "execution_count": null,
   "id": "50d8b995-14ec-48d0-936a-0e9bfd972e22",
   "metadata": {},
   "outputs": [],
   "source": [
    "sc.pl.umap(adata_KO_3_5, color=[\"Subpop_scaled_scores\"], groups=[\"2-cell-like\"], s=200, save=\"_KO-E3.5_Subpop_scaled_scores_2-cell.png\")"
   ]
  },
  {
   "cell_type": "code",
   "execution_count": null,
   "id": "edb4b91e-3f9b-4344-a5fe-fe1a877d49bf",
   "metadata": {},
   "outputs": [],
   "source": [
    "sc.pl.umap(adata_KO_3_5, color=[\"Zfp352\"], groups=[\"2-cell-like\"], s=200, save=\"_KO-E3.5_Subpop_scaled_scores_2lcell_Zfp352.png\")"
   ]
  },
  {
   "cell_type": "code",
   "execution_count": null,
   "id": "938df9f6-c8b3-465d-9f26-974e5f0c867a",
   "metadata": {},
   "outputs": [],
   "source": [
    "sc.pl.dotplot(adata_KO_3_5, ['2-cell-like','8-cell-like','EPI','TE', \"prE\"], groupby=\"Subpop_scaled_scores\", \n",
    "              standard_scale='var', save=\"_KO-E3.5_Subpop_scaled_scores_lineages.png\") "
   ]
  },
  {
   "cell_type": "code",
   "execution_count": null,
   "id": "3c0b16f8-8776-47a6-becd-34bd95e29659",
   "metadata": {},
   "outputs": [],
   "source": []
  },
  {
   "cell_type": "markdown",
   "id": "728a4019-a574-45fa-92d8-74d275f5c619",
   "metadata": {},
   "source": [
    "# 7. miR-203 KI versus Control"
   ]
  },
  {
   "cell_type": "code",
   "execution_count": null,
   "id": "5ee2fbf2-26e9-4097-af4a-110c97bef8fe",
   "metadata": {},
   "outputs": [],
   "source": [
    "adata_KI = adata[adata.obs.Treatment != 'KO']\n",
    "adata_KI"
   ]
  },
  {
   "cell_type": "code",
   "execution_count": null,
   "id": "952f31ba-96fe-4588-8767-5df89c938893",
   "metadata": {},
   "outputs": [],
   "source": [
    "adata"
   ]
  },
  {
   "cell_type": "code",
   "execution_count": null,
   "id": "20cb6d39-049a-41e3-81c8-a3fac0cecfbd",
   "metadata": {},
   "outputs": [],
   "source": [
    "sc.pl.umap(adata_KI, color=[\"Sample\"], palette=blues_greens, save=\"_KI_Samples.png\")"
   ]
  },
  {
   "cell_type": "code",
   "execution_count": null,
   "id": "3b669e6b-2fec-417c-b13c-e223066e8609",
   "metadata": {},
   "outputs": [],
   "source": [
    "sc.pl.violin(adata_KI, [\"2-cell-like\", \"8-cell-like\"], groupby=\"Sample\", jitter=0.3)"
   ]
  },
  {
   "cell_type": "code",
   "execution_count": null,
   "id": "e73dce6e-c02d-4c62-a2bc-5ebbcf6f2726",
   "metadata": {},
   "outputs": [],
   "source": [
    "sc.pl.violin(adata_KI, [\"2-cell-like\", \"8-cell-like\"], groupby=\"leiden_groups_genotype\", jitter=0.3,\n",
    "            rotation=90)"
   ]
  },
  {
   "cell_type": "markdown",
   "id": "a75f59a3-8f8a-4077-a682-09e3b4d042ad",
   "metadata": {},
   "source": [
    "# 8. Velocity and Pseudotime"
   ]
  },
  {
   "cell_type": "markdown",
   "id": "9ec7758b-cf30-4902-a6fc-ef77a6c22979",
   "metadata": {},
   "source": [
    "## Only in KO E3.5 samples"
   ]
  },
  {
   "cell_type": "code",
   "execution_count": null,
   "id": "f8e74ca0-bc40-4c98-8a6f-2305c00bb91b",
   "metadata": {},
   "outputs": [],
   "source": [
    "adata.layers"
   ]
  },
  {
   "cell_type": "code",
   "execution_count": null,
   "id": "39a55a99-2ed6-4fb5-a1e2-e96bb41f2826",
   "metadata": {},
   "outputs": [],
   "source": [
    "scv.pl.proportions(adata_KO_3_5, groupby='scaled_scores', save= DESKTOP + \"scv.pl.KO-E3.5_scaled_scores.png\")"
   ]
  },
  {
   "cell_type": "code",
   "execution_count": null,
   "id": "2cab3745-ae3f-4929-8e9f-673d02cc2dcd",
   "metadata": {},
   "outputs": [],
   "source": [
    "# pre-process\n",
    "scv.pp.filter_and_normalize(adata_KO_3_5)\n",
    "scv.pp.moments(adata_KO_3_5)"
   ]
  },
  {
   "cell_type": "code",
   "execution_count": null,
   "id": "4a6a68c8-ad2c-4ca5-8876-7faf71335711",
   "metadata": {},
   "outputs": [],
   "source": [
    "#compute velocity\n",
    "scv.tl.velocity(adata_KO_3_5, mode='stochastic')\n",
    "scv.tl.velocity_graph(adata_KO_3_5)"
   ]
  },
  {
   "cell_type": "code",
   "execution_count": null,
   "id": "de08da81-f62d-457f-a990-efd9b2c7c145",
   "metadata": {},
   "outputs": [],
   "source": [
    "scv.pl.velocity_embedding(adata_KO_3_5, basis='umap',frameon=False, save= DESKTOP + \"velocity_embedding_KO-E3.5_scaled_scores.png\")"
   ]
  },
  {
   "cell_type": "code",
   "execution_count": null,
   "id": "7bd29f78-4860-4ebc-b292-726367fba21d",
   "metadata": {},
   "outputs": [],
   "source": [
    "scv.pl.velocity_embedding_grid(adata_KO_3_5, basis='umap',\n",
    "                               frameon=False, color=['Subpop_scaled_scores'],title='',\n",
    "                               scale=0.25,\n",
    "                               save= DESKTOP + \"velocity_embedding_grid_KO-E3.5_scaled_scores.png\"\n",
    "                              )"
   ]
  },
  {
   "cell_type": "code",
   "execution_count": null,
   "id": "0fcb3e9c-98ae-4e2b-9fde-d2d835cbec67",
   "metadata": {},
   "outputs": [],
   "source": [
    "palette2 = {\"2-cell-like\": \"DARKRED\",\"8-cell-like\": \"ORANGE\",\"Epi-like\": \"YELLOWGREEN\",\n",
    "            \"TE-like\": \"SEAGREEN\",\"prE-like\":\"CORNFLOWERBLUE\", \"Other\":\"GRAY\"}"
   ]
  },
  {
   "cell_type": "code",
   "execution_count": null,
   "id": "1e71f76a-22ed-4ada-83e1-c43ecb15a695",
   "metadata": {},
   "outputs": [],
   "source": [
    "scv.pl.velocity_embedding_grid(adata_KO_3_5, basis='umap',frameon=False, color='Subpop_scaled_scores',title='',scale=0.25,\n",
    "                               palette=palette2)"
   ]
  },
  {
   "cell_type": "code",
   "execution_count": null,
   "id": "48048cfb-9b0a-4849-b645-b571ad419b87",
   "metadata": {},
   "outputs": [],
   "source": [
    "scv.tl.velocity_confidence(adata_KO_3_5)\n",
    "keys = 'velocity_length','velocity_confidence'\n",
    "scv.pl.scatter(adata_KO_3_5,c=keys,cmap='coolwarm',perc=[5,95], save= DESKTOP + \"velocity_confidence_KO-E3.5_scaled_scores.png\")"
   ]
  },
  {
   "cell_type": "code",
   "execution_count": null,
   "id": "16878fdf-6559-4285-bf9c-01976c2ad284",
   "metadata": {},
   "outputs": [],
   "source": [
    "scv.pl.velocity_graph(adata_KO_3_5,threshold=0.1,color='Subpop_scaled_scores',\n",
    "                      save= DESKTOP + \"velocity_graph_KO-E3.5_scaled_scores.png\")"
   ]
  },
  {
   "cell_type": "code",
   "execution_count": null,
   "id": "c5b6e1a1-a080-4f91-b4e6-4745104e5cbd",
   "metadata": {},
   "outputs": [],
   "source": [
    "scv.pl.velocity_graph(adata_KO_3_5,threshold=0.1,color='Subpop_scaled_scores',\n",
    "                      alpha=0.5,\n",
    "                      save= DESKTOP + \"velocity_graph_KO-E3.5_scaled_scores_a0.5.png\"\n",
    "                     )"
   ]
  },
  {
   "cell_type": "code",
   "execution_count": null,
   "id": "10cf81ec-4a7e-4591-8960-f762c4a95a96",
   "metadata": {},
   "outputs": [],
   "source": [
    "adata_KO_3_5.obs.Subpop_scaled_scores.dtype"
   ]
  },
  {
   "cell_type": "code",
   "execution_count": null,
   "id": "87f4f13a-e3ee-4d9b-a944-816e20f41d3d",
   "metadata": {},
   "outputs": [],
   "source": [
    "scv.pl.velocity_embedding_stream(adata_KO_3_5, basis='umap',color='Subpop_scaled_scores',frameon=False,\n",
    "                                 save= DESKTOP + \"velocity_embed_stream_KO-E3.5_scaled_scores.png\")"
   ]
  },
  {
   "cell_type": "code",
   "execution_count": null,
   "id": "564b4c8f-f7a3-413b-913c-567009929799",
   "metadata": {},
   "outputs": [],
   "source": [
    "scv.tl.velocity_pseudotime(adata_KO_3_5,root_key=45, end_key=1)\n",
    "scv.pl.scatter(adata_KO_3_5, color='velocity_pseudotime', cmap='gnuplot', size=150,\n",
    "               save= DESKTOP + \"velocity_pseudotime_KO-E3.5_scaled_scores.png\")"
   ]
  },
  {
   "cell_type": "code",
   "execution_count": null,
   "id": "2b548979-c57c-442f-954b-63423e3fbe40",
   "metadata": {},
   "outputs": [],
   "source": [
    "adata_KO_3_5.uns['neighbors']['distances'] = adata_KO_3_5.obsp['distances']\n",
    "adata_KO_3_5.uns['neighbors']['connectivities'] = adata_KO_3_5.obsp['connectivities']\n",
    "scv.tl.paga(adata_KO_3_5, groups='Subpop_scaled_scores')\n",
    "df = scv.get_df(adata_KO_3_5, 'paga/transitions_confidence').T\n",
    "df.style.background_gradient(cmap='Blues').format('{:.2g}')"
   ]
  },
  {
   "cell_type": "code",
   "execution_count": null,
   "id": "fd14dc37-bb1e-46fa-a0da-31f3ecf0adf0",
   "metadata": {
    "scrolled": true
   },
   "outputs": [],
   "source": [
    "scv.pl.paga(adata_KO_3_5, basis='umap', color='Subpop_scaled_scores', size=100, alpha=.6, \n",
    "            min_edge_width=2, node_size_scale=1.5, save= DESKTOP + \"velocity_paga_KO-E3.5_scaled_scores.png\")"
   ]
  },
  {
   "cell_type": "code",
   "execution_count": null,
   "id": "51f0279a-0571-4ee6-99bd-debe47a26b3b",
   "metadata": {},
   "outputs": [],
   "source": []
  },
  {
   "cell_type": "code",
   "execution_count": null,
   "id": "21584749-7511-4e31-adc9-d5044330be9b",
   "metadata": {},
   "outputs": [],
   "source": [
    "adata"
   ]
  },
  {
   "cell_type": "code",
   "execution_count": null,
   "id": "def2b5f0-5858-4a8a-8d11-dae4475c88b9",
   "metadata": {},
   "outputs": [],
   "source": []
  }
 ],
 "metadata": {
  "kernelspec": {
   "display_name": "Python 3 (ipykernel)",
   "language": "python",
   "name": "python3"
  },
  "language_info": {
   "codemirror_mode": {
    "name": "ipython",
    "version": 3
   },
   "file_extension": ".py",
   "mimetype": "text/x-python",
   "name": "python",
   "nbconvert_exporter": "python",
   "pygments_lexer": "ipython3",
   "version": "3.8.12"
  }
 },
 "nbformat": 4,
 "nbformat_minor": 5
}
